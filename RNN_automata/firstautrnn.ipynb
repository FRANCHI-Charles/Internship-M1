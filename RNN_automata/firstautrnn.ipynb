{
 "cells": [
  {
   "cell_type": "code",
   "execution_count": 1,
   "metadata": {
    "metadata": {}
   },
   "outputs": [],
   "source": [
    "import matplotlib.pyplot as plt\n",
    "import torch\n",
    "import torch.nn as nn\n",
    "from torch.utils.data import DataLoader, random_split\n",
    "import torch.nn.utils.parametrize as parametrize\n",
    "from tqdm import tqdm"
   ]
  },
  {
   "cell_type": "markdown",
   "metadata": {},
   "source": [
    "## Hyperparameters"
   ]
  },
  {
   "cell_type": "code",
   "execution_count": 2,
   "metadata": {
    "metadata": {}
   },
   "outputs": [],
   "source": [
    "BATCH_SIZE = 200\n",
    "\n",
    "TEST_SIZE = 0.2\n",
    "\n",
    "N_EPOCH = 2\n",
    "LEARNING_RATES = 0.001\n",
    "\n",
    "torch.manual_seed(689)\n",
    "#device = torch.device(\"cuda\" if torch.cuda.is_available() else \"cpu\")\n",
    "device = torch.device(\"cpu\")"
   ]
  },
  {
   "cell_type": "markdown",
   "metadata": {},
   "source": [
    "## Dataset preparations"
   ]
  },
  {
   "cell_type": "code",
   "execution_count": 3,
   "metadata": {
    "metadata": {}
   },
   "outputs": [],
   "source": [
    "from automata import DFA, TorchData, AutomataRNN, ParametrizeRNN\n",
    "from datas import principal"
   ]
  },
  {
   "cell_type": "code",
   "execution_count": 4,
   "metadata": {
    "metadata": {}
   },
   "outputs": [
    {
     "name": "stdout",
     "output_type": "stream",
     "text": [
      "Generate dataset 'even'...\n",
      "Done! in 3.9854 sec\n",
      "Generate 'fix'...\n",
      "Done! in 3.5392 sec\n",
      "Generate 'unique'...\n",
      "Done! in 3.3797 sec\n"
     ]
    }
   ],
   "source": [
    "even, fix, unique = principal(even=True, fix=True, unique=True)"
   ]
  },
  {
   "cell_type": "code",
   "execution_count": 5,
   "metadata": {},
   "outputs": [],
   "source": [
    "def makeloader(automaton:DFA):\n",
    "    train, test = random_split(TorchData(automaton), [1-TEST_SIZE, TEST_SIZE])\n",
    "\n",
    "    train = DataLoader(train, BATCH_SIZE, shuffle=True)\n",
    "    test = next(iter(DataLoader(test, len(test))))\n",
    "\n",
    "    return train, test\n",
    "    \n",
    "\n",
    "evenloader, testeven = makeloader(even)\n",
    "fixloader, testfix = makeloader(fix)\n",
    "uniqueloader, testunique = makeloader(unique)"
   ]
  },
  {
   "cell_type": "markdown",
   "metadata": {},
   "source": [
    "## RNN training"
   ]
  },
  {
   "cell_type": "code",
   "execution_count": 6,
   "metadata": {},
   "outputs": [],
   "source": [
    "def parametrizevsnot(automaton:DFA, loss = nn.BCELoss(), optimizer = torch.optim.Adam, returnautomat=False):\n",
    "    trainloader, test = makeloader(automaton)\n",
    "\n",
    "    noparam = AutomataRNN(automaton, device=device).to(device)\n",
    "    optim = optimizer(noparam.parameters(), lr=LEARNING_RATES)\n",
    "    optim.zero_grad()\n",
    "\n",
    "    losslistnoinit = list()\n",
    "\n",
    "    for epoch in range(N_EPOCH):\n",
    "        trainer = iter(trainloader)\n",
    "        for _ in tqdm(range(len(trainloader)), desc=f\"Epoch {epoch+1}...\", ncols=75):\n",
    "            words, lengths, labels = next(trainer)\n",
    "            labels = labels.to(dtype = torch.float32)\n",
    "\n",
    "            out = noparam(words, lengths)\n",
    "\n",
    "            losslistnoinit.append(loss(out, labels))\n",
    "            losslistnoinit[-1].backward()\n",
    "\n",
    "            optim.step()\n",
    "            optim.zero_grad()\n",
    "\n",
    "        with torch.no_grad():\n",
    "            predictions = noparam.predict(test[0], test[1])\n",
    "            acc = torch.sum(predictions == test[2].reshape(-1), dim=0) * 100 / len(test[2])\n",
    "            print(f\"Done! Trainloss: {losslistnoinit[-1]:.6f}, Test accuracy: {acc:.4f}\")\n",
    "\n",
    "    print(\"\\nNon parametrized RNN done!\\n\")\n",
    "\n",
    "    withparam = ParametrizeRNN(automaton, device=device).to(device)\n",
    "\n",
    "    optim = optimizer(withparam.parameters(), lr=LEARNING_RATES)\n",
    "    optim.zero_grad()\n",
    "\n",
    "    losslistinit = list()\n",
    "\n",
    "    for epoch in range(N_EPOCH):\n",
    "        trainer = iter(trainloader)\n",
    "        for _ in tqdm(range(len(trainloader)), desc=f\"Epoch {epoch+1}...\", ncols=75):\n",
    "            words, lengths, labels = next(trainer)\n",
    "            labels = labels.to(dtype = torch.float32)\n",
    "\n",
    "            out = withparam(words, lengths)\n",
    "\n",
    "            losslistinit.append(loss(out, labels))\n",
    "            losslistinit[-1].backward()\n",
    "\n",
    "            optim.step()\n",
    "            optim.zero_grad()\n",
    "\n",
    "        with torch.no_grad():\n",
    "            predictions = withparam.predict(test[0], test[1])\n",
    "            acc = torch.sum(predictions == test[2].reshape(-1), dim=0) * 100 / len(test[2])\n",
    "            print(f\"Done! Trainloss: {losslistinit[-1]:.6f}, Test accuracy: {acc:.4f}\")\n",
    "\n",
    "    print(\"\\nParametrized RNN done!\")\n",
    "    if returnautomat:\n",
    "        return (losslistnoinit, noparam), (losslistinit, withparam)\n",
    "    else:\n",
    "        return losslistnoinit, losslistinit\n",
    "            "
   ]
  },
  {
   "cell_type": "markdown",
   "metadata": {},
   "source": [
    "### Even"
   ]
  },
  {
   "cell_type": "code",
   "execution_count": 7,
   "metadata": {
    "metadata": {}
   },
   "outputs": [
    {
     "name": "stderr",
     "output_type": "stream",
     "text": [
      "Epoch 1...: 100%|██████████████████████████| 40/40 [00:01<00:00, 37.55it/s]\n"
     ]
    },
    {
     "name": "stdout",
     "output_type": "stream",
     "text": [
      "Done! Trainloss: 0.700114, Test accuracy: 51.9500\n"
     ]
    },
    {
     "name": "stderr",
     "output_type": "stream",
     "text": [
      "Epoch 2...: 100%|██████████████████████████| 40/40 [00:00<00:00, 41.20it/s]\n"
     ]
    },
    {
     "name": "stdout",
     "output_type": "stream",
     "text": [
      "Done! Trainloss: 0.700668, Test accuracy: 51.9000\n",
      "\n",
      "Non parametrized RNN done!\n",
      "\n"
     ]
    },
    {
     "name": "stderr",
     "output_type": "stream",
     "text": [
      "Epoch 1...: 100%|██████████████████████████| 40/40 [00:01<00:00, 37.98it/s]\n"
     ]
    },
    {
     "name": "stdout",
     "output_type": "stream",
     "text": [
      "Done! Trainloss: 0.694074, Test accuracy: 52.0000\n"
     ]
    },
    {
     "name": "stderr",
     "output_type": "stream",
     "text": [
      "Epoch 2...: 100%|██████████████████████████| 40/40 [00:00<00:00, 45.94it/s]"
     ]
    },
    {
     "name": "stdout",
     "output_type": "stream",
     "text": [
      "Done! Trainloss: 0.694512, Test accuracy: 52.0000\n",
      "\n",
      "Parametrized RNN done!\n"
     ]
    },
    {
     "name": "stderr",
     "output_type": "stream",
     "text": [
      "\n"
     ]
    }
   ],
   "source": [
    "evennop, evenp = parametrizevsnot(even)"
   ]
  },
  {
   "cell_type": "code",
   "execution_count": 25,
   "metadata": {
    "metadata": {}
   },
   "outputs": [
    {
     "data": {
      "image/png": "[encoded data removed]",
      "text/plain": [
       "<Figure size 640x480 with 1 Axes>"
      ]
     },
     "metadata": {},
     "output_type": "display_data"
    }
   ],
   "source": [
    "with torch.no_grad():\n",
    "    plt.plot(evennop, label = \"Without constraints\")\n",
    "    plt.plot(evenp, \"r\", label=\"With constraints\")\n",
    "    plt.legend()\n",
    "    plt.show()\n",
    "    "
   ]
  },
  {
   "cell_type": "markdown",
   "metadata": {},
   "source": [
    "### Sink"
   ]
  },
  {
   "cell_type": "code",
   "execution_count": 19,
   "metadata": {
    "metadata": {}
   },
   "outputs": [
    {
     "name": "stderr",
     "output_type": "stream",
     "text": [
      "Epoch 1...: 100%|██████████████████████████| 40/40 [00:01<00:00, 33.64it/s]\n"
     ]
    },
    {
     "name": "stdout",
     "output_type": "stream",
     "text": [
      "Done! Trainloss: 0.636755, Test accuracy: 66.1500\n"
     ]
    },
    {
     "name": "stderr",
     "output_type": "stream",
     "text": [
      "Epoch 2...: 100%|██████████████████████████| 40/40 [00:01<00:00, 32.34it/s]\n"
     ]
    },
    {
     "name": "stdout",
     "output_type": "stream",
     "text": [
      "Done! Trainloss: 0.513982, Test accuracy: 87.8500\n"
     ]
    },
    {
     "name": "stderr",
     "output_type": "stream",
     "text": [
      "Epoch 3...: 100%|██████████████████████████| 40/40 [00:01<00:00, 33.97it/s]\n"
     ]
    },
    {
     "name": "stdout",
     "output_type": "stream",
     "text": [
      "Done! Trainloss: 0.357686, Test accuracy: 92.6000\n"
     ]
    },
    {
     "name": "stderr",
     "output_type": "stream",
     "text": [
      "Epoch 4...: 100%|██████████████████████████| 40/40 [00:01<00:00, 30.32it/s]\n"
     ]
    },
    {
     "name": "stdout",
     "output_type": "stream",
     "text": [
      "Done! Trainloss: 0.256723, Test accuracy: 99.3000\n"
     ]
    },
    {
     "name": "stderr",
     "output_type": "stream",
     "text": [
      "Epoch 5...: 100%|██████████████████████████| 40/40 [00:01<00:00, 34.65it/s]\n"
     ]
    },
    {
     "name": "stdout",
     "output_type": "stream",
     "text": [
      "Done! Trainloss: 0.177600, Test accuracy: 100.0000\n"
     ]
    },
    {
     "name": "stderr",
     "output_type": "stream",
     "text": [
      "Epoch 6...: 100%|██████████████████████████| 40/40 [00:01<00:00, 33.07it/s]\n"
     ]
    },
    {
     "name": "stdout",
     "output_type": "stream",
     "text": [
      "Done! Trainloss: 0.132778, Test accuracy: 100.0000\n"
     ]
    },
    {
     "name": "stderr",
     "output_type": "stream",
     "text": [
      "Epoch 7...: 100%|██████████████████████████| 40/40 [00:01<00:00, 33.47it/s]\n"
     ]
    },
    {
     "name": "stdout",
     "output_type": "stream",
     "text": [
      "Done! Trainloss: 0.099441, Test accuracy: 100.0000\n"
     ]
    },
    {
     "name": "stderr",
     "output_type": "stream",
     "text": [
      "Epoch 8...: 100%|██████████████████████████| 40/40 [00:01<00:00, 33.45it/s]\n"
     ]
    },
    {
     "name": "stdout",
     "output_type": "stream",
     "text": [
      "Done! Trainloss: 0.084540, Test accuracy: 100.0000\n"
     ]
    },
    {
     "name": "stderr",
     "output_type": "stream",
     "text": [
      "Epoch 9...: 100%|██████████████████████████| 40/40 [00:01<00:00, 34.05it/s]\n"
     ]
    },
    {
     "name": "stdout",
     "output_type": "stream",
     "text": [
      "Done! Trainloss: 0.067658, Test accuracy: 100.0000\n"
     ]
    },
    {
     "name": "stderr",
     "output_type": "stream",
     "text": [
      "Epoch 10...: 100%|█████████████████████████| 40/40 [00:01<00:00, 34.07it/s]\n"
     ]
    },
    {
     "name": "stdout",
     "output_type": "stream",
     "text": [
      "Done! Trainloss: 0.054356, Test accuracy: 100.0000\n"
     ]
    },
    {
     "name": "stderr",
     "output_type": "stream",
     "text": [
      "Epoch 11...: 100%|█████████████████████████| 40/40 [00:01<00:00, 29.96it/s]\n"
     ]
    },
    {
     "name": "stdout",
     "output_type": "stream",
     "text": [
      "Done! Trainloss: 0.040657, Test accuracy: 100.0000\n"
     ]
    },
    {
     "name": "stderr",
     "output_type": "stream",
     "text": [
      "Epoch 12...: 100%|█████████████████████████| 40/40 [00:01<00:00, 34.40it/s]\n"
     ]
    },
    {
     "name": "stdout",
     "output_type": "stream",
     "text": [
      "Done! Trainloss: 0.033858, Test accuracy: 100.0000\n"
     ]
    },
    {
     "name": "stderr",
     "output_type": "stream",
     "text": [
      "Epoch 13...: 100%|█████████████████████████| 40/40 [00:01<00:00, 32.72it/s]\n"
     ]
    },
    {
     "name": "stdout",
     "output_type": "stream",
     "text": [
      "Done! Trainloss: 0.029050, Test accuracy: 100.0000\n"
     ]
    },
    {
     "name": "stderr",
     "output_type": "stream",
     "text": [
      "Epoch 14...: 100%|█████████████████████████| 40/40 [00:01<00:00, 34.27it/s]\n"
     ]
    },
    {
     "name": "stdout",
     "output_type": "stream",
     "text": [
      "Done! Trainloss: 0.031387, Test accuracy: 100.0000\n"
     ]
    },
    {
     "name": "stderr",
     "output_type": "stream",
     "text": [
      "Epoch 15...: 100%|█████████████████████████| 40/40 [00:01<00:00, 34.51it/s]\n"
     ]
    },
    {
     "name": "stdout",
     "output_type": "stream",
     "text": [
      "Done! Trainloss: 0.034508, Test accuracy: 100.0000\n"
     ]
    },
    {
     "name": "stderr",
     "output_type": "stream",
     "text": [
      "Epoch 16...: 100%|█████████████████████████| 40/40 [00:01<00:00, 33.74it/s]\n"
     ]
    },
    {
     "name": "stdout",
     "output_type": "stream",
     "text": [
      "Done! Trainloss: 0.019761, Test accuracy: 100.0000\n"
     ]
    },
    {
     "name": "stderr",
     "output_type": "stream",
     "text": [
      "Epoch 17...: 100%|█████████████████████████| 40/40 [00:01<00:00, 22.02it/s]\n"
     ]
    },
    {
     "name": "stdout",
     "output_type": "stream",
     "text": [
      "Done! Trainloss: 0.020327, Test accuracy: 100.0000\n"
     ]
    },
    {
     "name": "stderr",
     "output_type": "stream",
     "text": [
      "Epoch 18...: 100%|█████████████████████████| 40/40 [00:01<00:00, 23.81it/s]\n"
     ]
    },
    {
     "name": "stdout",
     "output_type": "stream",
     "text": [
      "Done! Trainloss: 0.012532, Test accuracy: 100.0000\n"
     ]
    },
    {
     "name": "stderr",
     "output_type": "stream",
     "text": [
      "Epoch 19...: 100%|█████████████████████████| 40/40 [00:01<00:00, 32.92it/s]\n"
     ]
    },
    {
     "name": "stdout",
     "output_type": "stream",
     "text": [
      "Done! Trainloss: 0.012972, Test accuracy: 100.0000\n"
     ]
    },
    {
     "name": "stderr",
     "output_type": "stream",
     "text": [
      "Epoch 20...: 100%|█████████████████████████| 40/40 [00:01<00:00, 34.98it/s]\n"
     ]
    },
    {
     "name": "stdout",
     "output_type": "stream",
     "text": [
      "Done! Trainloss: 0.021465, Test accuracy: 100.0000\n",
      "\n",
      "Non parametrized RNN done!\n",
      "\n"
     ]
    },
    {
     "name": "stderr",
     "output_type": "stream",
     "text": [
      "Epoch 1...: 100%|██████████████████████████| 40/40 [00:01<00:00, 37.10it/s]\n"
     ]
    },
    {
     "name": "stdout",
     "output_type": "stream",
     "text": [
      "Done! Trainloss: 0.021465, Test accuracy: 90.4500\n"
     ]
    },
    {
     "name": "stderr",
     "output_type": "stream",
     "text": [
      "Epoch 2...: 100%|██████████████████████████| 40/40 [00:01<00:00, 34.05it/s]\n"
     ]
    },
    {
     "name": "stdout",
     "output_type": "stream",
     "text": [
      "Done! Trainloss: 0.021465, Test accuracy: 90.4500\n"
     ]
    },
    {
     "name": "stderr",
     "output_type": "stream",
     "text": [
      "Epoch 3...: 100%|██████████████████████████| 40/40 [00:01<00:00, 35.04it/s]\n"
     ]
    },
    {
     "name": "stdout",
     "output_type": "stream",
     "text": [
      "Done! Trainloss: 0.021465, Test accuracy: 90.4500\n"
     ]
    },
    {
     "name": "stderr",
     "output_type": "stream",
     "text": [
      "Epoch 4...: 100%|██████████████████████████| 40/40 [00:01<00:00, 36.64it/s]\n"
     ]
    },
    {
     "name": "stdout",
     "output_type": "stream",
     "text": [
      "Done! Trainloss: 0.021465, Test accuracy: 90.4500\n"
     ]
    },
    {
     "name": "stderr",
     "output_type": "stream",
     "text": [
      "Epoch 5...: 100%|██████████████████████████| 40/40 [00:01<00:00, 36.87it/s]\n"
     ]
    },
    {
     "name": "stdout",
     "output_type": "stream",
     "text": [
      "Done! Trainloss: 0.021465, Test accuracy: 90.4500\n"
     ]
    },
    {
     "name": "stderr",
     "output_type": "stream",
     "text": [
      "Epoch 6...: 100%|██████████████████████████| 40/40 [00:01<00:00, 34.74it/s]\n"
     ]
    },
    {
     "name": "stdout",
     "output_type": "stream",
     "text": [
      "Done! Trainloss: 0.021465, Test accuracy: 90.5000\n"
     ]
    },
    {
     "name": "stderr",
     "output_type": "stream",
     "text": [
      "Epoch 7...: 100%|██████████████████████████| 40/40 [00:01<00:00, 33.56it/s]\n"
     ]
    },
    {
     "name": "stdout",
     "output_type": "stream",
     "text": [
      "Done! Trainloss: 0.021465, Test accuracy: 93.8500\n"
     ]
    },
    {
     "name": "stderr",
     "output_type": "stream",
     "text": [
      "Epoch 8...: 100%|██████████████████████████| 40/40 [00:01<00:00, 37.18it/s]\n"
     ]
    },
    {
     "name": "stdout",
     "output_type": "stream",
     "text": [
      "Done! Trainloss: 0.021465, Test accuracy: 96.6000\n"
     ]
    },
    {
     "name": "stderr",
     "output_type": "stream",
     "text": [
      "Epoch 9...: 100%|██████████████████████████| 40/40 [00:01<00:00, 36.68it/s]\n"
     ]
    },
    {
     "name": "stdout",
     "output_type": "stream",
     "text": [
      "Done! Trainloss: 0.021465, Test accuracy: 95.7500\n"
     ]
    },
    {
     "name": "stderr",
     "output_type": "stream",
     "text": [
      "Epoch 10...: 100%|█████████████████████████| 40/40 [00:01<00:00, 37.54it/s]\n"
     ]
    },
    {
     "name": "stdout",
     "output_type": "stream",
     "text": [
      "Done! Trainloss: 0.021465, Test accuracy: 96.3000\n"
     ]
    },
    {
     "name": "stderr",
     "output_type": "stream",
     "text": [
      "Epoch 11...: 100%|█████████████████████████| 40/40 [00:01<00:00, 38.10it/s]\n"
     ]
    },
    {
     "name": "stdout",
     "output_type": "stream",
     "text": [
      "Done! Trainloss: 0.021465, Test accuracy: 97.2000\n"
     ]
    },
    {
     "name": "stderr",
     "output_type": "stream",
     "text": [
      "Epoch 12...: 100%|█████████████████████████| 40/40 [00:01<00:00, 37.00it/s]\n"
     ]
    },
    {
     "name": "stdout",
     "output_type": "stream",
     "text": [
      "Done! Trainloss: 0.021465, Test accuracy: 97.3000\n"
     ]
    },
    {
     "name": "stderr",
     "output_type": "stream",
     "text": [
      "Epoch 13...: 100%|█████████████████████████| 40/40 [00:01<00:00, 34.99it/s]\n"
     ]
    },
    {
     "name": "stdout",
     "output_type": "stream",
     "text": [
      "Done! Trainloss: 0.021465, Test accuracy: 97.4000\n"
     ]
    },
    {
     "name": "stderr",
     "output_type": "stream",
     "text": [
      "Epoch 14...: 100%|█████████████████████████| 40/40 [00:01<00:00, 37.09it/s]\n"
     ]
    },
    {
     "name": "stdout",
     "output_type": "stream",
     "text": [
      "Done! Trainloss: 0.021465, Test accuracy: 99.2500\n"
     ]
    },
    {
     "name": "stderr",
     "output_type": "stream",
     "text": [
      "Epoch 15...: 100%|█████████████████████████| 40/40 [00:01<00:00, 34.89it/s]\n"
     ]
    },
    {
     "name": "stdout",
     "output_type": "stream",
     "text": [
      "Done! Trainloss: 0.021465, Test accuracy: 99.3500\n"
     ]
    },
    {
     "name": "stderr",
     "output_type": "stream",
     "text": [
      "Epoch 16...: 100%|█████████████████████████| 40/40 [00:01<00:00, 21.53it/s]\n"
     ]
    },
    {
     "name": "stdout",
     "output_type": "stream",
     "text": [
      "Done! Trainloss: 0.021465, Test accuracy: 99.7000\n"
     ]
    },
    {
     "name": "stderr",
     "output_type": "stream",
     "text": [
      "Epoch 17...: 100%|█████████████████████████| 40/40 [00:01<00:00, 32.08it/s]\n"
     ]
    },
    {
     "name": "stdout",
     "output_type": "stream",
     "text": [
      "Done! Trainloss: 0.021465, Test accuracy: 99.9000\n"
     ]
    },
    {
     "name": "stderr",
     "output_type": "stream",
     "text": [
      "Epoch 18...: 100%|█████████████████████████| 40/40 [00:01<00:00, 34.22it/s]\n"
     ]
    },
    {
     "name": "stdout",
     "output_type": "stream",
     "text": [
      "Done! Trainloss: 0.021465, Test accuracy: 100.0000\n"
     ]
    },
    {
     "name": "stderr",
     "output_type": "stream",
     "text": [
      "Epoch 19...: 100%|█████████████████████████| 40/40 [00:01<00:00, 34.44it/s]\n"
     ]
    },
    {
     "name": "stdout",
     "output_type": "stream",
     "text": [
      "Done! Trainloss: 0.021465, Test accuracy: 99.9000\n"
     ]
    },
    {
     "name": "stderr",
     "output_type": "stream",
     "text": [
      "Epoch 20...: 100%|█████████████████████████| 40/40 [00:01<00:00, 28.57it/s]\n"
     ]
    },
    {
     "name": "stdout",
     "output_type": "stream",
     "text": [
      "Done! Trainloss: 0.021465, Test accuracy: 100.0000\n",
      "\n",
      "Parametrized RNN done!\n"
     ]
    }
   ],
   "source": [
    "(sinknop, sinkRNN), (sinkp, _) = parametrizevsnot(sink, returnautomat=True)"
   ]
  },
  {
   "cell_type": "code",
   "execution_count": 20,
   "metadata": {
    "metadata": {}
   },
   "outputs": [
    {
     "data": {
      "image/png": "[encoded data removed]",
      "text/plain": [
       "<Figure size 640x480 with 1 Axes>"
      ]
     },
     "metadata": {},
     "output_type": "display_data"
    }
   ],
   "source": [
    "with torch.no_grad():\n",
    "    plt.plot(sinknop, label = \"Without constraints\")\n",
    "    plt.plot(sinkp, \"r\", label=\"With constraints\")\n",
    "    plt.legend()\n",
    "    plt.show()\n",
    "    "
   ]
  },
  {
   "cell_type": "code",
   "execution_count": 21,
   "metadata": {},
   "outputs": [
    {
     "name": "stderr",
     "output_type": "stream",
     "text": [
      "/home/mt-ubu2/Documents/Internship/RNN_autmata/automata.py:325: UserWarning: `max_try` limit reach. Final prop = 0.0002\n",
      "  warn(f\"`max_try` limit reach. Final prop = {sum(labels)/len(labels)}\")\n"
     ]
    },
    {
     "name": "stdout",
     "output_type": "stream",
     "text": [
      "Test accuracy: 98.3000\n"
     ]
    }
   ],
   "source": [
    "sink.probas = \"equal\"\n",
    "\n",
    "sink.dataset(10000, meanlen = 12, max_try = 10000, random_state=690)\n",
    "\n",
    "sinkmoretest = next(iter(DataLoader(TorchData(sink), 10000)))\n",
    "\n",
    "with torch.no_grad():\n",
    "    predictions = sinkRNN.predict(sinkmoretest[0], sinkmoretest[1])\n",
    "    acc = torch.sum(predictions == sinkmoretest[2].reshape(-1), dim=0) * 100 / len(sinkmoretest[2])\n",
    "    print(f\"Test accuracy: {acc:.4f}\")"
   ]
  },
  {
   "cell_type": "markdown",
   "metadata": {},
   "source": [
    "## Fix"
   ]
  },
  {
   "cell_type": "code",
   "execution_count": 22,
   "metadata": {},
   "outputs": [
    {
     "name": "stderr",
     "output_type": "stream",
     "text": [
      "Epoch 1...: 100%|██████████████████████████| 40/40 [00:01<00:00, 33.31it/s]\n"
     ]
    },
    {
     "name": "stdout",
     "output_type": "stream",
     "text": [
      "Done! Trainloss: 0.396168, Test accuracy: 94.5500\n"
     ]
    },
    {
     "name": "stderr",
     "output_type": "stream",
     "text": [
      "Epoch 2...: 100%|██████████████████████████| 40/40 [00:01<00:00, 29.15it/s]\n"
     ]
    },
    {
     "name": "stdout",
     "output_type": "stream",
     "text": [
      "Done! Trainloss: 0.195281, Test accuracy: 94.5500\n"
     ]
    },
    {
     "name": "stderr",
     "output_type": "stream",
     "text": [
      "Epoch 3...: 100%|██████████████████████████| 40/40 [00:01<00:00, 32.28it/s]\n"
     ]
    },
    {
     "name": "stdout",
     "output_type": "stream",
     "text": [
      "Done! Trainloss: 0.115013, Test accuracy: 98.6000\n"
     ]
    },
    {
     "name": "stderr",
     "output_type": "stream",
     "text": [
      "Epoch 4...: 100%|██████████████████████████| 40/40 [00:01<00:00, 38.09it/s]\n"
     ]
    },
    {
     "name": "stdout",
     "output_type": "stream",
     "text": [
      "Done! Trainloss: 0.052679, Test accuracy: 100.0000\n"
     ]
    },
    {
     "name": "stderr",
     "output_type": "stream",
     "text": [
      "Epoch 5...: 100%|██████████████████████████| 40/40 [00:01<00:00, 31.72it/s]\n"
     ]
    },
    {
     "name": "stdout",
     "output_type": "stream",
     "text": [
      "Done! Trainloss: 0.026220, Test accuracy: 100.0000\n"
     ]
    },
    {
     "name": "stderr",
     "output_type": "stream",
     "text": [
      "Epoch 6...: 100%|██████████████████████████| 40/40 [00:01<00:00, 31.37it/s]\n"
     ]
    },
    {
     "name": "stdout",
     "output_type": "stream",
     "text": [
      "Done! Trainloss: 0.017918, Test accuracy: 100.0000\n"
     ]
    },
    {
     "name": "stderr",
     "output_type": "stream",
     "text": [
      "Epoch 7...: 100%|██████████████████████████| 40/40 [00:01<00:00, 29.01it/s]\n"
     ]
    },
    {
     "name": "stdout",
     "output_type": "stream",
     "text": [
      "Done! Trainloss: 0.011749, Test accuracy: 100.0000\n"
     ]
    },
    {
     "name": "stderr",
     "output_type": "stream",
     "text": [
      "Epoch 8...: 100%|██████████████████████████| 40/40 [00:01<00:00, 34.04it/s]\n"
     ]
    },
    {
     "name": "stdout",
     "output_type": "stream",
     "text": [
      "Done! Trainloss: 0.009931, Test accuracy: 100.0000\n"
     ]
    },
    {
     "name": "stderr",
     "output_type": "stream",
     "text": [
      "Epoch 9...: 100%|██████████████████████████| 40/40 [00:01<00:00, 35.76it/s]\n"
     ]
    },
    {
     "name": "stdout",
     "output_type": "stream",
     "text": [
      "Done! Trainloss: 0.007520, Test accuracy: 100.0000\n"
     ]
    },
    {
     "name": "stderr",
     "output_type": "stream",
     "text": [
      "Epoch 10...: 100%|█████████████████████████| 40/40 [00:01<00:00, 34.00it/s]\n"
     ]
    },
    {
     "name": "stdout",
     "output_type": "stream",
     "text": [
      "Done! Trainloss: 0.006163, Test accuracy: 100.0000\n"
     ]
    },
    {
     "name": "stderr",
     "output_type": "stream",
     "text": [
      "Epoch 11...: 100%|█████████████████████████| 40/40 [00:01<00:00, 30.53it/s]\n"
     ]
    },
    {
     "name": "stdout",
     "output_type": "stream",
     "text": [
      "Done! Trainloss: 0.005634, Test accuracy: 100.0000\n"
     ]
    },
    {
     "name": "stderr",
     "output_type": "stream",
     "text": [
      "Epoch 12...: 100%|█████████████████████████| 40/40 [00:01<00:00, 31.78it/s]\n"
     ]
    },
    {
     "name": "stdout",
     "output_type": "stream",
     "text": [
      "Done! Trainloss: 0.004485, Test accuracy: 100.0000\n"
     ]
    },
    {
     "name": "stderr",
     "output_type": "stream",
     "text": [
      "Epoch 13...: 100%|█████████████████████████| 40/40 [00:01<00:00, 37.05it/s]\n"
     ]
    },
    {
     "name": "stdout",
     "output_type": "stream",
     "text": [
      "Done! Trainloss: 0.003897, Test accuracy: 100.0000\n"
     ]
    },
    {
     "name": "stderr",
     "output_type": "stream",
     "text": [
      "Epoch 14...: 100%|█████████████████████████| 40/40 [00:01<00:00, 32.56it/s]\n"
     ]
    },
    {
     "name": "stdout",
     "output_type": "stream",
     "text": [
      "Done! Trainloss: 0.003409, Test accuracy: 100.0000\n"
     ]
    },
    {
     "name": "stderr",
     "output_type": "stream",
     "text": [
      "Epoch 15...: 100%|█████████████████████████| 40/40 [00:01<00:00, 33.10it/s]\n"
     ]
    },
    {
     "name": "stdout",
     "output_type": "stream",
     "text": [
      "Done! Trainloss: 0.002996, Test accuracy: 100.0000\n"
     ]
    },
    {
     "name": "stderr",
     "output_type": "stream",
     "text": [
      "Epoch 16...: 100%|█████████████████████████| 40/40 [00:01<00:00, 36.27it/s]\n"
     ]
    },
    {
     "name": "stdout",
     "output_type": "stream",
     "text": [
      "Done! Trainloss: 0.002961, Test accuracy: 100.0000\n"
     ]
    },
    {
     "name": "stderr",
     "output_type": "stream",
     "text": [
      "Epoch 17...: 100%|█████████████████████████| 40/40 [00:01<00:00, 33.11it/s]\n"
     ]
    },
    {
     "name": "stdout",
     "output_type": "stream",
     "text": [
      "Done! Trainloss: 0.002449, Test accuracy: 100.0000\n"
     ]
    },
    {
     "name": "stderr",
     "output_type": "stream",
     "text": [
      "Epoch 18...: 100%|█████████████████████████| 40/40 [00:01<00:00, 32.52it/s]\n"
     ]
    },
    {
     "name": "stdout",
     "output_type": "stream",
     "text": [
      "Done! Trainloss: 0.002182, Test accuracy: 100.0000\n"
     ]
    },
    {
     "name": "stderr",
     "output_type": "stream",
     "text": [
      "Epoch 19...: 100%|█████████████████████████| 40/40 [00:01<00:00, 33.94it/s]\n"
     ]
    },
    {
     "name": "stdout",
     "output_type": "stream",
     "text": [
      "Done! Trainloss: 0.002020, Test accuracy: 100.0000\n"
     ]
    },
    {
     "name": "stderr",
     "output_type": "stream",
     "text": [
      "Epoch 20...: 100%|█████████████████████████| 40/40 [00:01<00:00, 31.49it/s]\n"
     ]
    },
    {
     "name": "stdout",
     "output_type": "stream",
     "text": [
      "Done! Trainloss: 0.001792, Test accuracy: 100.0000\n",
      "\n",
      "Non parametrized RNN done!\n",
      "\n"
     ]
    },
    {
     "name": "stderr",
     "output_type": "stream",
     "text": [
      "Epoch 1...: 100%|██████████████████████████| 40/40 [00:01<00:00, 35.41it/s]\n"
     ]
    },
    {
     "name": "stdout",
     "output_type": "stream",
     "text": [
      "Done! Trainloss: 0.696723, Test accuracy: 52.9500\n"
     ]
    },
    {
     "name": "stderr",
     "output_type": "stream",
     "text": [
      "Epoch 2...: 100%|██████████████████████████| 40/40 [00:01<00:00, 29.39it/s]\n"
     ]
    },
    {
     "name": "stdout",
     "output_type": "stream",
     "text": [
      "Done! Trainloss: 0.663784, Test accuracy: 69.5500\n"
     ]
    },
    {
     "name": "stderr",
     "output_type": "stream",
     "text": [
      "Epoch 3...: 100%|██████████████████████████| 40/40 [00:01<00:00, 33.30it/s]\n"
     ]
    },
    {
     "name": "stdout",
     "output_type": "stream",
     "text": [
      "Done! Trainloss: 0.444811, Test accuracy: 88.9000\n"
     ]
    },
    {
     "name": "stderr",
     "output_type": "stream",
     "text": [
      "Epoch 4...: 100%|██████████████████████████| 40/40 [00:01<00:00, 31.48it/s]\n"
     ]
    },
    {
     "name": "stdout",
     "output_type": "stream",
     "text": [
      "Done! Trainloss: 0.268627, Test accuracy: 89.9000\n"
     ]
    },
    {
     "name": "stderr",
     "output_type": "stream",
     "text": [
      "Epoch 5...: 100%|██████████████████████████| 40/40 [00:01<00:00, 30.23it/s]\n"
     ]
    },
    {
     "name": "stdout",
     "output_type": "stream",
     "text": [
      "Done! Trainloss: 0.246331, Test accuracy: 89.9000\n"
     ]
    },
    {
     "name": "stderr",
     "output_type": "stream",
     "text": [
      "Epoch 6...: 100%|██████████████████████████| 40/40 [00:01<00:00, 29.51it/s]\n"
     ]
    },
    {
     "name": "stdout",
     "output_type": "stream",
     "text": [
      "Done! Trainloss: 0.272405, Test accuracy: 90.7500\n"
     ]
    },
    {
     "name": "stderr",
     "output_type": "stream",
     "text": [
      "Epoch 7...: 100%|██████████████████████████| 40/40 [00:01<00:00, 33.54it/s]\n"
     ]
    },
    {
     "name": "stdout",
     "output_type": "stream",
     "text": [
      "Done! Trainloss: 0.235122, Test accuracy: 91.6500\n"
     ]
    },
    {
     "name": "stderr",
     "output_type": "stream",
     "text": [
      "Epoch 8...: 100%|██████████████████████████| 40/40 [00:01<00:00, 31.88it/s]\n"
     ]
    },
    {
     "name": "stdout",
     "output_type": "stream",
     "text": [
      "Done! Trainloss: 0.206864, Test accuracy: 94.7000\n"
     ]
    },
    {
     "name": "stderr",
     "output_type": "stream",
     "text": [
      "Epoch 9...: 100%|██████████████████████████| 40/40 [00:01<00:00, 35.54it/s]\n"
     ]
    },
    {
     "name": "stdout",
     "output_type": "stream",
     "text": [
      "Done! Trainloss: 0.168924, Test accuracy: 95.5000\n"
     ]
    },
    {
     "name": "stderr",
     "output_type": "stream",
     "text": [
      "Epoch 10...: 100%|█████████████████████████| 40/40 [00:01<00:00, 32.03it/s]\n"
     ]
    },
    {
     "name": "stdout",
     "output_type": "stream",
     "text": [
      "Done! Trainloss: 0.222031, Test accuracy: 95.6500\n"
     ]
    },
    {
     "name": "stderr",
     "output_type": "stream",
     "text": [
      "Epoch 11...: 100%|█████████████████████████| 40/40 [00:01<00:00, 33.31it/s]\n"
     ]
    },
    {
     "name": "stdout",
     "output_type": "stream",
     "text": [
      "Done! Trainloss: 0.161384, Test accuracy: 95.7000\n"
     ]
    },
    {
     "name": "stderr",
     "output_type": "stream",
     "text": [
      "Epoch 12...: 100%|█████████████████████████| 40/40 [00:01<00:00, 33.97it/s]\n"
     ]
    },
    {
     "name": "stdout",
     "output_type": "stream",
     "text": [
      "Done! Trainloss: 0.103237, Test accuracy: 95.7000\n"
     ]
    },
    {
     "name": "stderr",
     "output_type": "stream",
     "text": [
      "Epoch 13...: 100%|█████████████████████████| 40/40 [00:01<00:00, 33.40it/s]\n"
     ]
    },
    {
     "name": "stdout",
     "output_type": "stream",
     "text": [
      "Done! Trainloss: 0.100993, Test accuracy: 96.1000\n"
     ]
    },
    {
     "name": "stderr",
     "output_type": "stream",
     "text": [
      "Epoch 14...: 100%|█████████████████████████| 40/40 [00:01<00:00, 26.92it/s]\n"
     ]
    },
    {
     "name": "stdout",
     "output_type": "stream",
     "text": [
      "Done! Trainloss: 0.053986, Test accuracy: 98.8000\n"
     ]
    },
    {
     "name": "stderr",
     "output_type": "stream",
     "text": [
      "Epoch 15...: 100%|█████████████████████████| 40/40 [00:01<00:00, 32.03it/s]\n"
     ]
    },
    {
     "name": "stdout",
     "output_type": "stream",
     "text": [
      "Done! Trainloss: 0.050713, Test accuracy: 99.0500\n"
     ]
    },
    {
     "name": "stderr",
     "output_type": "stream",
     "text": [
      "Epoch 16...: 100%|█████████████████████████| 40/40 [00:01<00:00, 32.39it/s]\n"
     ]
    },
    {
     "name": "stdout",
     "output_type": "stream",
     "text": [
      "Done! Trainloss: 0.045888, Test accuracy: 99.0500\n"
     ]
    },
    {
     "name": "stderr",
     "output_type": "stream",
     "text": [
      "Epoch 17...: 100%|█████████████████████████| 40/40 [00:01<00:00, 26.38it/s]\n"
     ]
    },
    {
     "name": "stdout",
     "output_type": "stream",
     "text": [
      "Done! Trainloss: 0.034282, Test accuracy: 99.2500\n"
     ]
    },
    {
     "name": "stderr",
     "output_type": "stream",
     "text": [
      "Epoch 18...: 100%|█████████████████████████| 40/40 [00:01<00:00, 35.11it/s]\n"
     ]
    },
    {
     "name": "stdout",
     "output_type": "stream",
     "text": [
      "Done! Trainloss: 0.021861, Test accuracy: 99.4000\n"
     ]
    },
    {
     "name": "stderr",
     "output_type": "stream",
     "text": [
      "Epoch 19...: 100%|█████████████████████████| 40/40 [00:01<00:00, 33.24it/s]\n"
     ]
    },
    {
     "name": "stdout",
     "output_type": "stream",
     "text": [
      "Done! Trainloss: 0.037687, Test accuracy: 99.7000\n"
     ]
    },
    {
     "name": "stderr",
     "output_type": "stream",
     "text": [
      "Epoch 20...: 100%|█████████████████████████| 40/40 [00:01<00:00, 27.94it/s]\n"
     ]
    },
    {
     "name": "stdout",
     "output_type": "stream",
     "text": [
      "Done! Trainloss: 0.021381, Test accuracy: 99.8500\n",
      "\n",
      "Parametrized RNN done!\n"
     ]
    }
   ],
   "source": [
    "fixnop, fixp = parametrizevsnot(fix)"
   ]
  },
  {
   "cell_type": "code",
   "execution_count": 23,
   "metadata": {},
   "outputs": [
    {
     "data": {
      "image/png": "[encoded data removed]",
      "text/plain": [
       "<Figure size 640x480 with 1 Axes>"
      ]
     },
     "metadata": {},
     "output_type": "display_data"
    }
   ],
   "source": [
    "with torch.no_grad():\n",
    "    plt.plot(fixnop, label = \"Without constraints\")\n",
    "    plt.plot(fixp, \"r\", label=\"With constraints\")\n",
    "    plt.legend()\n",
    "    plt.show()\n",
    "    "
   ]
  },
  {
   "cell_type": "markdown",
   "metadata": {},
   "source": [
    "## Unique"
   ]
  },
  {
   "cell_type": "code",
   "execution_count": 8,
   "metadata": {},
   "outputs": [
    {
     "name": "stderr",
     "output_type": "stream",
     "text": [
      "Epoch 1...: 100%|██████████████████████████| 40/40 [00:01<00:00, 32.13it/s]\n"
     ]
    },
    {
     "name": "stdout",
     "output_type": "stream",
     "text": [
      "Done! Trainloss: 0.697392, Test accuracy: 43.2500\n"
     ]
    },
    {
     "name": "stderr",
     "output_type": "stream",
     "text": [
      "Epoch 2...: 100%|██████████████████████████| 40/40 [00:01<00:00, 31.22it/s]\n"
     ]
    },
    {
     "name": "stdout",
     "output_type": "stream",
     "text": [
      "Done! Trainloss: 0.693486, Test accuracy: 51.7000\n",
      "\n",
      "Non parametrized RNN done!\n",
      "\n"
     ]
    },
    {
     "name": "stderr",
     "output_type": "stream",
     "text": [
      "Epoch 1...: 100%|██████████████████████████| 40/40 [00:01<00:00, 25.61it/s]\n"
     ]
    },
    {
     "name": "stdout",
     "output_type": "stream",
     "text": [
      "Done! Trainloss: 0.692910, Test accuracy: 49.1000\n"
     ]
    },
    {
     "name": "stderr",
     "output_type": "stream",
     "text": [
      "Epoch 2...: 100%|██████████████████████████| 40/40 [00:01<00:00, 25.69it/s]\n"
     ]
    },
    {
     "name": "stdout",
     "output_type": "stream",
     "text": [
      "Done! Trainloss: 0.692840, Test accuracy: 49.1000\n",
      "\n",
      "Parametrized RNN done!\n"
     ]
    }
   ],
   "source": [
    "(uniquenop, uniquenop_model), (uniquep, uniquep_model) = parametrizevsnot(unique, returnautomat=True)"
   ]
  },
  {
   "cell_type": "code",
   "execution_count": 29,
   "metadata": {},
   "outputs": [
    {
     "data": {
      "image/png": "[encoded data removed]",
      "text/plain": [
       "<Figure size 640x480 with 1 Axes>"
      ]
     },
     "metadata": {},
     "output_type": "display_data"
    }
   ],
   "source": [
    "with torch.no_grad():\n",
    "    plt.plot(uniquenop, label = \"Without constraints\")\n",
    "    plt.plot(uniquep, \"r\", label=\"With constraints\")\n",
    "    plt.legend()\n",
    "    plt.show()\n",
    "    "
   ]
  },
  {
   "cell_type": "code",
   "execution_count": 9,
   "metadata": {},
   "outputs": [
    {
     "data": {
      "text/plain": [
       "OrderedDict([('rnn.parametrizations.weight_hh_l0.original',\n",
       "              tensor([[-0.1373,  0.0000,  0.0000,  0.0000, -0.0719,  0.0000,  0.0000,  0.0000,\n",
       "                        0.0983,  0.0000,  0.0000,  0.0000, -0.0124,  0.0000,  0.0000,  0.0000,\n",
       "                        0.0874,  0.0000,  0.0000,  0.0000,  0.1076,  0.0000,  0.0000,  0.0000],\n",
       "                      [-0.1041,  0.0000,  0.0000,  0.0000, -0.1358,  0.0000,  0.0000,  0.0000,\n",
       "                       -0.1165,  0.0000,  0.0000,  0.0000,  0.1225,  0.0000,  0.0000,  0.0000,\n",
       "                        0.0817,  0.0000,  0.0000,  0.0000, -0.2000,  0.0000,  0.0000,  0.0000],\n",
       "                      [-0.0402,  0.0000,  0.0000,  0.0000, -0.0784,  0.0000,  0.0000,  0.0000,\n",
       "                       -0.0390,  0.0000,  0.0000,  0.0000, -0.1444,  0.0000,  0.0000,  0.0000,\n",
       "                       -0.1381,  0.0000,  0.0000,  0.0000, -0.0394,  0.0000,  0.0000,  0.0000],\n",
       "                      [-0.0163,  0.0000,  0.0000,  0.0000,  0.0519,  0.0000,  0.0000,  0.0000,\n",
       "                       -0.0569,  0.0000,  0.0000,  0.0000,  0.1155,  0.0000,  0.0000,  0.0000,\n",
       "                        0.1454,  0.0000,  0.0000,  0.0000, -0.1399,  0.0000,  0.0000,  0.0000],\n",
       "                      [-0.1982,  0.0000,  0.0000,  0.0000, -0.1624,  0.0000,  0.0000,  0.0000,\n",
       "                       -0.0750,  0.0000,  0.0000,  0.0000, -0.0385,  0.0000,  0.0000,  0.0000,\n",
       "                        0.0549,  0.0000,  0.0000,  0.0000,  0.0239,  0.0000,  0.0000,  0.0000],\n",
       "                      [ 0.0267,  0.0000,  0.0000,  0.0000, -0.0539,  0.0000,  0.0000,  0.0000,\n",
       "                       -0.0575,  0.0000,  0.0000,  0.0000, -0.1744,  0.0000,  0.0000,  0.0000,\n",
       "                       -0.1102,  0.0000,  0.0000,  0.0000,  0.0030,  0.0000,  0.0000,  0.0000],\n",
       "                      [ 0.1281,  0.0000,  0.0000,  0.0000, -0.0895,  0.0000,  0.0000,  0.0000,\n",
       "                       -0.1111,  0.0000,  0.0000,  0.0000,  0.0337,  0.0000,  0.0000,  0.0000,\n",
       "                        0.0918,  0.0000,  0.0000,  0.0000, -0.1084,  0.0000,  0.0000,  0.0000],\n",
       "                      [-0.0610,  0.0000,  0.0000,  0.0000, -0.1021,  0.0000,  0.0000,  0.0000,\n",
       "                       -0.1344,  0.0000,  0.0000,  0.0000, -0.0406,  0.0000,  0.0000,  0.0000,\n",
       "                       -0.0554,  0.0000,  0.0000,  0.0000,  0.1901,  0.0000,  0.0000,  0.0000],\n",
       "                      [ 0.0659,  0.0000,  0.0000,  0.0000, -0.1355,  0.0000,  0.0000,  0.0000,\n",
       "                        0.1956,  0.0000,  0.0000,  0.0000, -0.0404,  0.0000,  0.0000,  0.0000,\n",
       "                        0.0823,  0.0000,  0.0000,  0.0000, -0.1411,  0.0000,  0.0000,  0.0000],\n",
       "                      [ 0.1115,  0.0000,  0.0000,  0.0000, -0.1328,  0.0000,  0.0000,  0.0000,\n",
       "                       -0.0547,  0.0000,  0.0000,  0.0000, -0.1620,  0.0000,  0.0000,  0.0000,\n",
       "                       -0.0178,  0.0000,  0.0000,  0.0000, -0.0721,  0.0000,  0.0000,  0.0000],\n",
       "                      [ 0.0308,  0.0000,  0.0000,  0.0000, -0.0830,  0.0000,  0.0000,  0.0000,\n",
       "                       -0.1018,  0.0000,  0.0000,  0.0000, -0.1955,  0.0000,  0.0000,  0.0000,\n",
       "                        0.1450,  0.0000,  0.0000,  0.0000, -0.1808,  0.0000,  0.0000,  0.0000],\n",
       "                      [-0.0284,  0.0000,  0.0000,  0.0000, -0.1633,  0.0000,  0.0000,  0.0000,\n",
       "                        0.0147,  0.0000,  0.0000,  0.0000, -0.1741,  0.0000,  0.0000,  0.0000,\n",
       "                        0.1445,  0.0000,  0.0000,  0.0000, -0.0638,  0.0000,  0.0000,  0.0000],\n",
       "                      [-0.0540,  0.0000,  0.0000,  0.0000, -0.0715,  0.0000,  0.0000,  0.0000,\n",
       "                       -0.0185,  0.0000,  0.0000,  0.0000, -0.2129,  0.0000,  0.0000,  0.0000,\n",
       "                        0.1726,  0.0000,  0.0000,  0.0000,  0.0793,  0.0000,  0.0000,  0.0000],\n",
       "                      [-0.1367,  0.0000,  0.0000,  0.0000,  0.0917,  0.0000,  0.0000,  0.0000,\n",
       "                       -0.1087,  0.0000,  0.0000,  0.0000, -0.1588,  0.0000,  0.0000,  0.0000,\n",
       "                        0.0687,  0.0000,  0.0000,  0.0000,  0.1552,  0.0000,  0.0000,  0.0000],\n",
       "                      [ 0.0844,  0.0000,  0.0000,  0.0000,  0.1689,  0.0000,  0.0000,  0.0000,\n",
       "                        0.1980,  0.0000,  0.0000,  0.0000,  0.1335,  0.0000,  0.0000,  0.0000,\n",
       "                        0.0705,  0.0000,  0.0000,  0.0000,  0.1255,  0.0000,  0.0000,  0.0000],\n",
       "                      [-0.0524,  0.0000,  0.0000,  0.0000, -0.0421,  0.0000,  0.0000,  0.0000,\n",
       "                       -0.2024,  0.0000,  0.0000,  0.0000, -0.0472,  0.0000,  0.0000,  0.0000,\n",
       "                       -0.1279,  0.0000,  0.0000,  0.0000, -0.0125,  0.0000,  0.0000,  0.0000],\n",
       "                      [-0.0720,  0.0000,  0.0000,  0.0000,  0.1936,  0.0000,  0.0000,  0.0000,\n",
       "                       -0.0513,  0.0000,  0.0000,  0.0000,  0.0358,  0.0000,  0.0000,  0.0000,\n",
       "                        0.1216,  0.0000,  0.0000,  0.0000,  0.0071,  0.0000,  0.0000,  0.0000],\n",
       "                      [-0.1068,  0.0000,  0.0000,  0.0000,  0.1695,  0.0000,  0.0000,  0.0000,\n",
       "                       -0.1024,  0.0000,  0.0000,  0.0000,  0.0503,  0.0000,  0.0000,  0.0000,\n",
       "                        0.1993,  0.0000,  0.0000,  0.0000, -0.0303,  0.0000,  0.0000,  0.0000],\n",
       "                      [-0.1423,  0.0000,  0.0000,  0.0000,  0.0513,  0.0000,  0.0000,  0.0000,\n",
       "                        0.0906,  0.0000,  0.0000,  0.0000,  0.0584,  0.0000,  0.0000,  0.0000,\n",
       "                        0.1996,  0.0000,  0.0000,  0.0000, -0.1004,  0.0000,  0.0000,  0.0000],\n",
       "                      [-0.0614,  0.0000,  0.0000,  0.0000,  0.1865,  0.0000,  0.0000,  0.0000,\n",
       "                       -0.0004,  0.0000,  0.0000,  0.0000, -0.0063,  0.0000,  0.0000,  0.0000,\n",
       "                       -0.1351,  0.0000,  0.0000,  0.0000, -0.1750,  0.0000,  0.0000,  0.0000],\n",
       "                      [-0.0243,  0.0000,  0.0000,  0.0000, -0.0921,  0.0000,  0.0000,  0.0000,\n",
       "                        0.0867,  0.0000,  0.0000,  0.0000,  0.0832,  0.0000,  0.0000,  0.0000,\n",
       "                       -0.1535,  0.0000,  0.0000,  0.0000, -0.0051,  0.0000,  0.0000,  0.0000],\n",
       "                      [ 0.1075,  0.0000,  0.0000,  0.0000,  0.1991,  0.0000,  0.0000,  0.0000,\n",
       "                       -0.0105,  0.0000,  0.0000,  0.0000,  0.0201,  0.0000,  0.0000,  0.0000,\n",
       "                        0.2097,  0.0000,  0.0000,  0.0000, -0.2134,  0.0000,  0.0000,  0.0000],\n",
       "                      [ 0.2278,  0.0000,  0.0000,  0.0000,  0.1080,  0.0000,  0.0000,  0.0000,\n",
       "                        0.0333,  0.0000,  0.0000,  0.0000, -0.1410,  0.0000,  0.0000,  0.0000,\n",
       "                        0.1850,  0.0000,  0.0000,  0.0000, -0.0407,  0.0000,  0.0000,  0.0000],\n",
       "                      [ 0.0982,  0.0000,  0.0000,  0.0000, -0.1979,  0.0000,  0.0000,  0.0000,\n",
       "                        0.1971,  0.0000,  0.0000,  0.0000, -0.0975,  0.0000,  0.0000,  0.0000,\n",
       "                       -0.1262,  0.0000,  0.0000,  0.0000,  0.0313,  0.0000,  0.0000,  0.0000]])),\n",
       "             ('rnn.parametrizations.weight_ih_l0.original',\n",
       "              tensor([[0.0657, 0.0000, 0.0000, 0.0000],\n",
       "                      [0.0000, 0.0000, 0.0000, 0.0000],\n",
       "                      [0.0000, 0.0000, 0.0000, 0.0000],\n",
       "                      [0.0000, 0.0000, 0.0000, 0.0000],\n",
       "                      [0.0000, 0.0000, 0.0000, 0.0000],\n",
       "                      [0.0000, 0.0000, 0.0000, 0.0000],\n",
       "                      [0.0000, 0.0000, 0.0000, 0.0000],\n",
       "                      [0.0000, 0.0000, 0.0000, 0.0000],\n",
       "                      [0.0000, 0.0000, 0.0000, 0.0000],\n",
       "                      [0.0000, 0.0000, 0.0000, 0.0000],\n",
       "                      [0.0000, 0.0000, 0.0000, 0.0000],\n",
       "                      [0.0000, 0.0000, 0.0000, 0.0000],\n",
       "                      [0.0000, 0.0000, 0.0000, 0.0000],\n",
       "                      [0.0000, 0.0000, 0.0000, 0.0000],\n",
       "                      [0.0000, 0.0000, 0.0000, 0.0000],\n",
       "                      [0.0000, 0.0000, 0.0000, 0.0000],\n",
       "                      [0.0000, 0.0000, 0.0000, 0.0000],\n",
       "                      [0.0000, 0.0000, 0.0000, 0.0000],\n",
       "                      [0.0000, 0.0000, 0.0000, 0.0000],\n",
       "                      [0.0000, 0.0000, 0.0000, 0.0000],\n",
       "                      [0.0000, 0.0000, 0.0000, 0.0000],\n",
       "                      [0.0000, 0.0000, 0.0000, 0.0000],\n",
       "                      [0.0000, 0.0000, 0.0000, 0.0000],\n",
       "                      [0.0000, 0.0000, 0.0000, 0.0000]])),\n",
       "             ('toclass.weight',\n",
       "              tensor([[ 0.1612, -0.0768, -0.0404, -0.1544,  0.1003,  0.1167, -0.0469,  0.1068,\n",
       "                        0.0723,  0.0054,  0.2011, -0.1094,  0.1344,  0.1081, -0.0852, -0.1654,\n",
       "                        0.0762, -0.0551, -0.1336, -0.0260, -0.0220,  0.0320,  0.1522,  0.0413]]))])"
      ]
     },
     "execution_count": 9,
     "metadata": {},
     "output_type": "execute_result"
    }
   ],
   "source": [
    "uniquep_model.state_dict()"
   ]
  },
  {
   "cell_type": "code",
   "execution_count": 21,
   "metadata": {},
   "outputs": [
    {
     "data": {
      "text/plain": [
       "[[tensor([[0.0657, 0.0000, 0.0000, 0.0000],\n",
       "          [0.0000, 0.0657, 0.0000, 0.0000],\n",
       "          [0.0000, 0.0000, 0.0657, 0.0000],\n",
       "          [0.0000, 0.0000, 0.0000, 0.0657],\n",
       "          [0.0657, 0.0000, 0.0000, 0.0000],\n",
       "          [0.0000, 0.0657, 0.0000, 0.0000],\n",
       "          [0.0000, 0.0000, 0.0657, 0.0000],\n",
       "          [0.0000, 0.0000, 0.0000, 0.0657],\n",
       "          [0.0657, 0.0000, 0.0000, 0.0000],\n",
       "          [0.0000, 0.0657, 0.0000, 0.0000],\n",
       "          [0.0000, 0.0000, 0.0657, 0.0000],\n",
       "          [0.0000, 0.0000, 0.0000, 0.0657],\n",
       "          [0.0657, 0.0000, 0.0000, 0.0000],\n",
       "          [0.0000, 0.0657, 0.0000, 0.0000],\n",
       "          [0.0000, 0.0000, 0.0657, 0.0000],\n",
       "          [0.0000, 0.0000, 0.0000, 0.0657],\n",
       "          [0.0657, 0.0000, 0.0000, 0.0000],\n",
       "          [0.0000, 0.0657, 0.0000, 0.0000],\n",
       "          [0.0000, 0.0000, 0.0657, 0.0000],\n",
       "          [0.0000, 0.0000, 0.0000, 0.0657],\n",
       "          [0.0657, 0.0000, 0.0000, 0.0000],\n",
       "          [0.0000, 0.0657, 0.0000, 0.0000],\n",
       "          [0.0000, 0.0000, 0.0657, 0.0000],\n",
       "          [0.0000, 0.0000, 0.0000, 0.0657]], grad_fn=<MulBackward0>),\n",
       "  tensor([[-0.0751, -0.0751, -0.0751, -0.0751, -0.0425, -0.0425, -0.0425, -0.0425,\n",
       "            0.0426,  0.0426,  0.0426,  0.0426, -0.0127, -0.0127, -0.0127, -0.0127,\n",
       "            0.0372,  0.0372,  0.0372,  0.0372,  0.0473,  0.0473,  0.0473,  0.0473],\n",
       "          [-0.0200, -0.0200, -0.0200, -0.0200, -0.0359, -0.0359, -0.0359, -0.0359,\n",
       "           -0.0262, -0.0262, -0.0262, -0.0262,  0.0933,  0.0933,  0.0933,  0.0933,\n",
       "            0.0729,  0.0729,  0.0729,  0.0729, -0.0680, -0.0680, -0.0680, -0.0680],\n",
       "          [ 0.0235,  0.0235,  0.0235,  0.0235,  0.0044,  0.0044,  0.0044,  0.0044,\n",
       "            0.0241,  0.0241,  0.0241,  0.0241, -0.0286, -0.0286, -0.0286, -0.0286,\n",
       "           -0.0254, -0.0254, -0.0254, -0.0254,  0.0239,  0.0239,  0.0239,  0.0239],\n",
       "          [-0.0172, -0.0172, -0.0172, -0.0172,  0.0169,  0.0169,  0.0169,  0.0169,\n",
       "           -0.0375, -0.0375, -0.0375, -0.0375,  0.0487,  0.0487,  0.0487,  0.0487,\n",
       "            0.0636,  0.0636,  0.0636,  0.0636, -0.0790, -0.0790, -0.0790, -0.0790],\n",
       "          [-0.0632, -0.0632, -0.0632, -0.0632, -0.0453, -0.0453, -0.0453, -0.0453,\n",
       "           -0.0016, -0.0016, -0.0016, -0.0016,  0.0167,  0.0167,  0.0167,  0.0167,\n",
       "            0.0634,  0.0634,  0.0634,  0.0634,  0.0479,  0.0479,  0.0479,  0.0479],\n",
       "          [ 0.0466,  0.0466,  0.0466,  0.0466,  0.0064,  0.0064,  0.0064,  0.0064,\n",
       "            0.0046,  0.0046,  0.0046,  0.0046, -0.0539, -0.0539, -0.0539, -0.0539,\n",
       "           -0.0218, -0.0218, -0.0218, -0.0218,  0.0348,  0.0348,  0.0348,  0.0348],\n",
       "          [ 0.0691,  0.0691,  0.0691,  0.0691, -0.0397, -0.0397, -0.0397, -0.0397,\n",
       "           -0.0505, -0.0505, -0.0505, -0.0505,  0.0219,  0.0219,  0.0219,  0.0219,\n",
       "            0.0509,  0.0509,  0.0509,  0.0509, -0.0492, -0.0492, -0.0492, -0.0492],\n",
       "          [-0.0120, -0.0120, -0.0120, -0.0120, -0.0325, -0.0325, -0.0325, -0.0325,\n",
       "           -0.0487, -0.0487, -0.0487, -0.0487, -0.0018, -0.0018, -0.0018, -0.0018,\n",
       "           -0.0092, -0.0092, -0.0092, -0.0092,  0.1135,  0.1135,  0.1135,  0.1135],\n",
       "          [ 0.0305,  0.0305,  0.0305,  0.0305, -0.0702, -0.0702, -0.0702, -0.0702,\n",
       "            0.0953,  0.0953,  0.0953,  0.0953, -0.0226, -0.0226, -0.0226, -0.0226,\n",
       "            0.0387,  0.0387,  0.0387,  0.0387, -0.0730, -0.0730, -0.0730, -0.0730],\n",
       "          [ 0.0856,  0.0856,  0.0856,  0.0856, -0.0366, -0.0366, -0.0366, -0.0366,\n",
       "            0.0025,  0.0025,  0.0025,  0.0025, -0.0512, -0.0512, -0.0512, -0.0512,\n",
       "            0.0209,  0.0209,  0.0209,  0.0209, -0.0062, -0.0062, -0.0062, -0.0062],\n",
       "          [ 0.0504,  0.0504,  0.0504,  0.0504, -0.0065, -0.0065, -0.0065, -0.0065,\n",
       "           -0.0159, -0.0159, -0.0159, -0.0159, -0.0627, -0.0627, -0.0627, -0.0627,\n",
       "            0.1075,  0.1075,  0.1075,  0.1075, -0.0554, -0.0554, -0.0554, -0.0554],\n",
       "          [ 0.0104,  0.0104,  0.0104,  0.0104, -0.0570, -0.0570, -0.0570, -0.0570,\n",
       "            0.0319,  0.0319,  0.0319,  0.0319, -0.0625, -0.0625, -0.0625, -0.0625,\n",
       "            0.0968,  0.0968,  0.0968,  0.0968, -0.0073, -0.0073, -0.0073, -0.0073],\n",
       "          [-0.0174, -0.0174, -0.0174, -0.0174, -0.0262, -0.0262, -0.0262, -0.0262,\n",
       "            0.0003,  0.0003,  0.0003,  0.0003, -0.0969, -0.0969, -0.0969, -0.0969,\n",
       "            0.0958,  0.0958,  0.0958,  0.0958,  0.0492,  0.0492,  0.0492,  0.0492],\n",
       "          [-0.0603, -0.0603, -0.0603, -0.0603,  0.0539,  0.0539,  0.0539,  0.0539,\n",
       "           -0.0463, -0.0463, -0.0463, -0.0463, -0.0713, -0.0713, -0.0713, -0.0713,\n",
       "            0.0424,  0.0424,  0.0424,  0.0424,  0.0857,  0.0857,  0.0857,  0.0857],\n",
       "          [-0.0288, -0.0288, -0.0288, -0.0288,  0.0135,  0.0135,  0.0135,  0.0135,\n",
       "            0.0280,  0.0280,  0.0280,  0.0280, -0.0042, -0.0042, -0.0042, -0.0042,\n",
       "           -0.0357, -0.0357, -0.0357, -0.0357, -0.0082, -0.0082, -0.0082, -0.0082],\n",
       "          [ 0.0178,  0.0178,  0.0178,  0.0178,  0.0230,  0.0230,  0.0230,  0.0230,\n",
       "           -0.0572, -0.0572, -0.0572, -0.0572,  0.0205,  0.0205,  0.0205,  0.0205,\n",
       "           -0.0199, -0.0199, -0.0199, -0.0199,  0.0378,  0.0378,  0.0378,  0.0378],\n",
       "          [-0.0573, -0.0573, -0.0573, -0.0573,  0.0754,  0.0754,  0.0754,  0.0754,\n",
       "           -0.0470, -0.0470, -0.0470, -0.0470, -0.0035, -0.0035, -0.0035, -0.0035,\n",
       "            0.0394,  0.0394,  0.0394,  0.0394, -0.0178, -0.0178, -0.0178, -0.0178],\n",
       "          [-0.0698, -0.0698, -0.0698, -0.0698,  0.0684,  0.0684,  0.0684,  0.0684,\n",
       "           -0.0675, -0.0675, -0.0675, -0.0675,  0.0088,  0.0088,  0.0088,  0.0088,\n",
       "            0.0833,  0.0833,  0.0833,  0.0833, -0.0315, -0.0315, -0.0315, -0.0315],\n",
       "          [-0.0854, -0.0854, -0.0854, -0.0854,  0.0114,  0.0114,  0.0114,  0.0114,\n",
       "            0.0310,  0.0310,  0.0310,  0.0310,  0.0149,  0.0149,  0.0149,  0.0149,\n",
       "            0.0855,  0.0855,  0.0855,  0.0855, -0.0645, -0.0645, -0.0645, -0.0645],\n",
       "          [-0.0132, -0.0132, -0.0132, -0.0132,  0.1107,  0.1107,  0.1107,  0.1107,\n",
       "            0.0172,  0.0172,  0.0172,  0.0172,  0.0143,  0.0143,  0.0143,  0.0143,\n",
       "           -0.0501, -0.0501, -0.0501, -0.0501, -0.0701, -0.0701, -0.0701, -0.0701],\n",
       "          [-0.0026, -0.0026, -0.0026, -0.0026, -0.0365, -0.0365, -0.0365, -0.0365,\n",
       "            0.0529,  0.0529,  0.0529,  0.0529,  0.0511,  0.0511,  0.0511,  0.0511,\n",
       "           -0.0672, -0.0672, -0.0672, -0.0672,  0.0070,  0.0070,  0.0070,  0.0070],\n",
       "          [ 0.0253,  0.0253,  0.0253,  0.0253,  0.0711,  0.0711,  0.0711,  0.0711,\n",
       "           -0.0337, -0.0337, -0.0337, -0.0337, -0.0183, -0.0183, -0.0183, -0.0183,\n",
       "            0.0764,  0.0764,  0.0764,  0.0764, -0.1351, -0.1351, -0.1351, -0.1351],\n",
       "          [ 0.0800,  0.0800,  0.0800,  0.0800,  0.0201,  0.0201,  0.0201,  0.0201,\n",
       "           -0.0172, -0.0172, -0.0172, -0.0172, -0.1043, -0.1043, -0.1043, -0.1043,\n",
       "            0.0587,  0.0587,  0.0587,  0.0587, -0.0542, -0.0542, -0.0542, -0.0542],\n",
       "          [ 0.0577,  0.0577,  0.0577,  0.0577, -0.0903, -0.0903, -0.0903, -0.0903,\n",
       "            0.1072,  0.1072,  0.1072,  0.1072, -0.0401, -0.0401, -0.0401, -0.0401,\n",
       "           -0.0545, -0.0545, -0.0545, -0.0545,  0.0243,  0.0243,  0.0243,  0.0243]],\n",
       "         grad_fn=<MmBackward0>)]]"
      ]
     },
     "execution_count": 21,
     "metadata": {},
     "output_type": "execute_result"
    }
   ],
   "source": [
    "uniquep_model.rnn.all_weights#parametrizations[\"weight_hh_l0\"][0].change_base"
   ]
  }
 ],
 "metadata": {
  "kernelspec": {
   "display_name": "Python 3",
   "language": "python",
   "name": "python3"
  },
  "language_info": {
   "codemirror_mode": {
    "name": "ipython",
    "version": 3
   },
   "file_extension": ".py",
   "mimetype": "text/x-python",
   "name": "python",
   "nbconvert_exporter": "python",
   "pygments_lexer": "ipython3",
   "version": "3.11.7"
  }
 },
 "nbformat": 4,
 "nbformat_minor": 2
}
