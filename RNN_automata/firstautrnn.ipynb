{
 "cells": [
  {
   "cell_type": "code",
   "execution_count": 1,
   "metadata": {
    "metadata": {}
   },
   "outputs": [],
   "source": [
    "import matplotlib.pyplot as plt\n",
    "import torch\n",
    "import torch.nn as nn\n",
    "from torch.utils.data import DataLoader, random_split\n",
    "import torch.nn.utils.parametrize as parametrize\n",
    "from tqdm import tqdm"
   ]
  },
  {
   "cell_type": "markdown",
   "metadata": {},
   "source": [
    "## Hyperparameters"
   ]
  },
  {
   "cell_type": "code",
   "execution_count": 3,
   "metadata": {
    "metadata": {}
   },
   "outputs": [],
   "source": [
    "BATCH_SIZE = 200\n",
    "\n",
    "TEST_SIZE = 0.2\n",
    "\n",
    "N_EPOCH = 20\n",
    "LEARNING_RATES = 0.001\n",
    "\n",
    "torch.manual_seed(689)\n",
    "#device = torch.device(\"cuda\" if torch.cuda.is_available() else \"cpu\")\n",
    "device = torch.device(\"cpu\")"
   ]
  },
  {
   "cell_type": "markdown",
   "metadata": {},
   "source": [
    "## Dataset preparations"
   ]
  },
  {
   "cell_type": "code",
   "execution_count": 4,
   "metadata": {
    "metadata": {}
   },
   "outputs": [],
   "source": [
    "from automata import DFA, TorchData, AutomataRNN, ParametrizeRNN\n",
    "from datas import principal"
   ]
  },
  {
   "cell_type": "code",
   "execution_count": 12,
   "metadata": {
    "metadata": {}
   },
   "outputs": [
    {
     "name": "stdout",
     "output_type": "stream",
     "text": [
      "Generate dataset 'even'...\n",
      "Done! in 4.6125 sec\n",
      "Generate dataset 'sink'...\n",
      "Done! in 47.3199 sec\n",
      "Generate 'fix'...\n",
      "Done! in 4.8483 sec\n",
      "Generate 'unique'...\n",
      "Done! in 4.4250 sec\n"
     ]
    }
   ],
   "source": [
    "even, sink, fix, unique = principal(even=True, sink=True, fix=True, unique=True)"
   ]
  },
  {
   "cell_type": "code",
   "execution_count": 6,
   "metadata": {},
   "outputs": [],
   "source": [
    "def makeloader(automaton:DFA):\n",
    "    train, test = random_split(TorchData(automaton), [1-TEST_SIZE, TEST_SIZE])\n",
    "\n",
    "    train = DataLoader(train, BATCH_SIZE, shuffle=True)\n",
    "    test = next(iter(DataLoader(test, len(test))))\n",
    "\n",
    "    return train, test\n",
    "    \n",
    "\n",
    "evenloader, testeven = makeloader(even)\n",
    "fixloader, testfix = makeloader(fix)\n",
    "uniqueloader, testunique = makeloader(unique)"
   ]
  },
  {
   "cell_type": "markdown",
   "metadata": {},
   "source": [
    "## RNN training"
   ]
  },
  {
   "cell_type": "code",
   "execution_count": 7,
   "metadata": {},
   "outputs": [],
   "source": [
    "def parametrizevsnot(automaton:DFA, loss = nn.BCELoss(), optimizer = torch.optim.Adam, returnautomat=False):\n",
    "    trainloader, test = makeloader(automaton)\n",
    "\n",
    "    noparam = AutomataRNN(automaton, device=device).to(device)\n",
    "    optim = optimizer(noparam.parameters(), lr=LEARNING_RATES)\n",
    "    optim.zero_grad()\n",
    "\n",
    "    losslistnoinit = list()\n",
    "\n",
    "    for epoch in range(N_EPOCH):\n",
    "        trainer = iter(trainloader)\n",
    "        for _ in tqdm(range(len(trainloader)), desc=f\"Epoch {epoch+1}...\", ncols=75):\n",
    "            words, lengths, labels = next(trainer)\n",
    "            labels = labels.to(dtype = torch.float32)\n",
    "\n",
    "            out = noparam(words, lengths)\n",
    "\n",
    "            losslistnoinit.append(loss(out, labels))\n",
    "            losslistnoinit[-1].backward()\n",
    "\n",
    "            optim.step()\n",
    "            optim.zero_grad()\n",
    "\n",
    "        with torch.no_grad():\n",
    "            predictions = noparam.predict(test[0], test[1])\n",
    "            acc = torch.sum(predictions == test[2].reshape(-1), dim=0) * 100 / len(test[2])\n",
    "            print(f\"Done! Trainloss: {losslistnoinit[-1]:.6f}, Test accuracy: {acc:.4f}\")\n",
    "\n",
    "    print(\"\\nNon parametrized RNN done!\\n\")\n",
    "\n",
    "    withparam = ParametrizeRNN(automaton, device=device).to(device)\n",
    "\n",
    "    optim = optimizer(withparam.parameters(), lr=LEARNING_RATES)\n",
    "    optim.zero_grad()\n",
    "\n",
    "    losslistinit = list()\n",
    "\n",
    "    for epoch in range(N_EPOCH):\n",
    "        trainer = iter(trainloader)\n",
    "        for _ in tqdm(range(len(trainloader)), desc=f\"Epoch {epoch+1}...\", ncols=75):\n",
    "            words, lengths, labels = next(trainer)\n",
    "            labels = labels.to(dtype = torch.float32)\n",
    "\n",
    "            out = withparam(words, lengths)\n",
    "\n",
    "            losslistinit.append(loss(out, labels))\n",
    "            losslistinit[-1].backward()\n",
    "\n",
    "            optim.step()\n",
    "            optim.zero_grad()\n",
    "\n",
    "        with torch.no_grad():\n",
    "            predictions = withparam.predict(test[0], test[1])\n",
    "            acc = torch.sum(predictions == test[2].reshape(-1), dim=0) * 100 / len(test[2])\n",
    "            print(f\"Done! Trainloss: {losslistinit[-1]:.6f}, Test accuracy: {acc:.4f}\")\n",
    "\n",
    "    print(\"\\nParametrized RNN done!\")\n",
    "    if returnautomat:\n",
    "        return (losslistnoinit, noparam), (losslistinit, withparam)\n",
    "    else:\n",
    "        return losslistnoinit, losslistinit\n",
    "            "
   ]
  },
  {
   "cell_type": "markdown",
   "metadata": {},
   "source": [
    "### Even"
   ]
  },
  {
   "cell_type": "code",
   "execution_count": 7,
   "metadata": {
    "metadata": {}
   },
   "outputs": [
    {
     "name": "stderr",
     "output_type": "stream",
     "text": [
      "Epoch 1...: 100%|██████████████████████████| 40/40 [00:01<00:00, 37.55it/s]\n"
     ]
    },
    {
     "name": "stdout",
     "output_type": "stream",
     "text": [
      "Done! Trainloss: 0.700114, Test accuracy: 51.9500\n"
     ]
    },
    {
     "name": "stderr",
     "output_type": "stream",
     "text": [
      "Epoch 2...: 100%|██████████████████████████| 40/40 [00:00<00:00, 41.20it/s]\n"
     ]
    },
    {
     "name": "stdout",
     "output_type": "stream",
     "text": [
      "Done! Trainloss: 0.700668, Test accuracy: 51.9000\n",
      "\n",
      "Non parametrized RNN done!\n",
      "\n"
     ]
    },
    {
     "name": "stderr",
     "output_type": "stream",
     "text": [
      "Epoch 1...: 100%|██████████████████████████| 40/40 [00:01<00:00, 37.98it/s]\n"
     ]
    },
    {
     "name": "stdout",
     "output_type": "stream",
     "text": [
      "Done! Trainloss: 0.694074, Test accuracy: 52.0000\n"
     ]
    },
    {
     "name": "stderr",
     "output_type": "stream",
     "text": [
      "Epoch 2...: 100%|██████████████████████████| 40/40 [00:00<00:00, 45.94it/s]"
     ]
    },
    {
     "name": "stdout",
     "output_type": "stream",
     "text": [
      "Done! Trainloss: 0.694512, Test accuracy: 52.0000\n",
      "\n",
      "Parametrized RNN done!\n"
     ]
    },
    {
     "name": "stderr",
     "output_type": "stream",
     "text": [
      "\n"
     ]
    }
   ],
   "source": [
    "evennop, evenp = parametrizevsnot(even)"
   ]
  },
  {
   "cell_type": "code",
   "execution_count": 25,
   "metadata": {
    "metadata": {}
   },
   "outputs": [
    {
     "data": {
      "image/png": "[encoded data removed]",
      "text/plain": [
       "<Figure size 640x480 with 1 Axes>"
      ]
     },
     "metadata": {},
     "output_type": "display_data"
    }
   ],
   "source": [
    "with torch.no_grad():\n",
    "    plt.plot(evennop, label = \"Without constraints\")\n",
    "    plt.plot(evenp, \"r\", label=\"With constraints\")\n",
    "    plt.legend()\n",
    "    plt.show()\n",
    "    "
   ]
  },
  {
   "cell_type": "markdown",
   "metadata": {},
   "source": [
    "### Sink"
   ]
  },
  {
   "cell_type": "code",
   "execution_count": 14,
   "metadata": {
    "metadata": {}
   },
   "outputs": [
    {
     "name": "stderr",
     "output_type": "stream",
     "text": [
      "Epoch 1...: 100%|██████████████████████████| 40/40 [00:01<00:00, 26.01it/s]\n"
     ]
    },
    {
     "name": "stdout",
     "output_type": "stream",
     "text": [
      "Done! Trainloss: 0.605961, Test accuracy: 67.2500\n"
     ]
    },
    {
     "name": "stderr",
     "output_type": "stream",
     "text": [
      "Epoch 2...: 100%|██████████████████████████| 40/40 [00:01<00:00, 24.54it/s]\n"
     ]
    },
    {
     "name": "stdout",
     "output_type": "stream",
     "text": [
      "Done! Trainloss: 0.540461, Test accuracy: 70.8000\n"
     ]
    },
    {
     "name": "stderr",
     "output_type": "stream",
     "text": [
      "Epoch 3...: 100%|██████████████████████████| 40/40 [00:01<00:00, 26.11it/s]\n"
     ]
    },
    {
     "name": "stdout",
     "output_type": "stream",
     "text": [
      "Done! Trainloss: 0.401053, Test accuracy: 93.2000\n"
     ]
    },
    {
     "name": "stderr",
     "output_type": "stream",
     "text": [
      "Epoch 4...: 100%|██████████████████████████| 40/40 [00:01<00:00, 26.24it/s]\n"
     ]
    },
    {
     "name": "stdout",
     "output_type": "stream",
     "text": [
      "Done! Trainloss: 0.299236, Test accuracy: 95.5000\n"
     ]
    },
    {
     "name": "stderr",
     "output_type": "stream",
     "text": [
      "Epoch 5...: 100%|██████████████████████████| 40/40 [00:01<00:00, 23.06it/s]\n"
     ]
    },
    {
     "name": "stdout",
     "output_type": "stream",
     "text": [
      "Done! Trainloss: 0.254593, Test accuracy: 98.8500\n"
     ]
    },
    {
     "name": "stderr",
     "output_type": "stream",
     "text": [
      "Epoch 6...: 100%|██████████████████████████| 40/40 [00:01<00:00, 25.41it/s]\n"
     ]
    },
    {
     "name": "stdout",
     "output_type": "stream",
     "text": [
      "Done! Trainloss: 0.190790, Test accuracy: 98.8500\n"
     ]
    },
    {
     "name": "stderr",
     "output_type": "stream",
     "text": [
      "Epoch 7...: 100%|██████████████████████████| 40/40 [00:01<00:00, 24.81it/s]\n"
     ]
    },
    {
     "name": "stdout",
     "output_type": "stream",
     "text": [
      "Done! Trainloss: 0.165726, Test accuracy: 98.9000\n"
     ]
    },
    {
     "name": "stderr",
     "output_type": "stream",
     "text": [
      "Epoch 8...: 100%|██████████████████████████| 40/40 [00:01<00:00, 26.26it/s]\n"
     ]
    },
    {
     "name": "stdout",
     "output_type": "stream",
     "text": [
      "Done! Trainloss: 0.154504, Test accuracy: 98.9000\n"
     ]
    },
    {
     "name": "stderr",
     "output_type": "stream",
     "text": [
      "Epoch 9...: 100%|██████████████████████████| 40/40 [00:01<00:00, 26.76it/s]\n"
     ]
    },
    {
     "name": "stdout",
     "output_type": "stream",
     "text": [
      "Done! Trainloss: 0.109847, Test accuracy: 98.9000\n"
     ]
    },
    {
     "name": "stderr",
     "output_type": "stream",
     "text": [
      "Epoch 10...: 100%|█████████████████████████| 40/40 [00:01<00:00, 26.28it/s]\n"
     ]
    },
    {
     "name": "stdout",
     "output_type": "stream",
     "text": [
      "Done! Trainloss: 0.096448, Test accuracy: 100.0000\n"
     ]
    },
    {
     "name": "stderr",
     "output_type": "stream",
     "text": [
      "Epoch 11...: 100%|█████████████████████████| 40/40 [00:01<00:00, 23.50it/s]\n"
     ]
    },
    {
     "name": "stdout",
     "output_type": "stream",
     "text": [
      "Done! Trainloss: 0.075810, Test accuracy: 99.9000\n"
     ]
    },
    {
     "name": "stderr",
     "output_type": "stream",
     "text": [
      "Epoch 12...: 100%|█████████████████████████| 40/40 [00:01<00:00, 25.33it/s]\n"
     ]
    },
    {
     "name": "stdout",
     "output_type": "stream",
     "text": [
      "Done! Trainloss: 0.059200, Test accuracy: 100.0000\n"
     ]
    },
    {
     "name": "stderr",
     "output_type": "stream",
     "text": [
      "Epoch 13...: 100%|█████████████████████████| 40/40 [00:01<00:00, 21.80it/s]\n"
     ]
    },
    {
     "name": "stdout",
     "output_type": "stream",
     "text": [
      "Done! Trainloss: 0.068237, Test accuracy: 100.0000\n"
     ]
    },
    {
     "name": "stderr",
     "output_type": "stream",
     "text": [
      "Epoch 14...: 100%|█████████████████████████| 40/40 [00:01<00:00, 20.32it/s]\n"
     ]
    },
    {
     "name": "stdout",
     "output_type": "stream",
     "text": [
      "Done! Trainloss: 0.046556, Test accuracy: 100.0000\n"
     ]
    },
    {
     "name": "stderr",
     "output_type": "stream",
     "text": [
      "Epoch 15...: 100%|█████████████████████████| 40/40 [00:01<00:00, 25.32it/s]\n"
     ]
    },
    {
     "name": "stdout",
     "output_type": "stream",
     "text": [
      "Done! Trainloss: 0.044031, Test accuracy: 100.0000\n"
     ]
    },
    {
     "name": "stderr",
     "output_type": "stream",
     "text": [
      "Epoch 16...: 100%|█████████████████████████| 40/40 [00:01<00:00, 24.57it/s]\n"
     ]
    },
    {
     "name": "stdout",
     "output_type": "stream",
     "text": [
      "Done! Trainloss: 0.038710, Test accuracy: 100.0000\n"
     ]
    },
    {
     "name": "stderr",
     "output_type": "stream",
     "text": [
      "Epoch 17...: 100%|█████████████████████████| 40/40 [00:01<00:00, 23.53it/s]\n"
     ]
    },
    {
     "name": "stdout",
     "output_type": "stream",
     "text": [
      "Done! Trainloss: 0.037593, Test accuracy: 100.0000\n"
     ]
    },
    {
     "name": "stderr",
     "output_type": "stream",
     "text": [
      "Epoch 18...: 100%|█████████████████████████| 40/40 [00:01<00:00, 21.37it/s]\n"
     ]
    },
    {
     "name": "stdout",
     "output_type": "stream",
     "text": [
      "Done! Trainloss: 0.029421, Test accuracy: 100.0000\n"
     ]
    },
    {
     "name": "stderr",
     "output_type": "stream",
     "text": [
      "Epoch 19...: 100%|█████████████████████████| 40/40 [00:02<00:00, 15.54it/s]\n"
     ]
    },
    {
     "name": "stdout",
     "output_type": "stream",
     "text": [
      "Done! Trainloss: 0.029811, Test accuracy: 100.0000\n"
     ]
    },
    {
     "name": "stderr",
     "output_type": "stream",
     "text": [
      "Epoch 20...: 100%|█████████████████████████| 40/40 [00:01<00:00, 20.86it/s]\n"
     ]
    },
    {
     "name": "stdout",
     "output_type": "stream",
     "text": [
      "Done! Trainloss: 0.026017, Test accuracy: 100.0000\n",
      "\n",
      "Non parametrized RNN done!\n",
      "\n"
     ]
    },
    {
     "name": "stderr",
     "output_type": "stream",
     "text": [
      "Epoch 1...: 100%|██████████████████████████| 40/40 [00:01<00:00, 26.02it/s]\n"
     ]
    },
    {
     "name": "stdout",
     "output_type": "stream",
     "text": [
      "Done! Trainloss: 0.661032, Test accuracy: 79.0500\n"
     ]
    },
    {
     "name": "stderr",
     "output_type": "stream",
     "text": [
      "Epoch 2...: 100%|██████████████████████████| 40/40 [00:01<00:00, 21.45it/s]\n"
     ]
    },
    {
     "name": "stdout",
     "output_type": "stream",
     "text": [
      "Done! Trainloss: 0.631645, Test accuracy: 79.0500\n"
     ]
    },
    {
     "name": "stderr",
     "output_type": "stream",
     "text": [
      "Epoch 3...: 100%|██████████████████████████| 40/40 [00:01<00:00, 22.77it/s]\n"
     ]
    },
    {
     "name": "stdout",
     "output_type": "stream",
     "text": [
      "Done! Trainloss: 0.594883, Test accuracy: 89.8500\n"
     ]
    },
    {
     "name": "stderr",
     "output_type": "stream",
     "text": [
      "Epoch 4...: 100%|██████████████████████████| 40/40 [00:01<00:00, 25.93it/s]\n"
     ]
    },
    {
     "name": "stdout",
     "output_type": "stream",
     "text": [
      "Done! Trainloss: 0.542437, Test accuracy: 89.8500\n"
     ]
    },
    {
     "name": "stderr",
     "output_type": "stream",
     "text": [
      "Epoch 5...: 100%|██████████████████████████| 40/40 [00:01<00:00, 23.22it/s]\n"
     ]
    },
    {
     "name": "stdout",
     "output_type": "stream",
     "text": [
      "Done! Trainloss: 0.511822, Test accuracy: 89.8500\n"
     ]
    },
    {
     "name": "stderr",
     "output_type": "stream",
     "text": [
      "Epoch 6...: 100%|██████████████████████████| 40/40 [00:02<00:00, 19.50it/s]\n"
     ]
    },
    {
     "name": "stdout",
     "output_type": "stream",
     "text": [
      "Done! Trainloss: 0.468303, Test accuracy: 89.8500\n"
     ]
    },
    {
     "name": "stderr",
     "output_type": "stream",
     "text": [
      "Epoch 7...: 100%|██████████████████████████| 40/40 [00:01<00:00, 26.29it/s]\n"
     ]
    },
    {
     "name": "stdout",
     "output_type": "stream",
     "text": [
      "Done! Trainloss: 0.418645, Test accuracy: 89.8500\n"
     ]
    },
    {
     "name": "stderr",
     "output_type": "stream",
     "text": [
      "Epoch 8...: 100%|██████████████████████████| 40/40 [00:01<00:00, 26.40it/s]\n"
     ]
    },
    {
     "name": "stdout",
     "output_type": "stream",
     "text": [
      "Done! Trainloss: 0.365337, Test accuracy: 89.8500\n"
     ]
    },
    {
     "name": "stderr",
     "output_type": "stream",
     "text": [
      "Epoch 9...: 100%|██████████████████████████| 40/40 [00:01<00:00, 24.28it/s]\n"
     ]
    },
    {
     "name": "stdout",
     "output_type": "stream",
     "text": [
      "Done! Trainloss: 0.256445, Test accuracy: 97.6500\n"
     ]
    },
    {
     "name": "stderr",
     "output_type": "stream",
     "text": [
      "Epoch 10...: 100%|█████████████████████████| 40/40 [00:01<00:00, 21.94it/s]\n"
     ]
    },
    {
     "name": "stdout",
     "output_type": "stream",
     "text": [
      "Done! Trainloss: 0.168659, Test accuracy: 98.3000\n"
     ]
    },
    {
     "name": "stderr",
     "output_type": "stream",
     "text": [
      "Epoch 11...: 100%|█████████████████████████| 40/40 [00:01<00:00, 24.69it/s]\n"
     ]
    },
    {
     "name": "stdout",
     "output_type": "stream",
     "text": [
      "Done! Trainloss: 0.139244, Test accuracy: 98.7500\n"
     ]
    },
    {
     "name": "stderr",
     "output_type": "stream",
     "text": [
      "Epoch 12...: 100%|█████████████████████████| 40/40 [00:01<00:00, 24.79it/s]\n"
     ]
    },
    {
     "name": "stdout",
     "output_type": "stream",
     "text": [
      "Done! Trainloss: 0.131435, Test accuracy: 98.9000\n"
     ]
    },
    {
     "name": "stderr",
     "output_type": "stream",
     "text": [
      "Epoch 13...: 100%|█████████████████████████| 40/40 [00:01<00:00, 23.78it/s]\n"
     ]
    },
    {
     "name": "stdout",
     "output_type": "stream",
     "text": [
      "Done! Trainloss: 0.113565, Test accuracy: 98.8500\n"
     ]
    },
    {
     "name": "stderr",
     "output_type": "stream",
     "text": [
      "Epoch 14...: 100%|█████████████████████████| 40/40 [00:01<00:00, 20.03it/s]\n"
     ]
    },
    {
     "name": "stdout",
     "output_type": "stream",
     "text": [
      "Done! Trainloss: 0.090408, Test accuracy: 98.9000\n"
     ]
    },
    {
     "name": "stderr",
     "output_type": "stream",
     "text": [
      "Epoch 15...: 100%|█████████████████████████| 40/40 [00:01<00:00, 24.89it/s]\n"
     ]
    },
    {
     "name": "stdout",
     "output_type": "stream",
     "text": [
      "Done! Trainloss: 0.080415, Test accuracy: 98.9000\n"
     ]
    },
    {
     "name": "stderr",
     "output_type": "stream",
     "text": [
      "Epoch 16...: 100%|█████████████████████████| 40/40 [00:01<00:00, 24.22it/s]\n"
     ]
    },
    {
     "name": "stdout",
     "output_type": "stream",
     "text": [
      "Done! Trainloss: 0.068897, Test accuracy: 99.1500\n"
     ]
    },
    {
     "name": "stderr",
     "output_type": "stream",
     "text": [
      "Epoch 17...: 100%|█████████████████████████| 40/40 [00:01<00:00, 22.99it/s]\n"
     ]
    },
    {
     "name": "stdout",
     "output_type": "stream",
     "text": [
      "Done! Trainloss: 0.063838, Test accuracy: 99.9500\n"
     ]
    },
    {
     "name": "stderr",
     "output_type": "stream",
     "text": [
      "Epoch 18...: 100%|█████████████████████████| 40/40 [00:01<00:00, 24.24it/s]\n"
     ]
    },
    {
     "name": "stdout",
     "output_type": "stream",
     "text": [
      "Done! Trainloss: 0.056426, Test accuracy: 100.0000\n"
     ]
    },
    {
     "name": "stderr",
     "output_type": "stream",
     "text": [
      "Epoch 19...: 100%|█████████████████████████| 40/40 [00:01<00:00, 21.84it/s]\n"
     ]
    },
    {
     "name": "stdout",
     "output_type": "stream",
     "text": [
      "Done! Trainloss: 0.049937, Test accuracy: 99.9000\n"
     ]
    },
    {
     "name": "stderr",
     "output_type": "stream",
     "text": [
      "Epoch 20...: 100%|█████████████████████████| 40/40 [00:01<00:00, 22.34it/s]\n"
     ]
    },
    {
     "name": "stdout",
     "output_type": "stream",
     "text": [
      "Done! Trainloss: 0.045006, Test accuracy: 100.0000\n",
      "\n",
      "Parametrized RNN done!\n"
     ]
    }
   ],
   "source": [
    "(sinknop, sinkRNN), (sinkp, sinkPRNN) = parametrizevsnot(sink, returnautomat=True)"
   ]
  },
  {
   "cell_type": "code",
   "execution_count": 15,
   "metadata": {
    "metadata": {}
   },
   "outputs": [
    {
     "data": {
      "image/png": "[encoded data removed]",
      "text/plain": [
       "<Figure size 640x480 with 1 Axes>"
      ]
     },
     "metadata": {},
     "output_type": "display_data"
    }
   ],
   "source": [
    "with torch.no_grad():\n",
    "    plt.plot(sinknop, label = \"Without constraints\")\n",
    "    plt.plot(sinkp, \"r\", label=\"With constraints\")\n",
    "    plt.legend()\n",
    "    plt.show()\n",
    "    "
   ]
  },
  {
   "cell_type": "code",
   "execution_count": 21,
   "metadata": {},
   "outputs": [
    {
     "name": "stderr",
     "output_type": "stream",
     "text": [
      "/home/mt-ubu2/Documents/Internship/RNN_autmata/automata.py:325: UserWarning: `max_try` limit reach. Final prop = 0.0002\n",
      "  warn(f\"`max_try` limit reach. Final prop = {sum(labels)/len(labels)}\")\n"
     ]
    },
    {
     "name": "stdout",
     "output_type": "stream",
     "text": [
      "Test accuracy: 98.3000\n"
     ]
    }
   ],
   "source": [
    "sink.probas = \"equal\"\n",
    "\n",
    "sink.dataset(10000, meanlen = 12, max_try = 10000, random_state=690)\n",
    "\n",
    "sinkmoretest = next(iter(DataLoader(TorchData(sink), 10000)))\n",
    "\n",
    "with torch.no_grad():\n",
    "    predictions = sinkRNN.predict(sinkmoretest[0], sinkmoretest[1])\n",
    "    acc = torch.sum(predictions == sinkmoretest[2].reshape(-1), dim=0) * 100 / len(sinkmoretest[2])\n",
    "    print(f\"Test accuracy: {acc:.4f}\")"
   ]
  },
  {
   "cell_type": "markdown",
   "metadata": {},
   "source": [
    "## Fix"
   ]
  },
  {
   "cell_type": "code",
   "execution_count": 16,
   "metadata": {},
   "outputs": [
    {
     "name": "stderr",
     "output_type": "stream",
     "text": [
      "Epoch 1...: 100%|██████████████████████████| 40/40 [00:01<00:00, 20.61it/s]\n"
     ]
    },
    {
     "name": "stdout",
     "output_type": "stream",
     "text": [
      "Done! Trainloss: 0.390294, Test accuracy: 79.9500\n"
     ]
    },
    {
     "name": "stderr",
     "output_type": "stream",
     "text": [
      "Epoch 2...: 100%|██████████████████████████| 40/40 [00:01<00:00, 25.19it/s]\n"
     ]
    },
    {
     "name": "stdout",
     "output_type": "stream",
     "text": [
      "Done! Trainloss: 0.223307, Test accuracy: 93.8500\n"
     ]
    },
    {
     "name": "stderr",
     "output_type": "stream",
     "text": [
      "Epoch 3...: 100%|██████████████████████████| 40/40 [00:02<00:00, 16.50it/s]\n"
     ]
    },
    {
     "name": "stdout",
     "output_type": "stream",
     "text": [
      "Done! Trainloss: 0.110375, Test accuracy: 100.0000\n"
     ]
    },
    {
     "name": "stderr",
     "output_type": "stream",
     "text": [
      "Epoch 4...: 100%|██████████████████████████| 40/40 [00:02<00:00, 14.73it/s]\n"
     ]
    },
    {
     "name": "stdout",
     "output_type": "stream",
     "text": [
      "Done! Trainloss: 0.040933, Test accuracy: 100.0000\n"
     ]
    },
    {
     "name": "stderr",
     "output_type": "stream",
     "text": [
      "Epoch 5...: 100%|██████████████████████████| 40/40 [00:01<00:00, 28.79it/s]\n"
     ]
    },
    {
     "name": "stdout",
     "output_type": "stream",
     "text": [
      "Done! Trainloss: 0.026930, Test accuracy: 100.0000\n"
     ]
    },
    {
     "name": "stderr",
     "output_type": "stream",
     "text": [
      "Epoch 6...: 100%|██████████████████████████| 40/40 [00:01<00:00, 27.39it/s]\n"
     ]
    },
    {
     "name": "stdout",
     "output_type": "stream",
     "text": [
      "Done! Trainloss: 0.018430, Test accuracy: 100.0000\n"
     ]
    },
    {
     "name": "stderr",
     "output_type": "stream",
     "text": [
      "Epoch 7...: 100%|██████████████████████████| 40/40 [00:01<00:00, 27.30it/s]\n"
     ]
    },
    {
     "name": "stdout",
     "output_type": "stream",
     "text": [
      "Done! Trainloss: 0.012739, Test accuracy: 100.0000\n"
     ]
    },
    {
     "name": "stderr",
     "output_type": "stream",
     "text": [
      "Epoch 8...: 100%|██████████████████████████| 40/40 [00:01<00:00, 26.14it/s]\n"
     ]
    },
    {
     "name": "stdout",
     "output_type": "stream",
     "text": [
      "Done! Trainloss: 0.009972, Test accuracy: 100.0000\n"
     ]
    },
    {
     "name": "stderr",
     "output_type": "stream",
     "text": [
      "Epoch 9...: 100%|██████████████████████████| 40/40 [00:06<00:00,  6.46it/s]\n"
     ]
    },
    {
     "name": "stdout",
     "output_type": "stream",
     "text": [
      "Done! Trainloss: 0.008148, Test accuracy: 100.0000\n"
     ]
    },
    {
     "name": "stderr",
     "output_type": "stream",
     "text": [
      "Epoch 10...: 100%|█████████████████████████| 40/40 [00:01<00:00, 24.97it/s]\n"
     ]
    },
    {
     "name": "stdout",
     "output_type": "stream",
     "text": [
      "Done! Trainloss: 0.006543, Test accuracy: 100.0000\n"
     ]
    },
    {
     "name": "stderr",
     "output_type": "stream",
     "text": [
      "Epoch 11...: 100%|█████████████████████████| 40/40 [00:01<00:00, 27.54it/s]\n"
     ]
    },
    {
     "name": "stdout",
     "output_type": "stream",
     "text": [
      "Done! Trainloss: 0.005345, Test accuracy: 100.0000\n"
     ]
    },
    {
     "name": "stderr",
     "output_type": "stream",
     "text": [
      "Epoch 12...: 100%|█████████████████████████| 40/40 [00:01<00:00, 28.07it/s]\n"
     ]
    },
    {
     "name": "stdout",
     "output_type": "stream",
     "text": [
      "Done! Trainloss: 0.004509, Test accuracy: 100.0000\n"
     ]
    },
    {
     "name": "stderr",
     "output_type": "stream",
     "text": [
      "Epoch 13...: 100%|█████████████████████████| 40/40 [00:01<00:00, 25.60it/s]\n"
     ]
    },
    {
     "name": "stdout",
     "output_type": "stream",
     "text": [
      "Done! Trainloss: 0.004145, Test accuracy: 100.0000\n"
     ]
    },
    {
     "name": "stderr",
     "output_type": "stream",
     "text": [
      "Epoch 14...: 100%|█████████████████████████| 40/40 [00:01<00:00, 30.95it/s]\n"
     ]
    },
    {
     "name": "stdout",
     "output_type": "stream",
     "text": [
      "Done! Trainloss: 0.003462, Test accuracy: 100.0000\n"
     ]
    },
    {
     "name": "stderr",
     "output_type": "stream",
     "text": [
      "Epoch 15...: 100%|█████████████████████████| 40/40 [00:01<00:00, 32.78it/s]\n"
     ]
    },
    {
     "name": "stdout",
     "output_type": "stream",
     "text": [
      "Done! Trainloss: 0.003084, Test accuracy: 100.0000\n"
     ]
    },
    {
     "name": "stderr",
     "output_type": "stream",
     "text": [
      "Epoch 16...: 100%|█████████████████████████| 40/40 [00:01<00:00, 28.28it/s]\n"
     ]
    },
    {
     "name": "stdout",
     "output_type": "stream",
     "text": [
      "Done! Trainloss: 0.002732, Test accuracy: 100.0000\n"
     ]
    },
    {
     "name": "stderr",
     "output_type": "stream",
     "text": [
      "Epoch 17...: 100%|█████████████████████████| 40/40 [00:01<00:00, 27.58it/s]\n"
     ]
    },
    {
     "name": "stdout",
     "output_type": "stream",
     "text": [
      "Done! Trainloss: 0.002565, Test accuracy: 100.0000\n"
     ]
    },
    {
     "name": "stderr",
     "output_type": "stream",
     "text": [
      "Epoch 18...: 100%|█████████████████████████| 40/40 [00:01<00:00, 28.56it/s]\n"
     ]
    },
    {
     "name": "stdout",
     "output_type": "stream",
     "text": [
      "Done! Trainloss: 0.002299, Test accuracy: 100.0000\n"
     ]
    },
    {
     "name": "stderr",
     "output_type": "stream",
     "text": [
      "Epoch 19...: 100%|█████████████████████████| 40/40 [00:01<00:00, 27.35it/s]\n"
     ]
    },
    {
     "name": "stdout",
     "output_type": "stream",
     "text": [
      "Done! Trainloss: 0.001928, Test accuracy: 100.0000\n"
     ]
    },
    {
     "name": "stderr",
     "output_type": "stream",
     "text": [
      "Epoch 20...: 100%|█████████████████████████| 40/40 [00:01<00:00, 26.04it/s]\n"
     ]
    },
    {
     "name": "stdout",
     "output_type": "stream",
     "text": [
      "Done! Trainloss: 0.001879, Test accuracy: 100.0000\n",
      "\n",
      "Non parametrized RNN done!\n",
      "\n"
     ]
    },
    {
     "name": "stderr",
     "output_type": "stream",
     "text": [
      "Epoch 1...: 100%|██████████████████████████| 40/40 [00:01<00:00, 27.33it/s]\n"
     ]
    },
    {
     "name": "stdout",
     "output_type": "stream",
     "text": [
      "Done! Trainloss: 0.527233, Test accuracy: 85.5000\n"
     ]
    },
    {
     "name": "stderr",
     "output_type": "stream",
     "text": [
      "Epoch 2...: 100%|██████████████████████████| 40/40 [00:01<00:00, 26.25it/s]\n"
     ]
    },
    {
     "name": "stdout",
     "output_type": "stream",
     "text": [
      "Done! Trainloss: 0.333119, Test accuracy: 94.9500\n"
     ]
    },
    {
     "name": "stderr",
     "output_type": "stream",
     "text": [
      "Epoch 3...: 100%|██████████████████████████| 40/40 [00:01<00:00, 25.59it/s]\n"
     ]
    },
    {
     "name": "stdout",
     "output_type": "stream",
     "text": [
      "Done! Trainloss: 0.228649, Test accuracy: 92.9000\n"
     ]
    },
    {
     "name": "stderr",
     "output_type": "stream",
     "text": [
      "Epoch 4...: 100%|██████████████████████████| 40/40 [00:01<00:00, 26.59it/s]\n"
     ]
    },
    {
     "name": "stdout",
     "output_type": "stream",
     "text": [
      "Done! Trainloss: 0.154172, Test accuracy: 99.0500\n"
     ]
    },
    {
     "name": "stderr",
     "output_type": "stream",
     "text": [
      "Epoch 5...: 100%|██████████████████████████| 40/40 [00:01<00:00, 29.07it/s]\n"
     ]
    },
    {
     "name": "stdout",
     "output_type": "stream",
     "text": [
      "Done! Trainloss: 0.089864, Test accuracy: 99.0500\n"
     ]
    },
    {
     "name": "stderr",
     "output_type": "stream",
     "text": [
      "Epoch 6...: 100%|██████████████████████████| 40/40 [00:01<00:00, 25.10it/s]\n"
     ]
    },
    {
     "name": "stdout",
     "output_type": "stream",
     "text": [
      "Done! Trainloss: 0.056542, Test accuracy: 99.5500\n"
     ]
    },
    {
     "name": "stderr",
     "output_type": "stream",
     "text": [
      "Epoch 7...: 100%|██████████████████████████| 40/40 [00:01<00:00, 27.42it/s]\n"
     ]
    },
    {
     "name": "stdout",
     "output_type": "stream",
     "text": [
      "Done! Trainloss: 0.034865, Test accuracy: 100.0000\n"
     ]
    },
    {
     "name": "stderr",
     "output_type": "stream",
     "text": [
      "Epoch 8...: 100%|██████████████████████████| 40/40 [00:01<00:00, 30.27it/s]\n"
     ]
    },
    {
     "name": "stdout",
     "output_type": "stream",
     "text": [
      "Done! Trainloss: 0.018266, Test accuracy: 100.0000\n"
     ]
    },
    {
     "name": "stderr",
     "output_type": "stream",
     "text": [
      "Epoch 9...: 100%|██████████████████████████| 40/40 [00:01<00:00, 22.87it/s]\n"
     ]
    },
    {
     "name": "stdout",
     "output_type": "stream",
     "text": [
      "Done! Trainloss: 0.014679, Test accuracy: 100.0000\n"
     ]
    },
    {
     "name": "stderr",
     "output_type": "stream",
     "text": [
      "Epoch 10...: 100%|█████████████████████████| 40/40 [00:01<00:00, 27.34it/s]\n"
     ]
    },
    {
     "name": "stdout",
     "output_type": "stream",
     "text": [
      "Done! Trainloss: 0.010123, Test accuracy: 100.0000\n"
     ]
    },
    {
     "name": "stderr",
     "output_type": "stream",
     "text": [
      "Epoch 11...: 100%|█████████████████████████| 40/40 [00:01<00:00, 26.13it/s]\n"
     ]
    },
    {
     "name": "stdout",
     "output_type": "stream",
     "text": [
      "Done! Trainloss: 0.008847, Test accuracy: 100.0000\n"
     ]
    },
    {
     "name": "stderr",
     "output_type": "stream",
     "text": [
      "Epoch 12...: 100%|█████████████████████████| 40/40 [00:01<00:00, 24.12it/s]\n"
     ]
    },
    {
     "name": "stdout",
     "output_type": "stream",
     "text": [
      "Done! Trainloss: 0.006937, Test accuracy: 100.0000\n"
     ]
    },
    {
     "name": "stderr",
     "output_type": "stream",
     "text": [
      "Epoch 13...: 100%|█████████████████████████| 40/40 [00:01<00:00, 28.19it/s]\n"
     ]
    },
    {
     "name": "stdout",
     "output_type": "stream",
     "text": [
      "Done! Trainloss: 0.005815, Test accuracy: 100.0000\n"
     ]
    },
    {
     "name": "stderr",
     "output_type": "stream",
     "text": [
      "Epoch 14...: 100%|█████████████████████████| 40/40 [00:01<00:00, 29.62it/s]\n"
     ]
    },
    {
     "name": "stdout",
     "output_type": "stream",
     "text": [
      "Done! Trainloss: 0.005089, Test accuracy: 100.0000\n"
     ]
    },
    {
     "name": "stderr",
     "output_type": "stream",
     "text": [
      "Epoch 15...: 100%|█████████████████████████| 40/40 [00:01<00:00, 27.13it/s]\n"
     ]
    },
    {
     "name": "stdout",
     "output_type": "stream",
     "text": [
      "Done! Trainloss: 0.004398, Test accuracy: 100.0000\n"
     ]
    },
    {
     "name": "stderr",
     "output_type": "stream",
     "text": [
      "Epoch 16...: 100%|█████████████████████████| 40/40 [00:01<00:00, 25.22it/s]\n"
     ]
    },
    {
     "name": "stdout",
     "output_type": "stream",
     "text": [
      "Done! Trainloss: 0.003654, Test accuracy: 100.0000\n"
     ]
    },
    {
     "name": "stderr",
     "output_type": "stream",
     "text": [
      "Epoch 17...: 100%|█████████████████████████| 40/40 [00:01<00:00, 28.88it/s]\n"
     ]
    },
    {
     "name": "stdout",
     "output_type": "stream",
     "text": [
      "Done! Trainloss: 0.003706, Test accuracy: 100.0000\n"
     ]
    },
    {
     "name": "stderr",
     "output_type": "stream",
     "text": [
      "Epoch 18...: 100%|█████████████████████████| 40/40 [00:01<00:00, 27.20it/s]\n"
     ]
    },
    {
     "name": "stdout",
     "output_type": "stream",
     "text": [
      "Done! Trainloss: 0.003313, Test accuracy: 100.0000\n"
     ]
    },
    {
     "name": "stderr",
     "output_type": "stream",
     "text": [
      "Epoch 19...: 100%|█████████████████████████| 40/40 [00:01<00:00, 23.74it/s]\n"
     ]
    },
    {
     "name": "stdout",
     "output_type": "stream",
     "text": [
      "Done! Trainloss: 0.002855, Test accuracy: 100.0000\n"
     ]
    },
    {
     "name": "stderr",
     "output_type": "stream",
     "text": [
      "Epoch 20...: 100%|█████████████████████████| 40/40 [00:01<00:00, 29.85it/s]\n"
     ]
    },
    {
     "name": "stdout",
     "output_type": "stream",
     "text": [
      "Done! Trainloss: 0.002870, Test accuracy: 100.0000\n",
      "\n",
      "Parametrized RNN done!\n"
     ]
    }
   ],
   "source": [
    "fixnop, fixp = parametrizevsnot(fix)"
   ]
  },
  {
   "cell_type": "code",
   "execution_count": 17,
   "metadata": {},
   "outputs": [
    {
     "data": {
      "image/png": "[encoded data removed]",
      "text/plain": [
       "<Figure size 640x480 with 1 Axes>"
      ]
     },
     "metadata": {},
     "output_type": "display_data"
    }
   ],
   "source": [
    "with torch.no_grad():\n",
    "    plt.plot(fixnop, label = \"Without constraints\")\n",
    "    plt.plot(fixp, \"r\", label=\"With constraints\")\n",
    "    plt.legend()\n",
    "    plt.show()\n",
    "    "
   ]
  },
  {
   "cell_type": "markdown",
   "metadata": {},
   "source": [
    "## Unique"
   ]
  },
  {
   "cell_type": "code",
   "execution_count": 18,
   "metadata": {},
   "outputs": [
    {
     "name": "stderr",
     "output_type": "stream",
     "text": [
      "Epoch 1...: 100%|██████████████████████████| 40/40 [00:01<00:00, 22.32it/s]\n"
     ]
    },
    {
     "name": "stdout",
     "output_type": "stream",
     "text": [
      "Done! Trainloss: 0.691192, Test accuracy: 50.5500\n"
     ]
    },
    {
     "name": "stderr",
     "output_type": "stream",
     "text": [
      "Epoch 2...: 100%|██████████████████████████| 40/40 [00:01<00:00, 21.82it/s]\n"
     ]
    },
    {
     "name": "stdout",
     "output_type": "stream",
     "text": [
      "Done! Trainloss: 0.692681, Test accuracy: 50.4000\n"
     ]
    },
    {
     "name": "stderr",
     "output_type": "stream",
     "text": [
      "Epoch 3...: 100%|██████████████████████████| 40/40 [00:01<00:00, 23.40it/s]\n"
     ]
    },
    {
     "name": "stdout",
     "output_type": "stream",
     "text": [
      "Done! Trainloss: 0.690042, Test accuracy: 47.7500\n"
     ]
    },
    {
     "name": "stderr",
     "output_type": "stream",
     "text": [
      "Epoch 4...: 100%|██████████████████████████| 40/40 [00:01<00:00, 21.60it/s]\n"
     ]
    },
    {
     "name": "stdout",
     "output_type": "stream",
     "text": [
      "Done! Trainloss: 0.692122, Test accuracy: 47.7500\n"
     ]
    },
    {
     "name": "stderr",
     "output_type": "stream",
     "text": [
      "Epoch 5...: 100%|██████████████████████████| 40/40 [00:01<00:00, 24.07it/s]\n"
     ]
    },
    {
     "name": "stdout",
     "output_type": "stream",
     "text": [
      "Done! Trainloss: 0.670203, Test accuracy: 64.9500\n"
     ]
    },
    {
     "name": "stderr",
     "output_type": "stream",
     "text": [
      "Epoch 6...: 100%|██████████████████████████| 40/40 [00:01<00:00, 23.18it/s]\n"
     ]
    },
    {
     "name": "stdout",
     "output_type": "stream",
     "text": [
      "Done! Trainloss: 0.514907, Test accuracy: 79.4000\n"
     ]
    },
    {
     "name": "stderr",
     "output_type": "stream",
     "text": [
      "Epoch 7...: 100%|██████████████████████████| 40/40 [00:01<00:00, 21.05it/s]\n"
     ]
    },
    {
     "name": "stdout",
     "output_type": "stream",
     "text": [
      "Done! Trainloss: 0.410702, Test accuracy: 79.8500\n"
     ]
    },
    {
     "name": "stderr",
     "output_type": "stream",
     "text": [
      "Epoch 8...: 100%|██████████████████████████| 40/40 [00:01<00:00, 23.51it/s]\n"
     ]
    },
    {
     "name": "stdout",
     "output_type": "stream",
     "text": [
      "Done! Trainloss: 0.271024, Test accuracy: 79.5000\n"
     ]
    },
    {
     "name": "stderr",
     "output_type": "stream",
     "text": [
      "Epoch 9...: 100%|██████████████████████████| 40/40 [00:01<00:00, 23.34it/s]\n"
     ]
    },
    {
     "name": "stdout",
     "output_type": "stream",
     "text": [
      "Done! Trainloss: 0.324358, Test accuracy: 90.9500\n"
     ]
    },
    {
     "name": "stderr",
     "output_type": "stream",
     "text": [
      "Epoch 10...: 100%|█████████████████████████| 40/40 [00:01<00:00, 20.33it/s]\n"
     ]
    },
    {
     "name": "stdout",
     "output_type": "stream",
     "text": [
      "Done! Trainloss: 0.264550, Test accuracy: 91.9500\n"
     ]
    },
    {
     "name": "stderr",
     "output_type": "stream",
     "text": [
      "Epoch 11...: 100%|█████████████████████████| 40/40 [00:01<00:00, 24.80it/s]\n"
     ]
    },
    {
     "name": "stdout",
     "output_type": "stream",
     "text": [
      "Done! Trainloss: 0.245730, Test accuracy: 91.4500\n"
     ]
    },
    {
     "name": "stderr",
     "output_type": "stream",
     "text": [
      "Epoch 12...: 100%|█████████████████████████| 40/40 [00:01<00:00, 22.11it/s]\n"
     ]
    },
    {
     "name": "stdout",
     "output_type": "stream",
     "text": [
      "Done! Trainloss: 0.257515, Test accuracy: 91.9000\n"
     ]
    },
    {
     "name": "stderr",
     "output_type": "stream",
     "text": [
      "Epoch 13...: 100%|█████████████████████████| 40/40 [00:01<00:00, 21.46it/s]\n"
     ]
    },
    {
     "name": "stdout",
     "output_type": "stream",
     "text": [
      "Done! Trainloss: 0.204802, Test accuracy: 93.0000\n"
     ]
    },
    {
     "name": "stderr",
     "output_type": "stream",
     "text": [
      "Epoch 14...: 100%|█████████████████████████| 40/40 [00:01<00:00, 23.82it/s]\n"
     ]
    },
    {
     "name": "stdout",
     "output_type": "stream",
     "text": [
      "Done! Trainloss: 0.265895, Test accuracy: 90.6500\n"
     ]
    },
    {
     "name": "stderr",
     "output_type": "stream",
     "text": [
      "Epoch 15...: 100%|█████████████████████████| 40/40 [00:01<00:00, 23.71it/s]\n"
     ]
    },
    {
     "name": "stdout",
     "output_type": "stream",
     "text": [
      "Done! Trainloss: 0.180174, Test accuracy: 92.0500\n"
     ]
    },
    {
     "name": "stderr",
     "output_type": "stream",
     "text": [
      "Epoch 16...: 100%|█████████████████████████| 40/40 [00:01<00:00, 23.31it/s]\n"
     ]
    },
    {
     "name": "stdout",
     "output_type": "stream",
     "text": [
      "Done! Trainloss: 0.200183, Test accuracy: 92.9500\n"
     ]
    },
    {
     "name": "stderr",
     "output_type": "stream",
     "text": [
      "Epoch 17...: 100%|█████████████████████████| 40/40 [00:01<00:00, 25.67it/s]\n"
     ]
    },
    {
     "name": "stdout",
     "output_type": "stream",
     "text": [
      "Done! Trainloss: 0.250156, Test accuracy: 92.7000\n"
     ]
    },
    {
     "name": "stderr",
     "output_type": "stream",
     "text": [
      "Epoch 18...: 100%|█████████████████████████| 40/40 [00:01<00:00, 24.76it/s]\n"
     ]
    },
    {
     "name": "stdout",
     "output_type": "stream",
     "text": [
      "Done! Trainloss: 0.166451, Test accuracy: 94.0500\n"
     ]
    },
    {
     "name": "stderr",
     "output_type": "stream",
     "text": [
      "Epoch 19...: 100%|█████████████████████████| 40/40 [00:01<00:00, 21.43it/s]\n"
     ]
    },
    {
     "name": "stdout",
     "output_type": "stream",
     "text": [
      "Done! Trainloss: 0.174298, Test accuracy: 94.6500\n"
     ]
    },
    {
     "name": "stderr",
     "output_type": "stream",
     "text": [
      "Epoch 20...: 100%|█████████████████████████| 40/40 [00:01<00:00, 20.15it/s]\n"
     ]
    },
    {
     "name": "stdout",
     "output_type": "stream",
     "text": [
      "Done! Trainloss: 0.136257, Test accuracy: 94.2000\n",
      "\n",
      "Non parametrized RNN done!\n",
      "\n"
     ]
    },
    {
     "name": "stderr",
     "output_type": "stream",
     "text": [
      "Epoch 1...: 100%|██████████████████████████| 40/40 [00:02<00:00, 17.42it/s]\n"
     ]
    },
    {
     "name": "stdout",
     "output_type": "stream",
     "text": [
      "Done! Trainloss: 0.692135, Test accuracy: 49.8000\n"
     ]
    },
    {
     "name": "stderr",
     "output_type": "stream",
     "text": [
      "Epoch 2...: 100%|██████████████████████████| 40/40 [00:02<00:00, 17.77it/s]\n"
     ]
    },
    {
     "name": "stdout",
     "output_type": "stream",
     "text": [
      "Done! Trainloss: 0.694890, Test accuracy: 49.9500\n"
     ]
    },
    {
     "name": "stderr",
     "output_type": "stream",
     "text": [
      "Epoch 3...: 100%|██████████████████████████| 40/40 [00:02<00:00, 17.07it/s]\n"
     ]
    },
    {
     "name": "stdout",
     "output_type": "stream",
     "text": [
      "Done! Trainloss: 0.690286, Test accuracy: 50.1000\n"
     ]
    },
    {
     "name": "stderr",
     "output_type": "stream",
     "text": [
      "Epoch 4...: 100%|██████████████████████████| 40/40 [00:02<00:00, 19.16it/s]\n"
     ]
    },
    {
     "name": "stdout",
     "output_type": "stream",
     "text": [
      "Done! Trainloss: 0.697176, Test accuracy: 49.6500\n"
     ]
    },
    {
     "name": "stderr",
     "output_type": "stream",
     "text": [
      "Epoch 5...: 100%|██████████████████████████| 40/40 [00:02<00:00, 17.14it/s]\n"
     ]
    },
    {
     "name": "stdout",
     "output_type": "stream",
     "text": [
      "Done! Trainloss: 0.694025, Test accuracy: 49.8500\n"
     ]
    },
    {
     "name": "stderr",
     "output_type": "stream",
     "text": [
      "Epoch 6...: 100%|██████████████████████████| 40/40 [00:02<00:00, 19.55it/s]\n"
     ]
    },
    {
     "name": "stdout",
     "output_type": "stream",
     "text": [
      "Done! Trainloss: 0.694813, Test accuracy: 48.6000\n"
     ]
    },
    {
     "name": "stderr",
     "output_type": "stream",
     "text": [
      "Epoch 7...: 100%|██████████████████████████| 40/40 [00:02<00:00, 19.58it/s]\n"
     ]
    },
    {
     "name": "stdout",
     "output_type": "stream",
     "text": [
      "Done! Trainloss: 0.692117, Test accuracy: 49.7500\n"
     ]
    },
    {
     "name": "stderr",
     "output_type": "stream",
     "text": [
      "Epoch 8...: 100%|██████████████████████████| 40/40 [00:02<00:00, 18.51it/s]\n"
     ]
    },
    {
     "name": "stdout",
     "output_type": "stream",
     "text": [
      "Done! Trainloss: 0.690340, Test accuracy: 48.5000\n"
     ]
    },
    {
     "name": "stderr",
     "output_type": "stream",
     "text": [
      "Epoch 9...: 100%|██████████████████████████| 40/40 [00:05<00:00,  7.35it/s]\n"
     ]
    },
    {
     "name": "stdout",
     "output_type": "stream",
     "text": [
      "Done! Trainloss: 0.692409, Test accuracy: 48.8000\n"
     ]
    },
    {
     "name": "stderr",
     "output_type": "stream",
     "text": [
      "Epoch 10...: 100%|█████████████████████████| 40/40 [00:02<00:00, 19.99it/s]\n"
     ]
    },
    {
     "name": "stdout",
     "output_type": "stream",
     "text": [
      "Done! Trainloss: 0.691480, Test accuracy: 49.1000\n"
     ]
    },
    {
     "name": "stderr",
     "output_type": "stream",
     "text": [
      "Epoch 11...: 100%|█████████████████████████| 40/40 [00:02<00:00, 17.89it/s]\n"
     ]
    },
    {
     "name": "stdout",
     "output_type": "stream",
     "text": [
      "Done! Trainloss: 0.694971, Test accuracy: 48.7000\n"
     ]
    },
    {
     "name": "stderr",
     "output_type": "stream",
     "text": [
      "Epoch 12...: 100%|█████████████████████████| 40/40 [00:02<00:00, 19.78it/s]\n"
     ]
    },
    {
     "name": "stdout",
     "output_type": "stream",
     "text": [
      "Done! Trainloss: 0.691274, Test accuracy: 48.6000\n"
     ]
    },
    {
     "name": "stderr",
     "output_type": "stream",
     "text": [
      "Epoch 13...: 100%|█████████████████████████| 40/40 [00:10<00:00,  3.96it/s]\n"
     ]
    },
    {
     "name": "stdout",
     "output_type": "stream",
     "text": [
      "Done! Trainloss: 0.697495, Test accuracy: 49.6000\n"
     ]
    },
    {
     "name": "stderr",
     "output_type": "stream",
     "text": [
      "Epoch 14...: 100%|█████████████████████████| 40/40 [00:06<00:00,  5.82it/s]\n"
     ]
    },
    {
     "name": "stdout",
     "output_type": "stream",
     "text": [
      "Done! Trainloss: 0.688979, Test accuracy: 49.5500\n"
     ]
    },
    {
     "name": "stderr",
     "output_type": "stream",
     "text": [
      "Epoch 15...: 100%|█████████████████████████| 40/40 [00:01<00:00, 20.01it/s]\n"
     ]
    },
    {
     "name": "stdout",
     "output_type": "stream",
     "text": [
      "Done! Trainloss: 0.688663, Test accuracy: 48.3000\n"
     ]
    },
    {
     "name": "stderr",
     "output_type": "stream",
     "text": [
      "Epoch 16...: 100%|█████████████████████████| 40/40 [00:02<00:00, 19.68it/s]\n"
     ]
    },
    {
     "name": "stdout",
     "output_type": "stream",
     "text": [
      "Done! Trainloss: 0.689457, Test accuracy: 47.4000\n"
     ]
    },
    {
     "name": "stderr",
     "output_type": "stream",
     "text": [
      "Epoch 17...: 100%|█████████████████████████| 40/40 [00:02<00:00, 18.44it/s]\n"
     ]
    },
    {
     "name": "stdout",
     "output_type": "stream",
     "text": [
      "Done! Trainloss: 0.690766, Test accuracy: 48.1500\n"
     ]
    },
    {
     "name": "stderr",
     "output_type": "stream",
     "text": [
      "Epoch 18...: 100%|█████████████████████████| 40/40 [00:01<00:00, 24.37it/s]\n"
     ]
    },
    {
     "name": "stdout",
     "output_type": "stream",
     "text": [
      "Done! Trainloss: 0.698895, Test accuracy: 48.4500\n"
     ]
    },
    {
     "name": "stderr",
     "output_type": "stream",
     "text": [
      "Epoch 19...: 100%|█████████████████████████| 40/40 [00:01<00:00, 23.17it/s]\n"
     ]
    },
    {
     "name": "stdout",
     "output_type": "stream",
     "text": [
      "Done! Trainloss: 0.693646, Test accuracy: 47.3000\n"
     ]
    },
    {
     "name": "stderr",
     "output_type": "stream",
     "text": [
      "Epoch 20...: 100%|█████████████████████████| 40/40 [00:01<00:00, 24.50it/s]\n"
     ]
    },
    {
     "name": "stdout",
     "output_type": "stream",
     "text": [
      "Done! Trainloss: 0.694092, Test accuracy: 48.6000\n",
      "\n",
      "Parametrized RNN done!\n"
     ]
    }
   ],
   "source": [
    "(uniquenop, uniquenop_model), (uniquep, uniquep_model) = parametrizevsnot(unique, returnautomat=True)"
   ]
  },
  {
   "cell_type": "code",
   "execution_count": 19,
   "metadata": {},
   "outputs": [
    {
     "data": {
      "image/png": "[encoded data removed]",
      "text/plain": [
       "<Figure size 640x480 with 1 Axes>"
      ]
     },
     "metadata": {},
     "output_type": "display_data"
    },
    {
     "ename": "",
     "evalue": "",
     "output_type": "error",
     "traceback": [
      "\u001b[1;31mThe Kernel crashed while executing code in the current cell or a previous cell. \n",
      "\u001b[1;31mPlease review the code in the cell(s) to identify a possible cause of the failure. \n",
      "\u001b[1;31mClick <a href='https://aka.ms/vscodeJupyterKernelCrash'>here</a> for more info. \n",
      "\u001b[1;31mView Jupyter <a href='command:jupyter.viewOutput'>log</a> for further details."
     ]
    }
   ],
   "source": [
    "with torch.no_grad():\n",
    "    plt.plot(uniquenop, label = \"Without constraints\")\n",
    "    plt.plot(uniquep, \"r\", label=\"With constraints\")\n",
    "    plt.legend()\n",
    "    plt.show()\n",
    "    "
   ]
  },
  {
   "cell_type": "code",
   "execution_count": 9,
   "metadata": {},
   "outputs": [
    {
     "data": {
      "text/plain": [
       "OrderedDict([('rnn.parametrizations.weight_hh_l0.original',\n",
       "              tensor([[-0.1373,  0.0000,  0.0000,  0.0000, -0.0719,  0.0000,  0.0000,  0.0000,\n",
       "                        0.0983,  0.0000,  0.0000,  0.0000, -0.0124,  0.0000,  0.0000,  0.0000,\n",
       "                        0.0874,  0.0000,  0.0000,  0.0000,  0.1076,  0.0000,  0.0000,  0.0000],\n",
       "                      [-0.1041,  0.0000,  0.0000,  0.0000, -0.1358,  0.0000,  0.0000,  0.0000,\n",
       "                       -0.1165,  0.0000,  0.0000,  0.0000,  0.1225,  0.0000,  0.0000,  0.0000,\n",
       "                        0.0817,  0.0000,  0.0000,  0.0000, -0.2000,  0.0000,  0.0000,  0.0000],\n",
       "                      [-0.0402,  0.0000,  0.0000,  0.0000, -0.0784,  0.0000,  0.0000,  0.0000,\n",
       "                       -0.0390,  0.0000,  0.0000,  0.0000, -0.1444,  0.0000,  0.0000,  0.0000,\n",
       "                       -0.1381,  0.0000,  0.0000,  0.0000, -0.0394,  0.0000,  0.0000,  0.0000],\n",
       "                      [-0.0163,  0.0000,  0.0000,  0.0000,  0.0519,  0.0000,  0.0000,  0.0000,\n",
       "                       -0.0569,  0.0000,  0.0000,  0.0000,  0.1155,  0.0000,  0.0000,  0.0000,\n",
       "                        0.1454,  0.0000,  0.0000,  0.0000, -0.1399,  0.0000,  0.0000,  0.0000],\n",
       "                      [-0.1982,  0.0000,  0.0000,  0.0000, -0.1624,  0.0000,  0.0000,  0.0000,\n",
       "                       -0.0750,  0.0000,  0.0000,  0.0000, -0.0385,  0.0000,  0.0000,  0.0000,\n",
       "                        0.0549,  0.0000,  0.0000,  0.0000,  0.0239,  0.0000,  0.0000,  0.0000],\n",
       "                      [ 0.0267,  0.0000,  0.0000,  0.0000, -0.0539,  0.0000,  0.0000,  0.0000,\n",
       "                       -0.0575,  0.0000,  0.0000,  0.0000, -0.1744,  0.0000,  0.0000,  0.0000,\n",
       "                       -0.1102,  0.0000,  0.0000,  0.0000,  0.0030,  0.0000,  0.0000,  0.0000],\n",
       "                      [ 0.1281,  0.0000,  0.0000,  0.0000, -0.0895,  0.0000,  0.0000,  0.0000,\n",
       "                       -0.1111,  0.0000,  0.0000,  0.0000,  0.0337,  0.0000,  0.0000,  0.0000,\n",
       "                        0.0918,  0.0000,  0.0000,  0.0000, -0.1084,  0.0000,  0.0000,  0.0000],\n",
       "                      [-0.0610,  0.0000,  0.0000,  0.0000, -0.1021,  0.0000,  0.0000,  0.0000,\n",
       "                       -0.1344,  0.0000,  0.0000,  0.0000, -0.0406,  0.0000,  0.0000,  0.0000,\n",
       "                       -0.0554,  0.0000,  0.0000,  0.0000,  0.1901,  0.0000,  0.0000,  0.0000],\n",
       "                      [ 0.0659,  0.0000,  0.0000,  0.0000, -0.1355,  0.0000,  0.0000,  0.0000,\n",
       "                        0.1956,  0.0000,  0.0000,  0.0000, -0.0404,  0.0000,  0.0000,  0.0000,\n",
       "                        0.0823,  0.0000,  0.0000,  0.0000, -0.1411,  0.0000,  0.0000,  0.0000],\n",
       "                      [ 0.1115,  0.0000,  0.0000,  0.0000, -0.1328,  0.0000,  0.0000,  0.0000,\n",
       "                       -0.0547,  0.0000,  0.0000,  0.0000, -0.1620,  0.0000,  0.0000,  0.0000,\n",
       "                       -0.0178,  0.0000,  0.0000,  0.0000, -0.0721,  0.0000,  0.0000,  0.0000],\n",
       "                      [ 0.0308,  0.0000,  0.0000,  0.0000, -0.0830,  0.0000,  0.0000,  0.0000,\n",
       "                       -0.1018,  0.0000,  0.0000,  0.0000, -0.1955,  0.0000,  0.0000,  0.0000,\n",
       "                        0.1450,  0.0000,  0.0000,  0.0000, -0.1808,  0.0000,  0.0000,  0.0000],\n",
       "                      [-0.0284,  0.0000,  0.0000,  0.0000, -0.1633,  0.0000,  0.0000,  0.0000,\n",
       "                        0.0147,  0.0000,  0.0000,  0.0000, -0.1741,  0.0000,  0.0000,  0.0000,\n",
       "                        0.1445,  0.0000,  0.0000,  0.0000, -0.0638,  0.0000,  0.0000,  0.0000],\n",
       "                      [-0.0540,  0.0000,  0.0000,  0.0000, -0.0715,  0.0000,  0.0000,  0.0000,\n",
       "                       -0.0185,  0.0000,  0.0000,  0.0000, -0.2129,  0.0000,  0.0000,  0.0000,\n",
       "                        0.1726,  0.0000,  0.0000,  0.0000,  0.0793,  0.0000,  0.0000,  0.0000],\n",
       "                      [-0.1367,  0.0000,  0.0000,  0.0000,  0.0917,  0.0000,  0.0000,  0.0000,\n",
       "                       -0.1087,  0.0000,  0.0000,  0.0000, -0.1588,  0.0000,  0.0000,  0.0000,\n",
       "                        0.0687,  0.0000,  0.0000,  0.0000,  0.1552,  0.0000,  0.0000,  0.0000],\n",
       "                      [ 0.0844,  0.0000,  0.0000,  0.0000,  0.1689,  0.0000,  0.0000,  0.0000,\n",
       "                        0.1980,  0.0000,  0.0000,  0.0000,  0.1335,  0.0000,  0.0000,  0.0000,\n",
       "                        0.0705,  0.0000,  0.0000,  0.0000,  0.1255,  0.0000,  0.0000,  0.0000],\n",
       "                      [-0.0524,  0.0000,  0.0000,  0.0000, -0.0421,  0.0000,  0.0000,  0.0000,\n",
       "                       -0.2024,  0.0000,  0.0000,  0.0000, -0.0472,  0.0000,  0.0000,  0.0000,\n",
       "                       -0.1279,  0.0000,  0.0000,  0.0000, -0.0125,  0.0000,  0.0000,  0.0000],\n",
       "                      [-0.0720,  0.0000,  0.0000,  0.0000,  0.1936,  0.0000,  0.0000,  0.0000,\n",
       "                       -0.0513,  0.0000,  0.0000,  0.0000,  0.0358,  0.0000,  0.0000,  0.0000,\n",
       "                        0.1216,  0.0000,  0.0000,  0.0000,  0.0071,  0.0000,  0.0000,  0.0000],\n",
       "                      [-0.1068,  0.0000,  0.0000,  0.0000,  0.1695,  0.0000,  0.0000,  0.0000,\n",
       "                       -0.1024,  0.0000,  0.0000,  0.0000,  0.0503,  0.0000,  0.0000,  0.0000,\n",
       "                        0.1993,  0.0000,  0.0000,  0.0000, -0.0303,  0.0000,  0.0000,  0.0000],\n",
       "                      [-0.1423,  0.0000,  0.0000,  0.0000,  0.0513,  0.0000,  0.0000,  0.0000,\n",
       "                        0.0906,  0.0000,  0.0000,  0.0000,  0.0584,  0.0000,  0.0000,  0.0000,\n",
       "                        0.1996,  0.0000,  0.0000,  0.0000, -0.1004,  0.0000,  0.0000,  0.0000],\n",
       "                      [-0.0614,  0.0000,  0.0000,  0.0000,  0.1865,  0.0000,  0.0000,  0.0000,\n",
       "                       -0.0004,  0.0000,  0.0000,  0.0000, -0.0063,  0.0000,  0.0000,  0.0000,\n",
       "                       -0.1351,  0.0000,  0.0000,  0.0000, -0.1750,  0.0000,  0.0000,  0.0000],\n",
       "                      [-0.0243,  0.0000,  0.0000,  0.0000, -0.0921,  0.0000,  0.0000,  0.0000,\n",
       "                        0.0867,  0.0000,  0.0000,  0.0000,  0.0832,  0.0000,  0.0000,  0.0000,\n",
       "                       -0.1535,  0.0000,  0.0000,  0.0000, -0.0051,  0.0000,  0.0000,  0.0000],\n",
       "                      [ 0.1075,  0.0000,  0.0000,  0.0000,  0.1991,  0.0000,  0.0000,  0.0000,\n",
       "                       -0.0105,  0.0000,  0.0000,  0.0000,  0.0201,  0.0000,  0.0000,  0.0000,\n",
       "                        0.2097,  0.0000,  0.0000,  0.0000, -0.2134,  0.0000,  0.0000,  0.0000],\n",
       "                      [ 0.2278,  0.0000,  0.0000,  0.0000,  0.1080,  0.0000,  0.0000,  0.0000,\n",
       "                        0.0333,  0.0000,  0.0000,  0.0000, -0.1410,  0.0000,  0.0000,  0.0000,\n",
       "                        0.1850,  0.0000,  0.0000,  0.0000, -0.0407,  0.0000,  0.0000,  0.0000],\n",
       "                      [ 0.0982,  0.0000,  0.0000,  0.0000, -0.1979,  0.0000,  0.0000,  0.0000,\n",
       "                        0.1971,  0.0000,  0.0000,  0.0000, -0.0975,  0.0000,  0.0000,  0.0000,\n",
       "                       -0.1262,  0.0000,  0.0000,  0.0000,  0.0313,  0.0000,  0.0000,  0.0000]])),\n",
       "             ('rnn.parametrizations.weight_ih_l0.original',\n",
       "              tensor([[0.0657, 0.0000, 0.0000, 0.0000],\n",
       "                      [0.0000, 0.0000, 0.0000, 0.0000],\n",
       "                      [0.0000, 0.0000, 0.0000, 0.0000],\n",
       "                      [0.0000, 0.0000, 0.0000, 0.0000],\n",
       "                      [0.0000, 0.0000, 0.0000, 0.0000],\n",
       "                      [0.0000, 0.0000, 0.0000, 0.0000],\n",
       "                      [0.0000, 0.0000, 0.0000, 0.0000],\n",
       "                      [0.0000, 0.0000, 0.0000, 0.0000],\n",
       "                      [0.0000, 0.0000, 0.0000, 0.0000],\n",
       "                      [0.0000, 0.0000, 0.0000, 0.0000],\n",
       "                      [0.0000, 0.0000, 0.0000, 0.0000],\n",
       "                      [0.0000, 0.0000, 0.0000, 0.0000],\n",
       "                      [0.0000, 0.0000, 0.0000, 0.0000],\n",
       "                      [0.0000, 0.0000, 0.0000, 0.0000],\n",
       "                      [0.0000, 0.0000, 0.0000, 0.0000],\n",
       "                      [0.0000, 0.0000, 0.0000, 0.0000],\n",
       "                      [0.0000, 0.0000, 0.0000, 0.0000],\n",
       "                      [0.0000, 0.0000, 0.0000, 0.0000],\n",
       "                      [0.0000, 0.0000, 0.0000, 0.0000],\n",
       "                      [0.0000, 0.0000, 0.0000, 0.0000],\n",
       "                      [0.0000, 0.0000, 0.0000, 0.0000],\n",
       "                      [0.0000, 0.0000, 0.0000, 0.0000],\n",
       "                      [0.0000, 0.0000, 0.0000, 0.0000],\n",
       "                      [0.0000, 0.0000, 0.0000, 0.0000]])),\n",
       "             ('toclass.weight',\n",
       "              tensor([[ 0.1612, -0.0768, -0.0404, -0.1544,  0.1003,  0.1167, -0.0469,  0.1068,\n",
       "                        0.0723,  0.0054,  0.2011, -0.1094,  0.1344,  0.1081, -0.0852, -0.1654,\n",
       "                        0.0762, -0.0551, -0.1336, -0.0260, -0.0220,  0.0320,  0.1522,  0.0413]]))])"
      ]
     },
     "execution_count": 9,
     "metadata": {},
     "output_type": "execute_result"
    }
   ],
   "source": [
    "uniquep_model.state_dict()"
   ]
  },
  {
   "cell_type": "code",
   "execution_count": 21,
   "metadata": {},
   "outputs": [
    {
     "data": {
      "text/plain": [
       "[[tensor([[0.0657, 0.0000, 0.0000, 0.0000],\n",
       "          [0.0000, 0.0657, 0.0000, 0.0000],\n",
       "          [0.0000, 0.0000, 0.0657, 0.0000],\n",
       "          [0.0000, 0.0000, 0.0000, 0.0657],\n",
       "          [0.0657, 0.0000, 0.0000, 0.0000],\n",
       "          [0.0000, 0.0657, 0.0000, 0.0000],\n",
       "          [0.0000, 0.0000, 0.0657, 0.0000],\n",
       "          [0.0000, 0.0000, 0.0000, 0.0657],\n",
       "          [0.0657, 0.0000, 0.0000, 0.0000],\n",
       "          [0.0000, 0.0657, 0.0000, 0.0000],\n",
       "          [0.0000, 0.0000, 0.0657, 0.0000],\n",
       "          [0.0000, 0.0000, 0.0000, 0.0657],\n",
       "          [0.0657, 0.0000, 0.0000, 0.0000],\n",
       "          [0.0000, 0.0657, 0.0000, 0.0000],\n",
       "          [0.0000, 0.0000, 0.0657, 0.0000],\n",
       "          [0.0000, 0.0000, 0.0000, 0.0657],\n",
       "          [0.0657, 0.0000, 0.0000, 0.0000],\n",
       "          [0.0000, 0.0657, 0.0000, 0.0000],\n",
       "          [0.0000, 0.0000, 0.0657, 0.0000],\n",
       "          [0.0000, 0.0000, 0.0000, 0.0657],\n",
       "          [0.0657, 0.0000, 0.0000, 0.0000],\n",
       "          [0.0000, 0.0657, 0.0000, 0.0000],\n",
       "          [0.0000, 0.0000, 0.0657, 0.0000],\n",
       "          [0.0000, 0.0000, 0.0000, 0.0657]], grad_fn=<MulBackward0>),\n",
       "  tensor([[-0.0751, -0.0751, -0.0751, -0.0751, -0.0425, -0.0425, -0.0425, -0.0425,\n",
       "            0.0426,  0.0426,  0.0426,  0.0426, -0.0127, -0.0127, -0.0127, -0.0127,\n",
       "            0.0372,  0.0372,  0.0372,  0.0372,  0.0473,  0.0473,  0.0473,  0.0473],\n",
       "          [-0.0200, -0.0200, -0.0200, -0.0200, -0.0359, -0.0359, -0.0359, -0.0359,\n",
       "           -0.0262, -0.0262, -0.0262, -0.0262,  0.0933,  0.0933,  0.0933,  0.0933,\n",
       "            0.0729,  0.0729,  0.0729,  0.0729, -0.0680, -0.0680, -0.0680, -0.0680],\n",
       "          [ 0.0235,  0.0235,  0.0235,  0.0235,  0.0044,  0.0044,  0.0044,  0.0044,\n",
       "            0.0241,  0.0241,  0.0241,  0.0241, -0.0286, -0.0286, -0.0286, -0.0286,\n",
       "           -0.0254, -0.0254, -0.0254, -0.0254,  0.0239,  0.0239,  0.0239,  0.0239],\n",
       "          [-0.0172, -0.0172, -0.0172, -0.0172,  0.0169,  0.0169,  0.0169,  0.0169,\n",
       "           -0.0375, -0.0375, -0.0375, -0.0375,  0.0487,  0.0487,  0.0487,  0.0487,\n",
       "            0.0636,  0.0636,  0.0636,  0.0636, -0.0790, -0.0790, -0.0790, -0.0790],\n",
       "          [-0.0632, -0.0632, -0.0632, -0.0632, -0.0453, -0.0453, -0.0453, -0.0453,\n",
       "           -0.0016, -0.0016, -0.0016, -0.0016,  0.0167,  0.0167,  0.0167,  0.0167,\n",
       "            0.0634,  0.0634,  0.0634,  0.0634,  0.0479,  0.0479,  0.0479,  0.0479],\n",
       "          [ 0.0466,  0.0466,  0.0466,  0.0466,  0.0064,  0.0064,  0.0064,  0.0064,\n",
       "            0.0046,  0.0046,  0.0046,  0.0046, -0.0539, -0.0539, -0.0539, -0.0539,\n",
       "           -0.0218, -0.0218, -0.0218, -0.0218,  0.0348,  0.0348,  0.0348,  0.0348],\n",
       "          [ 0.0691,  0.0691,  0.0691,  0.0691, -0.0397, -0.0397, -0.0397, -0.0397,\n",
       "           -0.0505, -0.0505, -0.0505, -0.0505,  0.0219,  0.0219,  0.0219,  0.0219,\n",
       "            0.0509,  0.0509,  0.0509,  0.0509, -0.0492, -0.0492, -0.0492, -0.0492],\n",
       "          [-0.0120, -0.0120, -0.0120, -0.0120, -0.0325, -0.0325, -0.0325, -0.0325,\n",
       "           -0.0487, -0.0487, -0.0487, -0.0487, -0.0018, -0.0018, -0.0018, -0.0018,\n",
       "           -0.0092, -0.0092, -0.0092, -0.0092,  0.1135,  0.1135,  0.1135,  0.1135],\n",
       "          [ 0.0305,  0.0305,  0.0305,  0.0305, -0.0702, -0.0702, -0.0702, -0.0702,\n",
       "            0.0953,  0.0953,  0.0953,  0.0953, -0.0226, -0.0226, -0.0226, -0.0226,\n",
       "            0.0387,  0.0387,  0.0387,  0.0387, -0.0730, -0.0730, -0.0730, -0.0730],\n",
       "          [ 0.0856,  0.0856,  0.0856,  0.0856, -0.0366, -0.0366, -0.0366, -0.0366,\n",
       "            0.0025,  0.0025,  0.0025,  0.0025, -0.0512, -0.0512, -0.0512, -0.0512,\n",
       "            0.0209,  0.0209,  0.0209,  0.0209, -0.0062, -0.0062, -0.0062, -0.0062],\n",
       "          [ 0.0504,  0.0504,  0.0504,  0.0504, -0.0065, -0.0065, -0.0065, -0.0065,\n",
       "           -0.0159, -0.0159, -0.0159, -0.0159, -0.0627, -0.0627, -0.0627, -0.0627,\n",
       "            0.1075,  0.1075,  0.1075,  0.1075, -0.0554, -0.0554, -0.0554, -0.0554],\n",
       "          [ 0.0104,  0.0104,  0.0104,  0.0104, -0.0570, -0.0570, -0.0570, -0.0570,\n",
       "            0.0319,  0.0319,  0.0319,  0.0319, -0.0625, -0.0625, -0.0625, -0.0625,\n",
       "            0.0968,  0.0968,  0.0968,  0.0968, -0.0073, -0.0073, -0.0073, -0.0073],\n",
       "          [-0.0174, -0.0174, -0.0174, -0.0174, -0.0262, -0.0262, -0.0262, -0.0262,\n",
       "            0.0003,  0.0003,  0.0003,  0.0003, -0.0969, -0.0969, -0.0969, -0.0969,\n",
       "            0.0958,  0.0958,  0.0958,  0.0958,  0.0492,  0.0492,  0.0492,  0.0492],\n",
       "          [-0.0603, -0.0603, -0.0603, -0.0603,  0.0539,  0.0539,  0.0539,  0.0539,\n",
       "           -0.0463, -0.0463, -0.0463, -0.0463, -0.0713, -0.0713, -0.0713, -0.0713,\n",
       "            0.0424,  0.0424,  0.0424,  0.0424,  0.0857,  0.0857,  0.0857,  0.0857],\n",
       "          [-0.0288, -0.0288, -0.0288, -0.0288,  0.0135,  0.0135,  0.0135,  0.0135,\n",
       "            0.0280,  0.0280,  0.0280,  0.0280, -0.0042, -0.0042, -0.0042, -0.0042,\n",
       "           -0.0357, -0.0357, -0.0357, -0.0357, -0.0082, -0.0082, -0.0082, -0.0082],\n",
       "          [ 0.0178,  0.0178,  0.0178,  0.0178,  0.0230,  0.0230,  0.0230,  0.0230,\n",
       "           -0.0572, -0.0572, -0.0572, -0.0572,  0.0205,  0.0205,  0.0205,  0.0205,\n",
       "           -0.0199, -0.0199, -0.0199, -0.0199,  0.0378,  0.0378,  0.0378,  0.0378],\n",
       "          [-0.0573, -0.0573, -0.0573, -0.0573,  0.0754,  0.0754,  0.0754,  0.0754,\n",
       "           -0.0470, -0.0470, -0.0470, -0.0470, -0.0035, -0.0035, -0.0035, -0.0035,\n",
       "            0.0394,  0.0394,  0.0394,  0.0394, -0.0178, -0.0178, -0.0178, -0.0178],\n",
       "          [-0.0698, -0.0698, -0.0698, -0.0698,  0.0684,  0.0684,  0.0684,  0.0684,\n",
       "           -0.0675, -0.0675, -0.0675, -0.0675,  0.0088,  0.0088,  0.0088,  0.0088,\n",
       "            0.0833,  0.0833,  0.0833,  0.0833, -0.0315, -0.0315, -0.0315, -0.0315],\n",
       "          [-0.0854, -0.0854, -0.0854, -0.0854,  0.0114,  0.0114,  0.0114,  0.0114,\n",
       "            0.0310,  0.0310,  0.0310,  0.0310,  0.0149,  0.0149,  0.0149,  0.0149,\n",
       "            0.0855,  0.0855,  0.0855,  0.0855, -0.0645, -0.0645, -0.0645, -0.0645],\n",
       "          [-0.0132, -0.0132, -0.0132, -0.0132,  0.1107,  0.1107,  0.1107,  0.1107,\n",
       "            0.0172,  0.0172,  0.0172,  0.0172,  0.0143,  0.0143,  0.0143,  0.0143,\n",
       "           -0.0501, -0.0501, -0.0501, -0.0501, -0.0701, -0.0701, -0.0701, -0.0701],\n",
       "          [-0.0026, -0.0026, -0.0026, -0.0026, -0.0365, -0.0365, -0.0365, -0.0365,\n",
       "            0.0529,  0.0529,  0.0529,  0.0529,  0.0511,  0.0511,  0.0511,  0.0511,\n",
       "           -0.0672, -0.0672, -0.0672, -0.0672,  0.0070,  0.0070,  0.0070,  0.0070],\n",
       "          [ 0.0253,  0.0253,  0.0253,  0.0253,  0.0711,  0.0711,  0.0711,  0.0711,\n",
       "           -0.0337, -0.0337, -0.0337, -0.0337, -0.0183, -0.0183, -0.0183, -0.0183,\n",
       "            0.0764,  0.0764,  0.0764,  0.0764, -0.1351, -0.1351, -0.1351, -0.1351],\n",
       "          [ 0.0800,  0.0800,  0.0800,  0.0800,  0.0201,  0.0201,  0.0201,  0.0201,\n",
       "           -0.0172, -0.0172, -0.0172, -0.0172, -0.1043, -0.1043, -0.1043, -0.1043,\n",
       "            0.0587,  0.0587,  0.0587,  0.0587, -0.0542, -0.0542, -0.0542, -0.0542],\n",
       "          [ 0.0577,  0.0577,  0.0577,  0.0577, -0.0903, -0.0903, -0.0903, -0.0903,\n",
       "            0.1072,  0.1072,  0.1072,  0.1072, -0.0401, -0.0401, -0.0401, -0.0401,\n",
       "           -0.0545, -0.0545, -0.0545, -0.0545,  0.0243,  0.0243,  0.0243,  0.0243]],\n",
       "         grad_fn=<MmBackward0>)]]"
      ]
     },
     "execution_count": 21,
     "metadata": {},
     "output_type": "execute_result"
    }
   ],
   "source": [
    "uniquep_model.rnn.all_weights#parametrizations[\"weight_hh_l0\"][0].change_base"
   ]
  }
 ],
 "metadata": {
  "kernelspec": {
   "display_name": "Python 3",
   "language": "python",
   "name": "python3"
  },
  "language_info": {
   "codemirror_mode": {
    "name": "ipython",
    "version": 3
   },
   "file_extension": ".py",
   "mimetype": "text/x-python",
   "name": "python",
   "nbconvert_exporter": "python",
   "pygments_lexer": "ipython3",
   "version": "3.11.7"
  }
 },
 "nbformat": 4,
 "nbformat_minor": 2
}
