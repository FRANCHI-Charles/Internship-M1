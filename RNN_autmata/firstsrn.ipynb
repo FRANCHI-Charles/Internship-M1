{
 "cells": [
  {
   "cell_type": "code",
   "execution_count": 4,
   "metadata": {},
   "outputs": [],
   "source": [
    "import numpy as np\n",
    "import torch\n",
    "import torch.nn as nn\n",
    "from torch.utils.data import DataLoader"
   ]
  },
  {
   "cell_type": "markdown",
   "metadata": {},
   "source": [
    "## Hyperparameters"
   ]
  },
  {
   "cell_type": "code",
   "execution_count": 2,
   "metadata": {},
   "outputs": [],
   "source": [
    "BATCH_SIZE = 200\n",
    "\n",
    "N_LAYERS = 1\n",
    "\n",
    "LEARNING_RATES = 0.05\n",
    "\n",
    "torch.manual_seed(689)\n",
    "device = torch.device(\"cuda\" if torch.cuda.is_available() else \"cpu\")"
   ]
  },
  {
   "cell_type": "markdown",
   "metadata": {},
   "source": [
    "## Dataset preparations"
   ]
  },
  {
   "cell_type": "code",
   "execution_count": 3,
   "metadata": {},
   "outputs": [
    {
     "name": "stdout",
     "output_type": "stream",
     "text": [
      "Generate dataset 'even'...\n",
      "Done! in 4.2112 sec\n",
      "Generate dataset 'sink'...\n",
      "Done! in 37.3276 sec\n",
      "Generate 'fix'...\n",
      "Done! in 4.3458 sec\n",
      "Generate 'unique'...\n",
      "Done! in 4.3791 sec\n"
     ]
    }
   ],
   "source": [
    "from automata import *\n",
    "from datas import even, sink, fix, unique"
   ]
  },
  {
   "cell_type": "code",
   "execution_count": 5,
   "metadata": {},
   "outputs": [],
   "source": [
    "even_torch = TorchData(even)\n",
    "\n",
    "evenloader = DataLoader(even_torch, BATCH_SIZE, shuffle=True)"
   ]
  },
  {
   "cell_type": "markdown",
   "metadata": {},
   "source": [
    "## RNN training"
   ]
  },
  {
   "cell_type": "code",
   "execution_count": 6,
   "metadata": {},
   "outputs": [],
   "source": [
    "class automataRNN(nn.Module):\n",
    "\n",
    "    def __init__(self, automaton:DFA) -> None:\n",
    "        super().__init__()\n",
    "        self.automaton = automaton\n",
    "        self.hidden_size = automaton.transition.shape[0]*automaton.transition.shape[1]\n",
    "\n",
    "        self.rnn = nn.RNN(automaton.transition.shape[1], self.hidden_size, N_LAYERS, batch_first=True, device=device)\n",
    "        self.toclass = nn.Linear(self.hidden_size, 1, device=device)\n",
    "\n",
    "    def forward(self, x, truelen):\n",
    "        \"`truelen` is a list of the real length of the sequence : that way we can recover the good prediction along the rnn\"\n",
    "        h0 = torch.zeros(N_LAYERS, x.shape[0], self.hidden_size).to(device)\n",
    "        out, _ = self.rnn(x.to(device), h0)\n",
    "        out = torch.stack([out[i, truelen[i] -1, :] for i in range(out.shape[0])]) #extract only the require prediction y for each batch\n",
    "        return self.toclass(out)\n",
    "        \n",
    "    def predict(self, x, truelen):\n",
    "        return torch.argmax(self(x, truelen), dim = 1)\n",
    "    \n",
    "    def strpredict(self, word:str):\n",
    "        tensor = torch.tensor(self.automaton.word_to_matrix(word))\n",
    "        return "
   ]
  }
 ],
 "metadata": {
  "kernelspec": {
   "display_name": "Python 3",
   "language": "python",
   "name": "python3"
  },
  "language_info": {
   "codemirror_mode": {
    "name": "ipython",
    "version": 3
   },
   "file_extension": ".py",
   "mimetype": "text/x-python",
   "name": "python",
   "nbconvert_exporter": "python",
   "pygments_lexer": "ipython3",
   "version": "3.10.12"
  }
 },
 "nbformat": 4,
 "nbformat_minor": 2
}
