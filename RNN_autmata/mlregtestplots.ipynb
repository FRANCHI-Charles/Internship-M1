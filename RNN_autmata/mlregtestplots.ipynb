{
 "cells": [
  {
   "cell_type": "code",
   "execution_count": 2,
   "metadata": {},
   "outputs": [],
   "source": [
    "import torch\n",
    "import torch.nn as nn\n",
    "from torch.utils.data import DataLoader, random_split\n",
    "import automata as dfa\n",
    "import utils\n",
    "from tqdm import tqdm"
   ]
  },
  {
   "cell_type": "markdown",
   "metadata": {},
   "source": [
    "## Global Variables"
   ]
  },
  {
   "cell_type": "code",
   "execution_count": null,
   "metadata": {},
   "outputs": [],
   "source": [
    "ATT_PATH = \"./where\"\n",
    "DATA_PATH = \"./where\"\n",
    "NAMES_PATH = \"./.../names.txt\"\n",
    "\n",
    "BATCH_SIZE = 200\n",
    "\n",
    "TEST_SIZE = 0.2\n",
    "\n",
    "N_EPOCH = 20\n",
    "LEARNING_RATES = 0.001\n",
    "\n",
    "torch.manual_seed(689)\n",
    "#device = torch.device(\"cuda\" if torch.cuda.is_available() else \"cpu\")\n",
    "DEVICE = torch.device(\"cpu\")"
   ]
  },
  {
   "cell_type": "markdown",
   "metadata": {},
   "source": [
    "## Load the datas"
   ]
  },
  {
   "cell_type": "code",
   "execution_count": null,
   "metadata": {},
   "outputs": [],
   "source": [
    "names, extensions = utils.lang_names(NAMES_PATH)\n",
    "\n",
    "datas = dict()\n",
    "automata = dict()\n",
    "for name in names:\n",
    "    datas[name], automata[name] = utils.data_automata_loading(ATT_PATH, DATA_PATH, name, extensions, return_automata=True)"
   ]
  },
  {
   "cell_type": "code",
   "execution_count": null,
   "metadata": {},
   "outputs": [],
   "source": [
    "def makeloader(torchdata:dfa.TorchData)-> tuple[DataLoader, list[torch.Tensor]]:\n",
    "    train, test = random_split(torchdata, [1-TEST_SIZE, TEST_SIZE])\n",
    "\n",
    "    train = DataLoader(train, BATCH_SIZE, shuffle=True)\n",
    "    test = next(iter(DataLoader(test, len(test))))\n",
    "\n",
    "    return train, test"
   ]
  },
  {
   "cell_type": "markdown",
   "metadata": {},
   "source": [
    "## Model"
   ]
  },
  {
   "cell_type": "code",
   "execution_count": null,
   "metadata": {},
   "outputs": [],
   "source": [
    "def getstats(data:dfa.TorchData, automaton:dfa.DFA, loss = nn.BCELoss(), optimizer = torch.optim.Adam, returnmodel=False):\n",
    "    trainloader, test = makeloader(data)\n",
    "\n",
    "    noparam = dfa.AutomataRNN(automaton, device=DEVICE).to(DEVICE)\n",
    "    target = dfa.sigmoid_to_tanh(dfa.dfa2srn(automaton.transition.T, automaton.finites))\n",
    "    optim = optimizer(noparam.parameters(), lr=LEARNING_RATES)\n",
    "    optim.zero_grad()\n",
    "\n",
    "    statsnoparam = utils.initstats([\"losses, l2, linf, targetdist, acc\"])\n",
    "\n",
    "    for epoch in range(N_EPOCH):\n",
    "        trainer = iter(trainloader)\n",
    "        for _ in tqdm(range(len(trainloader)), desc=f\"Epoch {epoch+1}...\", ncols=75):\n",
    "            words, lengths, labels = next(trainer)\n",
    "            labels = labels.to(dtype = torch.float32)\n",
    "\n",
    "            out = noparam(words, lengths)\n",
    "\n",
    "            statsnoparam[\"losses\"]= loss(out, labels)\n",
    "            statsnoparam[\"losses\"][-1].backward()\n",
    "\n",
    "            optim.step()\n",
    "            optim.zero_grad()\n",
    "\n",
    "        with torch.no_grad():\n",
    "            predictions = noparam.predict(test[0], test[1])\n",
    "            acc = torch.sum(predictions == test[2].reshape(-1), dim=0) * 100 / len(test[2])\n",
    "            print(f\"Done! Trainloss: {statsnoparam[\"losses\"][-1]:.6f}, Test accuracy: {acc:.4f}\")\n",
    "\n",
    "    print(\"\\nNon parametrized RNN done!\\n\")\n",
    "\n",
    "    withparam = dfa.ParametrizeRNN(automaton, device=DEVICE).to(DEVICE)\n",
    "\n",
    "    optim = optimizer(withparam.parameters(), lr=LEARNING_RATES)\n",
    "    optim.zero_grad()\n",
    "\n",
    "    losslistinit = list()\n",
    "\n",
    "    for epoch in range(N_EPOCH):\n",
    "        trainer = iter(trainloader)\n",
    "        for _ in tqdm(range(len(trainloader)), desc=f\"Epoch {epoch+1}...\", ncols=75):\n",
    "            words, lengths, labels = next(trainer)\n",
    "            labels = labels.to(dtype = torch.float32)\n",
    "\n",
    "            out = withparam(words, lengths)\n",
    "\n",
    "            losslistinit.append(loss(out, labels))\n",
    "            losslistinit[-1].backward()\n",
    "\n",
    "            optim.step()\n",
    "            optim.zero_grad()\n",
    "\n",
    "        with torch.no_grad():\n",
    "            predictions = withparam.predict(test[0], test[1])\n",
    "            acc = torch.sum(predictions == test[2].reshape(-1), dim=0) * 100 / len(test[2])\n",
    "            print(f\"Done! Trainloss: {losslistinit[-1]:.6f}, Test accuracy: {acc:.4f}\")\n",
    "\n",
    "    print(\"\\nParametrized RNN done!\")\n",
    "    if returnmodel:\n",
    "        return (losslistnoinit, noparam), (losslistinit, withparam)\n",
    "    else:\n",
    "        return statsnoparam, statsparam\n",
    "            "
   ]
  }
 ],
 "metadata": {
  "kernelspec": {
   "display_name": "base",
   "language": "python",
   "name": "python3"
  },
  "language_info": {
   "codemirror_mode": {
    "name": "ipython",
    "version": 3
   },
   "file_extension": ".py",
   "mimetype": "text/x-python",
   "name": "python",
   "nbconvert_exporter": "python",
   "pygments_lexer": "ipython3",
   "version": "3.11.7"
  }
 },
 "nbformat": 4,
 "nbformat_minor": 2
}
