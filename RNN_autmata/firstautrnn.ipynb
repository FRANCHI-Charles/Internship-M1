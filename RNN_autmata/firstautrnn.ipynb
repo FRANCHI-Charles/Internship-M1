{
 "cells": [
  {
   "cell_type": "code",
   "execution_count": 1,
   "metadata": {
    "metadata": {}
   },
   "outputs": [],
   "source": [
    "import matplotlib.pyplot as plt\n",
    "import torch\n",
    "import torch.nn as nn\n",
    "from torch.utils.data import DataLoader, random_split\n",
    "import torch.nn.utils.parametrize as parametrize\n",
    "from tqdm import tqdm"
   ]
  },
  {
   "cell_type": "markdown",
   "metadata": {},
   "source": [
    "## Hyperparameters"
   ]
  },
  {
   "cell_type": "code",
   "execution_count": 2,
   "metadata": {
    "metadata": {}
   },
   "outputs": [],
   "source": [
    "BATCH_SIZE = 200\n",
    "\n",
    "TEST_SIZE = 0.2\n",
    "\n",
    "N_EPOCH = 20\n",
    "LEARNING_RATES = 0.001\n",
    "\n",
    "torch.manual_seed(689)\n",
    "#device = torch.device(\"cuda\" if torch.cuda.is_available() else \"cpu\")\n",
    "device = torch.device(\"cpu\")"
   ]
  },
  {
   "cell_type": "markdown",
   "metadata": {},
   "source": [
    "## Dataset preparations"
   ]
  },
  {
   "cell_type": "code",
   "execution_count": 3,
   "metadata": {
    "metadata": {}
   },
   "outputs": [],
   "source": [
    "from automata import *\n",
    "from datas import principal"
   ]
  },
  {
   "cell_type": "code",
   "execution_count": 4,
   "metadata": {
    "metadata": {}
   },
   "outputs": [
    {
     "name": "stdout",
     "output_type": "stream",
     "text": [
      "Generate dataset 'even'...\n",
      "Done! in 4.0022 sec\n",
      "Generate dataset 'sink'...\n",
      "Done! in 38.7018 sec\n",
      "Generate 'fix'...\n",
      "Done! in 5.4634 sec\n",
      "Generate 'unique'...\n",
      "Done! in 4.7610 sec\n"
     ]
    }
   ],
   "source": [
    "even, sink, fix, unique = principal()"
   ]
  },
  {
   "cell_type": "code",
   "execution_count": 5,
   "metadata": {},
   "outputs": [],
   "source": [
    "def makeloader(automaton:DFA):\n",
    "    train, test = random_split(TorchData(automaton), [1-TEST_SIZE, TEST_SIZE])\n",
    "\n",
    "    train = DataLoader(train, BATCH_SIZE, shuffle=True)\n",
    "    test = next(iter(DataLoader(test, len(test))))\n",
    "\n",
    "    return train, test\n",
    "    \n",
    "\n",
    "evenloader, testeven = makeloader(even)\n",
    "\n",
    "sinkloader, testsink = makeloader(sink)"
   ]
  },
  {
   "cell_type": "code",
   "execution_count": 5,
   "metadata": {},
   "outputs": [
    {
     "data": {
      "text/plain": [
       "tensor(0.5040)"
      ]
     },
     "execution_count": 5,
     "metadata": {},
     "output_type": "execute_result"
    }
   ],
   "source": [
    "torch.sum(testsink[2])/len(testsink[2])"
   ]
  },
  {
   "cell_type": "markdown",
   "metadata": {},
   "source": [
    "## RNN training"
   ]
  },
  {
   "cell_type": "code",
   "execution_count": 6,
   "metadata": {
    "metadata": {}
   },
   "outputs": [],
   "source": [
    "class AutomataRNN(nn.Module):\n",
    "\n",
    "    def __init__(self, automaton:DFA) -> None:\n",
    "        super().__init__()\n",
    "        self.automaton = automaton\n",
    "        self.transshape = automaton.transition.shape\n",
    "        self.hidden_size = self.transshape[0]*self.transshape[1]\n",
    "\n",
    "        self.rnn = nn.RNN(self.transshape[1], self.hidden_size, num_layers=1, batch_first=True, device=device, bias=False)\n",
    "        self.toclass = nn.Linear(self.hidden_size, 2, device=device, bias=False)\n",
    "\n",
    "    def absinit(self):\n",
    "        \"Force the sign of the initial parameters to be in the desired shape.\"\n",
    "        parameters = {\"rnn.weight_ih_l0\" : abs(self.state_dict()[\"rnn.weight_ih_l0\"]),\n",
    "                      \"rnn.weight_hh_l0\" : -abs(self.state_dict()[\"rnn.weight_hh_l0\"]),\n",
    "                      \"toclass.weight\" :  abs(self.state_dict()[\"toclass.weight\"])}\n",
    "        \n",
    "        self.load_state_dict(parameters)    \n",
    "\n",
    "    def forward(self, x, truelen):\n",
    "        \"`truelen` is a list of the real length of the sequence : that way we can recover the good prediction along the rnn\"\n",
    "        h0 = torch.zeros(1, x.shape[0], self.hidden_size).to(device)\n",
    "        h0[:,:,0] = 1\n",
    "        out, _ = self.rnn(x.to(device), h0)\n",
    "        out = torch.stack([out[i, truelen[i] -1, :] for i in range(out.shape[0])]) #extract only the require prediction y for each batch\n",
    "        return self.toclass(out)\n",
    "        \n",
    "    def predict(self, x, truelen):\n",
    "        return torch.argmax(self(x, truelen), dim = 1)\n",
    "    \n",
    "    def strpredict(self, word:str):\n",
    "        tensor = torch.tensor(self.automaton.word_to_matrix(word))\n",
    "        return "
   ]
  },
  {
   "cell_type": "code",
   "execution_count": 7,
   "metadata": {},
   "outputs": [],
   "source": [
    "class HiddentoHidden(nn.Module):\n",
    "    def __init__(self, RNN) -> None:\n",
    "        super().__init__()\n",
    "        self.transshape = RNN.transshape\n",
    "        self.hidden_size = RNN.hidden_size\n",
    "\n",
    "    def forward(self, X):\n",
    "        \"X is a square matrix of the size of the hidden vector.\"\n",
    "        cat = [X[:,i].reshape(-1,1).expand(-1, self.transshape[1])  for i in range(0, self.hidden_size, self.transshape[1])]\n",
    "        return torch.cat(cat, dim=1)\n",
    "        \n",
    "\n",
    "class ParametrizeRNN(AutomataRNN):\n",
    "    \"\"\"\n",
    "    RNN with parameters with the constraints find by volodimir for automata.\n",
    "    \"\"\"\n",
    "    def __init__(self, automaton: DFA) -> None:\n",
    "        super().__init__(automaton)\n",
    "        statedict = self.state_dict()\n",
    "        weight_hh = torch.zeros(*statedict[\"rnn.weight_hh_l0\"].shape)\n",
    "        for i in range(0, self.hidden_size, self.transshape[1]):\n",
    "            weight_hh[:,i] = statedict[\"rnn.weight_hh_l0\"][:,i]\n",
    "            statedict[\"rnn.weight_ih_l0\"][i:i+self.transshape[1]] = 2*torch.eye(self.transshape[1])\n",
    "        statedict[\"rnn.weight_hh_l0\"] = weight_hh\n",
    "        self.load_state_dict(statedict)\n",
    "        self.rnn.all_weights[0][0].requires_grad_(False) # turn off the optimization along weight_ih\n",
    "\n",
    "        parametrize.register_parametrization(self.rnn, \"weight_hh_l0\", HiddentoHidden(self))"
   ]
  },
  {
   "cell_type": "code",
   "execution_count": 25,
   "metadata": {},
   "outputs": [],
   "source": [
    "def parametrizevsnot(automaton:DFA, loss = nn.CrossEntropyLoss(), optimizer = torch.optim.Adam, returnautomat=False):\n",
    "    trainloader, test = makeloader(automaton)\n",
    "\n",
    "    noparam = AutomataRNN(automaton).to(device)\n",
    "    optim = optimizer(noparam.parameters(), lr=LEARNING_RATES)\n",
    "\n",
    "    losslistnoinit = list()\n",
    "\n",
    "    for epoch in range(N_EPOCH):\n",
    "        trainer = iter(trainloader)\n",
    "        for _ in tqdm(range(len(trainloader)), desc=f\"Epoch {epoch+1}...\", ncols=75):\n",
    "            words, lengths, labels = next(trainer)\n",
    "\n",
    "            out = noparam(words, lengths)\n",
    "\n",
    "            losslistnoinit.append(loss(out, labels))\n",
    "            losslistnoinit[-1].backward()\n",
    "\n",
    "            optim.step()\n",
    "            optim.zero_grad()\n",
    "\n",
    "        with torch.no_grad():\n",
    "            predictions = noparam.predict(test[0], test[1])\n",
    "            acc = torch.sum(predictions == test[2].reshape(-1), dim=0) * 100 / len(test[2])\n",
    "            print(f\"Done! Trainloss: {losslistnoinit[-1]:.6f}, Test accuracy: {acc:.4f}\")\n",
    "\n",
    "    print(\"\\nNon parametrized RNN done!\\n\")\n",
    "\n",
    "    withparam = ParametrizeRNN(automaton).to(device)\n",
    "\n",
    "    optim = optimizer(withparam.parameters(), lr=LEARNING_RATES)\n",
    "\n",
    "    losslistinit = list()\n",
    "\n",
    "    for epoch in range(N_EPOCH):\n",
    "        trainer = iter(trainloader)\n",
    "        for _ in tqdm(range(len(trainloader)), desc=f\"Epoch {epoch+1}...\", ncols=75):\n",
    "            words, lengths, labels = next(trainer)\n",
    "\n",
    "            out = withparam(words, lengths)\n",
    "\n",
    "            losslistinit.append(loss(out, labels))\n",
    "            losslistinit[-1].backward()\n",
    "\n",
    "            optim.step()\n",
    "            optim.zero_grad()\n",
    "\n",
    "        with torch.no_grad():\n",
    "            predictions = withparam.predict(test[0], test[1])\n",
    "            acc = torch.sum(predictions == test[2].reshape(-1), dim=0) * 100 / len(test[2])\n",
    "            print(f\"Done! Trainloss: {losslistinit[-1]:.6f}, Test accuracy: {acc:.4f}\")\n",
    "\n",
    "    print(\"\\nParametrized RNN done!\")\n",
    "    if returnautomat:\n",
    "        return (losslistnoinit, noparam), (losslistinit, withparam)\n",
    "    else:\n",
    "        return losslistnoinit, losslistinit\n",
    "            "
   ]
  },
  {
   "cell_type": "markdown",
   "metadata": {},
   "source": [
    "### Even"
   ]
  },
  {
   "cell_type": "code",
   "execution_count": 9,
   "metadata": {
    "metadata": {}
   },
   "outputs": [
    {
     "name": "stderr",
     "output_type": "stream",
     "text": [
      "Epoch 1...: 100%|██████████████████████████| 40/40 [00:00<00:00, 42.86it/s]\n"
     ]
    },
    {
     "name": "stdout",
     "output_type": "stream",
     "text": [
      "Done! Trainloss: 0.707031, Test accuracy: 49.1500\n"
     ]
    },
    {
     "name": "stderr",
     "output_type": "stream",
     "text": [
      "Epoch 2...: 100%|██████████████████████████| 40/40 [00:01<00:00, 38.05it/s]\n"
     ]
    },
    {
     "name": "stdout",
     "output_type": "stream",
     "text": [
      "Done! Trainloss: 0.702462, Test accuracy: 49.3500\n"
     ]
    },
    {
     "name": "stderr",
     "output_type": "stream",
     "text": [
      "Epoch 3...: 100%|██████████████████████████| 40/40 [00:00<00:00, 45.07it/s]\n"
     ]
    },
    {
     "name": "stdout",
     "output_type": "stream",
     "text": [
      "Done! Trainloss: 0.692792, Test accuracy: 48.7500\n"
     ]
    },
    {
     "name": "stderr",
     "output_type": "stream",
     "text": [
      "Epoch 4...: 100%|██████████████████████████| 40/40 [00:00<00:00, 43.71it/s]\n"
     ]
    },
    {
     "name": "stdout",
     "output_type": "stream",
     "text": [
      "Done! Trainloss: 0.694851, Test accuracy: 48.8500\n"
     ]
    },
    {
     "name": "stderr",
     "output_type": "stream",
     "text": [
      "Epoch 5...: 100%|██████████████████████████| 40/40 [00:00<00:00, 48.30it/s]\n"
     ]
    },
    {
     "name": "stdout",
     "output_type": "stream",
     "text": [
      "Done! Trainloss: 0.691871, Test accuracy: 48.8500\n"
     ]
    },
    {
     "name": "stderr",
     "output_type": "stream",
     "text": [
      "Epoch 6...: 100%|██████████████████████████| 40/40 [00:00<00:00, 45.06it/s]\n"
     ]
    },
    {
     "name": "stdout",
     "output_type": "stream",
     "text": [
      "Done! Trainloss: 0.697111, Test accuracy: 48.7000\n"
     ]
    },
    {
     "name": "stderr",
     "output_type": "stream",
     "text": [
      "Epoch 7...: 100%|██████████████████████████| 40/40 [00:00<00:00, 44.45it/s]\n"
     ]
    },
    {
     "name": "stdout",
     "output_type": "stream",
     "text": [
      "Done! Trainloss: 0.694811, Test accuracy: 48.7500\n"
     ]
    },
    {
     "name": "stderr",
     "output_type": "stream",
     "text": [
      "Epoch 8...: 100%|██████████████████████████| 40/40 [00:00<00:00, 42.74it/s]\n"
     ]
    },
    {
     "name": "stdout",
     "output_type": "stream",
     "text": [
      "Done! Trainloss: 0.695082, Test accuracy: 48.3500\n"
     ]
    },
    {
     "name": "stderr",
     "output_type": "stream",
     "text": [
      "Epoch 9...: 100%|██████████████████████████| 40/40 [00:00<00:00, 46.03it/s]\n"
     ]
    },
    {
     "name": "stdout",
     "output_type": "stream",
     "text": [
      "Done! Trainloss: 0.691124, Test accuracy: 48.6500\n"
     ]
    },
    {
     "name": "stderr",
     "output_type": "stream",
     "text": [
      "Epoch 10...: 100%|█████████████████████████| 40/40 [00:00<00:00, 47.08it/s]\n"
     ]
    },
    {
     "name": "stdout",
     "output_type": "stream",
     "text": [
      "Done! Trainloss: 0.693520, Test accuracy: 48.4000\n"
     ]
    },
    {
     "name": "stderr",
     "output_type": "stream",
     "text": [
      "Epoch 11...: 100%|█████████████████████████| 40/40 [00:00<00:00, 48.69it/s]\n"
     ]
    },
    {
     "name": "stdout",
     "output_type": "stream",
     "text": [
      "Done! Trainloss: 0.694933, Test accuracy: 48.6500\n"
     ]
    },
    {
     "name": "stderr",
     "output_type": "stream",
     "text": [
      "Epoch 12...: 100%|█████████████████████████| 40/40 [00:01<00:00, 38.60it/s]\n"
     ]
    },
    {
     "name": "stdout",
     "output_type": "stream",
     "text": [
      "Done! Trainloss: 0.692943, Test accuracy: 49.9500\n"
     ]
    },
    {
     "name": "stderr",
     "output_type": "stream",
     "text": [
      "Epoch 13...: 100%|█████████████████████████| 40/40 [00:00<00:00, 47.94it/s]\n"
     ]
    },
    {
     "name": "stdout",
     "output_type": "stream",
     "text": [
      "Done! Trainloss: 0.692414, Test accuracy: 49.6500\n"
     ]
    },
    {
     "name": "stderr",
     "output_type": "stream",
     "text": [
      "Epoch 14...: 100%|█████████████████████████| 40/40 [00:00<00:00, 48.05it/s]\n"
     ]
    },
    {
     "name": "stdout",
     "output_type": "stream",
     "text": [
      "Done! Trainloss: 0.693632, Test accuracy: 48.8000\n"
     ]
    },
    {
     "name": "stderr",
     "output_type": "stream",
     "text": [
      "Epoch 15...: 100%|█████████████████████████| 40/40 [00:00<00:00, 45.86it/s]\n"
     ]
    },
    {
     "name": "stdout",
     "output_type": "stream",
     "text": [
      "Done! Trainloss: 0.693237, Test accuracy: 48.6500\n"
     ]
    },
    {
     "name": "stderr",
     "output_type": "stream",
     "text": [
      "Epoch 16...: 100%|█████████████████████████| 40/40 [00:00<00:00, 47.81it/s]\n"
     ]
    },
    {
     "name": "stdout",
     "output_type": "stream",
     "text": [
      "Done! Trainloss: 0.693106, Test accuracy: 48.8500\n"
     ]
    },
    {
     "name": "stderr",
     "output_type": "stream",
     "text": [
      "Epoch 17...: 100%|█████████████████████████| 40/40 [00:00<00:00, 47.45it/s]\n"
     ]
    },
    {
     "name": "stdout",
     "output_type": "stream",
     "text": [
      "Done! Trainloss: 0.692901, Test accuracy: 48.7500\n"
     ]
    },
    {
     "name": "stderr",
     "output_type": "stream",
     "text": [
      "Epoch 18...: 100%|█████████████████████████| 40/40 [00:00<00:00, 42.83it/s]\n"
     ]
    },
    {
     "name": "stdout",
     "output_type": "stream",
     "text": [
      "Done! Trainloss: 0.692739, Test accuracy: 49.9000\n"
     ]
    },
    {
     "name": "stderr",
     "output_type": "stream",
     "text": [
      "Epoch 19...: 100%|█████████████████████████| 40/40 [00:00<00:00, 43.99it/s]\n"
     ]
    },
    {
     "name": "stdout",
     "output_type": "stream",
     "text": [
      "Done! Trainloss: 0.692663, Test accuracy: 48.9000\n"
     ]
    },
    {
     "name": "stderr",
     "output_type": "stream",
     "text": [
      "Epoch 20...: 100%|█████████████████████████| 40/40 [00:00<00:00, 42.83it/s]\n"
     ]
    },
    {
     "name": "stdout",
     "output_type": "stream",
     "text": [
      "Done! Trainloss: 0.692700, Test accuracy: 49.5000\n",
      "\n",
      "Non parametrized RNN done!\n",
      "\n"
     ]
    },
    {
     "name": "stderr",
     "output_type": "stream",
     "text": [
      "Epoch 1...: 100%|██████████████████████████| 40/40 [00:00<00:00, 40.44it/s]\n"
     ]
    },
    {
     "name": "stdout",
     "output_type": "stream",
     "text": [
      "Done! Trainloss: 0.692700, Test accuracy: 50.8000\n"
     ]
    },
    {
     "name": "stderr",
     "output_type": "stream",
     "text": [
      "Epoch 2...: 100%|██████████████████████████| 40/40 [00:00<00:00, 45.90it/s]\n"
     ]
    },
    {
     "name": "stdout",
     "output_type": "stream",
     "text": [
      "Done! Trainloss: 0.692700, Test accuracy: 50.8000\n"
     ]
    },
    {
     "name": "stderr",
     "output_type": "stream",
     "text": [
      "Epoch 3...: 100%|██████████████████████████| 40/40 [00:00<00:00, 45.32it/s]\n"
     ]
    },
    {
     "name": "stdout",
     "output_type": "stream",
     "text": [
      "Done! Trainloss: 0.692700, Test accuracy: 50.8000\n"
     ]
    },
    {
     "name": "stderr",
     "output_type": "stream",
     "text": [
      "Epoch 4...: 100%|██████████████████████████| 40/40 [00:01<00:00, 34.23it/s]\n"
     ]
    },
    {
     "name": "stdout",
     "output_type": "stream",
     "text": [
      "Done! Trainloss: 0.692700, Test accuracy: 49.9500\n"
     ]
    },
    {
     "name": "stderr",
     "output_type": "stream",
     "text": [
      "Epoch 5...: 100%|██████████████████████████| 40/40 [00:01<00:00, 32.24it/s]\n"
     ]
    },
    {
     "name": "stdout",
     "output_type": "stream",
     "text": [
      "Done! Trainloss: 0.692700, Test accuracy: 50.4500\n"
     ]
    },
    {
     "name": "stderr",
     "output_type": "stream",
     "text": [
      "Epoch 6...: 100%|██████████████████████████| 40/40 [00:00<00:00, 41.60it/s]\n"
     ]
    },
    {
     "name": "stdout",
     "output_type": "stream",
     "text": [
      "Done! Trainloss: 0.692700, Test accuracy: 49.7000\n"
     ]
    },
    {
     "name": "stderr",
     "output_type": "stream",
     "text": [
      "Epoch 7...: 100%|██████████████████████████| 40/40 [00:01<00:00, 34.37it/s]\n"
     ]
    },
    {
     "name": "stdout",
     "output_type": "stream",
     "text": [
      "Done! Trainloss: 0.692700, Test accuracy: 50.6000\n"
     ]
    },
    {
     "name": "stderr",
     "output_type": "stream",
     "text": [
      "Epoch 8...: 100%|██████████████████████████| 40/40 [00:01<00:00, 39.71it/s]\n"
     ]
    },
    {
     "name": "stdout",
     "output_type": "stream",
     "text": [
      "Done! Trainloss: 0.692700, Test accuracy: 50.0000\n"
     ]
    },
    {
     "name": "stderr",
     "output_type": "stream",
     "text": [
      "Epoch 9...: 100%|██████████████████████████| 40/40 [00:01<00:00, 36.74it/s]\n"
     ]
    },
    {
     "name": "stdout",
     "output_type": "stream",
     "text": [
      "Done! Trainloss: 0.692700, Test accuracy: 50.0500\n"
     ]
    },
    {
     "name": "stderr",
     "output_type": "stream",
     "text": [
      "Epoch 10...: 100%|█████████████████████████| 40/40 [00:00<00:00, 42.10it/s]\n"
     ]
    },
    {
     "name": "stdout",
     "output_type": "stream",
     "text": [
      "Done! Trainloss: 0.692700, Test accuracy: 50.0000\n"
     ]
    },
    {
     "name": "stderr",
     "output_type": "stream",
     "text": [
      "Epoch 11...: 100%|█████████████████████████| 40/40 [00:00<00:00, 42.05it/s]\n"
     ]
    },
    {
     "name": "stdout",
     "output_type": "stream",
     "text": [
      "Done! Trainloss: 0.692700, Test accuracy: 49.3500\n"
     ]
    },
    {
     "name": "stderr",
     "output_type": "stream",
     "text": [
      "Epoch 12...: 100%|█████████████████████████| 40/40 [00:01<00:00, 39.83it/s]\n"
     ]
    },
    {
     "name": "stdout",
     "output_type": "stream",
     "text": [
      "Done! Trainloss: 0.692700, Test accuracy: 50.4000\n"
     ]
    },
    {
     "name": "stderr",
     "output_type": "stream",
     "text": [
      "Epoch 13...: 100%|█████████████████████████| 40/40 [00:01<00:00, 36.41it/s]\n"
     ]
    },
    {
     "name": "stdout",
     "output_type": "stream",
     "text": [
      "Done! Trainloss: 0.692700, Test accuracy: 50.1000\n"
     ]
    },
    {
     "name": "stderr",
     "output_type": "stream",
     "text": [
      "Epoch 14...: 100%|█████████████████████████| 40/40 [00:00<00:00, 45.43it/s]\n"
     ]
    },
    {
     "name": "stdout",
     "output_type": "stream",
     "text": [
      "Done! Trainloss: 0.692700, Test accuracy: 49.8500\n"
     ]
    },
    {
     "name": "stderr",
     "output_type": "stream",
     "text": [
      "Epoch 15...: 100%|█████████████████████████| 40/40 [00:00<00:00, 42.51it/s]\n"
     ]
    },
    {
     "name": "stdout",
     "output_type": "stream",
     "text": [
      "Done! Trainloss: 0.692700, Test accuracy: 49.3500\n"
     ]
    },
    {
     "name": "stderr",
     "output_type": "stream",
     "text": [
      "Epoch 16...: 100%|█████████████████████████| 40/40 [00:00<00:00, 50.16it/s]\n"
     ]
    },
    {
     "name": "stdout",
     "output_type": "stream",
     "text": [
      "Done! Trainloss: 0.692700, Test accuracy: 50.0500\n"
     ]
    },
    {
     "name": "stderr",
     "output_type": "stream",
     "text": [
      "Epoch 17...: 100%|█████████████████████████| 40/40 [00:00<00:00, 41.53it/s]\n"
     ]
    },
    {
     "name": "stdout",
     "output_type": "stream",
     "text": [
      "Done! Trainloss: 0.692700, Test accuracy: 49.4000\n"
     ]
    },
    {
     "name": "stderr",
     "output_type": "stream",
     "text": [
      "Epoch 18...: 100%|█████████████████████████| 40/40 [00:01<00:00, 35.04it/s]\n"
     ]
    },
    {
     "name": "stdout",
     "output_type": "stream",
     "text": [
      "Done! Trainloss: 0.692700, Test accuracy: 49.8500\n"
     ]
    },
    {
     "name": "stderr",
     "output_type": "stream",
     "text": [
      "Epoch 19...: 100%|█████████████████████████| 40/40 [00:01<00:00, 38.75it/s]\n"
     ]
    },
    {
     "name": "stdout",
     "output_type": "stream",
     "text": [
      "Done! Trainloss: 0.692700, Test accuracy: 50.6500\n"
     ]
    },
    {
     "name": "stderr",
     "output_type": "stream",
     "text": [
      "Epoch 20...: 100%|█████████████████████████| 40/40 [00:01<00:00, 31.05it/s]\n"
     ]
    },
    {
     "name": "stdout",
     "output_type": "stream",
     "text": [
      "Done! Trainloss: 0.692700, Test accuracy: 49.4000\n",
      "\n",
      "Parametrized RNN done!\n"
     ]
    }
   ],
   "source": [
    "evennop, evenp = parametrizevsnot(even)"
   ]
  },
  {
   "cell_type": "code",
   "execution_count": 14,
   "metadata": {
    "metadata": {}
   },
   "outputs": [
    {
     "data": {
      "image/png": "[encoded data removed]",
      "text/plain": [
       "<Figure size 640x480 with 1 Axes>"
      ]
     },
     "metadata": {},
     "output_type": "display_data"
    }
   ],
   "source": [
    "with torch.no_grad():\n",
    "    plt.plot(evennop, label = \"Without constraints\")\n",
    "    plt.plot(evenp, \"r\", label=\"With constraints\")\n",
    "    plt.legend()\n",
    "    plt.show()\n",
    "    "
   ]
  },
  {
   "cell_type": "markdown",
   "metadata": {},
   "source": [
    "### Sink"
   ]
  },
  {
   "cell_type": "code",
   "execution_count": 19,
   "metadata": {
    "metadata": {}
   },
   "outputs": [
    {
     "name": "stderr",
     "output_type": "stream",
     "text": [
      "Epoch 1...: 100%|██████████████████████████| 40/40 [00:01<00:00, 33.64it/s]\n"
     ]
    },
    {
     "name": "stdout",
     "output_type": "stream",
     "text": [
      "Done! Trainloss: 0.636755, Test accuracy: 66.1500\n"
     ]
    },
    {
     "name": "stderr",
     "output_type": "stream",
     "text": [
      "Epoch 2...: 100%|██████████████████████████| 40/40 [00:01<00:00, 32.34it/s]\n"
     ]
    },
    {
     "name": "stdout",
     "output_type": "stream",
     "text": [
      "Done! Trainloss: 0.513982, Test accuracy: 87.8500\n"
     ]
    },
    {
     "name": "stderr",
     "output_type": "stream",
     "text": [
      "Epoch 3...: 100%|██████████████████████████| 40/40 [00:01<00:00, 33.97it/s]\n"
     ]
    },
    {
     "name": "stdout",
     "output_type": "stream",
     "text": [
      "Done! Trainloss: 0.357686, Test accuracy: 92.6000\n"
     ]
    },
    {
     "name": "stderr",
     "output_type": "stream",
     "text": [
      "Epoch 4...: 100%|██████████████████████████| 40/40 [00:01<00:00, 30.32it/s]\n"
     ]
    },
    {
     "name": "stdout",
     "output_type": "stream",
     "text": [
      "Done! Trainloss: 0.256723, Test accuracy: 99.3000\n"
     ]
    },
    {
     "name": "stderr",
     "output_type": "stream",
     "text": [
      "Epoch 5...: 100%|██████████████████████████| 40/40 [00:01<00:00, 34.65it/s]\n"
     ]
    },
    {
     "name": "stdout",
     "output_type": "stream",
     "text": [
      "Done! Trainloss: 0.177600, Test accuracy: 100.0000\n"
     ]
    },
    {
     "name": "stderr",
     "output_type": "stream",
     "text": [
      "Epoch 6...: 100%|██████████████████████████| 40/40 [00:01<00:00, 33.07it/s]\n"
     ]
    },
    {
     "name": "stdout",
     "output_type": "stream",
     "text": [
      "Done! Trainloss: 0.132778, Test accuracy: 100.0000\n"
     ]
    },
    {
     "name": "stderr",
     "output_type": "stream",
     "text": [
      "Epoch 7...: 100%|██████████████████████████| 40/40 [00:01<00:00, 33.47it/s]\n"
     ]
    },
    {
     "name": "stdout",
     "output_type": "stream",
     "text": [
      "Done! Trainloss: 0.099441, Test accuracy: 100.0000\n"
     ]
    },
    {
     "name": "stderr",
     "output_type": "stream",
     "text": [
      "Epoch 8...: 100%|██████████████████████████| 40/40 [00:01<00:00, 33.45it/s]\n"
     ]
    },
    {
     "name": "stdout",
     "output_type": "stream",
     "text": [
      "Done! Trainloss: 0.084540, Test accuracy: 100.0000\n"
     ]
    },
    {
     "name": "stderr",
     "output_type": "stream",
     "text": [
      "Epoch 9...: 100%|██████████████████████████| 40/40 [00:01<00:00, 34.05it/s]\n"
     ]
    },
    {
     "name": "stdout",
     "output_type": "stream",
     "text": [
      "Done! Trainloss: 0.067658, Test accuracy: 100.0000\n"
     ]
    },
    {
     "name": "stderr",
     "output_type": "stream",
     "text": [
      "Epoch 10...: 100%|█████████████████████████| 40/40 [00:01<00:00, 34.07it/s]\n"
     ]
    },
    {
     "name": "stdout",
     "output_type": "stream",
     "text": [
      "Done! Trainloss: 0.054356, Test accuracy: 100.0000\n"
     ]
    },
    {
     "name": "stderr",
     "output_type": "stream",
     "text": [
      "Epoch 11...: 100%|█████████████████████████| 40/40 [00:01<00:00, 29.96it/s]\n"
     ]
    },
    {
     "name": "stdout",
     "output_type": "stream",
     "text": [
      "Done! Trainloss: 0.040657, Test accuracy: 100.0000\n"
     ]
    },
    {
     "name": "stderr",
     "output_type": "stream",
     "text": [
      "Epoch 12...: 100%|█████████████████████████| 40/40 [00:01<00:00, 34.40it/s]\n"
     ]
    },
    {
     "name": "stdout",
     "output_type": "stream",
     "text": [
      "Done! Trainloss: 0.033858, Test accuracy: 100.0000\n"
     ]
    },
    {
     "name": "stderr",
     "output_type": "stream",
     "text": [
      "Epoch 13...: 100%|█████████████████████████| 40/40 [00:01<00:00, 32.72it/s]\n"
     ]
    },
    {
     "name": "stdout",
     "output_type": "stream",
     "text": [
      "Done! Trainloss: 0.029050, Test accuracy: 100.0000\n"
     ]
    },
    {
     "name": "stderr",
     "output_type": "stream",
     "text": [
      "Epoch 14...: 100%|█████████████████████████| 40/40 [00:01<00:00, 34.27it/s]\n"
     ]
    },
    {
     "name": "stdout",
     "output_type": "stream",
     "text": [
      "Done! Trainloss: 0.031387, Test accuracy: 100.0000\n"
     ]
    },
    {
     "name": "stderr",
     "output_type": "stream",
     "text": [
      "Epoch 15...: 100%|█████████████████████████| 40/40 [00:01<00:00, 34.51it/s]\n"
     ]
    },
    {
     "name": "stdout",
     "output_type": "stream",
     "text": [
      "Done! Trainloss: 0.034508, Test accuracy: 100.0000\n"
     ]
    },
    {
     "name": "stderr",
     "output_type": "stream",
     "text": [
      "Epoch 16...: 100%|█████████████████████████| 40/40 [00:01<00:00, 33.74it/s]\n"
     ]
    },
    {
     "name": "stdout",
     "output_type": "stream",
     "text": [
      "Done! Trainloss: 0.019761, Test accuracy: 100.0000\n"
     ]
    },
    {
     "name": "stderr",
     "output_type": "stream",
     "text": [
      "Epoch 17...: 100%|█████████████████████████| 40/40 [00:01<00:00, 22.02it/s]\n"
     ]
    },
    {
     "name": "stdout",
     "output_type": "stream",
     "text": [
      "Done! Trainloss: 0.020327, Test accuracy: 100.0000\n"
     ]
    },
    {
     "name": "stderr",
     "output_type": "stream",
     "text": [
      "Epoch 18...: 100%|█████████████████████████| 40/40 [00:01<00:00, 23.81it/s]\n"
     ]
    },
    {
     "name": "stdout",
     "output_type": "stream",
     "text": [
      "Done! Trainloss: 0.012532, Test accuracy: 100.0000\n"
     ]
    },
    {
     "name": "stderr",
     "output_type": "stream",
     "text": [
      "Epoch 19...: 100%|█████████████████████████| 40/40 [00:01<00:00, 32.92it/s]\n"
     ]
    },
    {
     "name": "stdout",
     "output_type": "stream",
     "text": [
      "Done! Trainloss: 0.012972, Test accuracy: 100.0000\n"
     ]
    },
    {
     "name": "stderr",
     "output_type": "stream",
     "text": [
      "Epoch 20...: 100%|█████████████████████████| 40/40 [00:01<00:00, 34.98it/s]\n"
     ]
    },
    {
     "name": "stdout",
     "output_type": "stream",
     "text": [
      "Done! Trainloss: 0.021465, Test accuracy: 100.0000\n",
      "\n",
      "Non parametrized RNN done!\n",
      "\n"
     ]
    },
    {
     "name": "stderr",
     "output_type": "stream",
     "text": [
      "Epoch 1...: 100%|██████████████████████████| 40/40 [00:01<00:00, 37.10it/s]\n"
     ]
    },
    {
     "name": "stdout",
     "output_type": "stream",
     "text": [
      "Done! Trainloss: 0.021465, Test accuracy: 90.4500\n"
     ]
    },
    {
     "name": "stderr",
     "output_type": "stream",
     "text": [
      "Epoch 2...: 100%|██████████████████████████| 40/40 [00:01<00:00, 34.05it/s]\n"
     ]
    },
    {
     "name": "stdout",
     "output_type": "stream",
     "text": [
      "Done! Trainloss: 0.021465, Test accuracy: 90.4500\n"
     ]
    },
    {
     "name": "stderr",
     "output_type": "stream",
     "text": [
      "Epoch 3...: 100%|██████████████████████████| 40/40 [00:01<00:00, 35.04it/s]\n"
     ]
    },
    {
     "name": "stdout",
     "output_type": "stream",
     "text": [
      "Done! Trainloss: 0.021465, Test accuracy: 90.4500\n"
     ]
    },
    {
     "name": "stderr",
     "output_type": "stream",
     "text": [
      "Epoch 4...: 100%|██████████████████████████| 40/40 [00:01<00:00, 36.64it/s]\n"
     ]
    },
    {
     "name": "stdout",
     "output_type": "stream",
     "text": [
      "Done! Trainloss: 0.021465, Test accuracy: 90.4500\n"
     ]
    },
    {
     "name": "stderr",
     "output_type": "stream",
     "text": [
      "Epoch 5...: 100%|██████████████████████████| 40/40 [00:01<00:00, 36.87it/s]\n"
     ]
    },
    {
     "name": "stdout",
     "output_type": "stream",
     "text": [
      "Done! Trainloss: 0.021465, Test accuracy: 90.4500\n"
     ]
    },
    {
     "name": "stderr",
     "output_type": "stream",
     "text": [
      "Epoch 6...: 100%|██████████████████████████| 40/40 [00:01<00:00, 34.74it/s]\n"
     ]
    },
    {
     "name": "stdout",
     "output_type": "stream",
     "text": [
      "Done! Trainloss: 0.021465, Test accuracy: 90.5000\n"
     ]
    },
    {
     "name": "stderr",
     "output_type": "stream",
     "text": [
      "Epoch 7...: 100%|██████████████████████████| 40/40 [00:01<00:00, 33.56it/s]\n"
     ]
    },
    {
     "name": "stdout",
     "output_type": "stream",
     "text": [
      "Done! Trainloss: 0.021465, Test accuracy: 93.8500\n"
     ]
    },
    {
     "name": "stderr",
     "output_type": "stream",
     "text": [
      "Epoch 8...: 100%|██████████████████████████| 40/40 [00:01<00:00, 37.18it/s]\n"
     ]
    },
    {
     "name": "stdout",
     "output_type": "stream",
     "text": [
      "Done! Trainloss: 0.021465, Test accuracy: 96.6000\n"
     ]
    },
    {
     "name": "stderr",
     "output_type": "stream",
     "text": [
      "Epoch 9...: 100%|██████████████████████████| 40/40 [00:01<00:00, 36.68it/s]\n"
     ]
    },
    {
     "name": "stdout",
     "output_type": "stream",
     "text": [
      "Done! Trainloss: 0.021465, Test accuracy: 95.7500\n"
     ]
    },
    {
     "name": "stderr",
     "output_type": "stream",
     "text": [
      "Epoch 10...: 100%|█████████████████████████| 40/40 [00:01<00:00, 37.54it/s]\n"
     ]
    },
    {
     "name": "stdout",
     "output_type": "stream",
     "text": [
      "Done! Trainloss: 0.021465, Test accuracy: 96.3000\n"
     ]
    },
    {
     "name": "stderr",
     "output_type": "stream",
     "text": [
      "Epoch 11...: 100%|█████████████████████████| 40/40 [00:01<00:00, 38.10it/s]\n"
     ]
    },
    {
     "name": "stdout",
     "output_type": "stream",
     "text": [
      "Done! Trainloss: 0.021465, Test accuracy: 97.2000\n"
     ]
    },
    {
     "name": "stderr",
     "output_type": "stream",
     "text": [
      "Epoch 12...: 100%|█████████████████████████| 40/40 [00:01<00:00, 37.00it/s]\n"
     ]
    },
    {
     "name": "stdout",
     "output_type": "stream",
     "text": [
      "Done! Trainloss: 0.021465, Test accuracy: 97.3000\n"
     ]
    },
    {
     "name": "stderr",
     "output_type": "stream",
     "text": [
      "Epoch 13...: 100%|█████████████████████████| 40/40 [00:01<00:00, 34.99it/s]\n"
     ]
    },
    {
     "name": "stdout",
     "output_type": "stream",
     "text": [
      "Done! Trainloss: 0.021465, Test accuracy: 97.4000\n"
     ]
    },
    {
     "name": "stderr",
     "output_type": "stream",
     "text": [
      "Epoch 14...: 100%|█████████████████████████| 40/40 [00:01<00:00, 37.09it/s]\n"
     ]
    },
    {
     "name": "stdout",
     "output_type": "stream",
     "text": [
      "Done! Trainloss: 0.021465, Test accuracy: 99.2500\n"
     ]
    },
    {
     "name": "stderr",
     "output_type": "stream",
     "text": [
      "Epoch 15...: 100%|█████████████████████████| 40/40 [00:01<00:00, 34.89it/s]\n"
     ]
    },
    {
     "name": "stdout",
     "output_type": "stream",
     "text": [
      "Done! Trainloss: 0.021465, Test accuracy: 99.3500\n"
     ]
    },
    {
     "name": "stderr",
     "output_type": "stream",
     "text": [
      "Epoch 16...: 100%|█████████████████████████| 40/40 [00:01<00:00, 21.53it/s]\n"
     ]
    },
    {
     "name": "stdout",
     "output_type": "stream",
     "text": [
      "Done! Trainloss: 0.021465, Test accuracy: 99.7000\n"
     ]
    },
    {
     "name": "stderr",
     "output_type": "stream",
     "text": [
      "Epoch 17...: 100%|█████████████████████████| 40/40 [00:01<00:00, 32.08it/s]\n"
     ]
    },
    {
     "name": "stdout",
     "output_type": "stream",
     "text": [
      "Done! Trainloss: 0.021465, Test accuracy: 99.9000\n"
     ]
    },
    {
     "name": "stderr",
     "output_type": "stream",
     "text": [
      "Epoch 18...: 100%|█████████████████████████| 40/40 [00:01<00:00, 34.22it/s]\n"
     ]
    },
    {
     "name": "stdout",
     "output_type": "stream",
     "text": [
      "Done! Trainloss: 0.021465, Test accuracy: 100.0000\n"
     ]
    },
    {
     "name": "stderr",
     "output_type": "stream",
     "text": [
      "Epoch 19...: 100%|█████████████████████████| 40/40 [00:01<00:00, 34.44it/s]\n"
     ]
    },
    {
     "name": "stdout",
     "output_type": "stream",
     "text": [
      "Done! Trainloss: 0.021465, Test accuracy: 99.9000\n"
     ]
    },
    {
     "name": "stderr",
     "output_type": "stream",
     "text": [
      "Epoch 20...: 100%|█████████████████████████| 40/40 [00:01<00:00, 28.57it/s]\n"
     ]
    },
    {
     "name": "stdout",
     "output_type": "stream",
     "text": [
      "Done! Trainloss: 0.021465, Test accuracy: 100.0000\n",
      "\n",
      "Parametrized RNN done!\n"
     ]
    }
   ],
   "source": [
    "(sinknop, sinkRNN), (sinkp, _) = parametrizevsnot(sink, returnautomat=True)"
   ]
  },
  {
   "cell_type": "code",
   "execution_count": 20,
   "metadata": {
    "metadata": {}
   },
   "outputs": [
    {
     "data": {
      "image/png": "[encoded data removed]",
      "text/plain": [
       "<Figure size 640x480 with 1 Axes>"
      ]
     },
     "metadata": {},
     "output_type": "display_data"
    }
   ],
   "source": [
    "with torch.no_grad():\n",
    "    plt.plot(sinknop, label = \"Without constraints\")\n",
    "    plt.plot(sinkp, \"r\", label=\"With constraints\")\n",
    "    plt.legend()\n",
    "    plt.show()\n",
    "    "
   ]
  },
  {
   "cell_type": "code",
   "execution_count": 21,
   "metadata": {},
   "outputs": [
    {
     "name": "stderr",
     "output_type": "stream",
     "text": [
      "/home/mt-ubu2/Documents/Internship/RNN_autmata/automata.py:325: UserWarning: `max_try` limit reach. Final prop = 0.0002\n",
      "  warn(f\"`max_try` limit reach. Final prop = {sum(labels)/len(labels)}\")\n"
     ]
    },
    {
     "name": "stdout",
     "output_type": "stream",
     "text": [
      "Test accuracy: 98.3000\n"
     ]
    }
   ],
   "source": [
    "sink.probas = \"equal\"\n",
    "\n",
    "sink.dataset(10000, meanlen = 12, max_try = 10000, random_state=690)\n",
    "\n",
    "sinkmoretest = next(iter(DataLoader(TorchData(sink), 10000)))\n",
    "\n",
    "with torch.no_grad():\n",
    "    predictions = sinkRNN.predict(sinkmoretest[0], sinkmoretest[1])\n",
    "    acc = torch.sum(predictions == sinkmoretest[2].reshape(-1), dim=0) * 100 / len(sinkmoretest[2])\n",
    "    print(f\"Test accuracy: {acc:.4f}\")"
   ]
  },
  {
   "cell_type": "markdown",
   "metadata": {},
   "source": [
    "## Fix"
   ]
  },
  {
   "cell_type": "code",
   "execution_count": 26,
   "metadata": {},
   "outputs": [
    {
     "name": "stderr",
     "output_type": "stream",
     "text": [
      "Epoch 1...: 100%|██████████████████████████| 40/40 [00:01<00:00, 34.03it/s]\n"
     ]
    },
    {
     "name": "stdout",
     "output_type": "stream",
     "text": [
      "Done! Trainloss: 0.461476, Test accuracy: 85.0000\n"
     ]
    },
    {
     "name": "stderr",
     "output_type": "stream",
     "text": [
      "Epoch 2...: 100%|██████████████████████████| 40/40 [00:01<00:00, 32.12it/s]\n"
     ]
    },
    {
     "name": "stdout",
     "output_type": "stream",
     "text": [
      "Done! Trainloss: 0.214720, Test accuracy: 92.9500\n"
     ]
    },
    {
     "name": "stderr",
     "output_type": "stream",
     "text": [
      "Epoch 3...: 100%|██████████████████████████| 40/40 [00:01<00:00, 34.88it/s]\n"
     ]
    },
    {
     "name": "stdout",
     "output_type": "stream",
     "text": [
      "Done! Trainloss: 0.129815, Test accuracy: 99.2000\n"
     ]
    },
    {
     "name": "stderr",
     "output_type": "stream",
     "text": [
      "Epoch 4...: 100%|██████████████████████████| 40/40 [00:01<00:00, 32.71it/s]\n"
     ]
    },
    {
     "name": "stdout",
     "output_type": "stream",
     "text": [
      "Done! Trainloss: 0.073918, Test accuracy: 100.0000\n"
     ]
    },
    {
     "name": "stderr",
     "output_type": "stream",
     "text": [
      "Epoch 5...: 100%|██████████████████████████| 40/40 [00:01<00:00, 30.94it/s]\n"
     ]
    },
    {
     "name": "stdout",
     "output_type": "stream",
     "text": [
      "Done! Trainloss: 0.027627, Test accuracy: 100.0000\n"
     ]
    },
    {
     "name": "stderr",
     "output_type": "stream",
     "text": [
      "Epoch 6...: 100%|██████████████████████████| 40/40 [00:01<00:00, 35.28it/s]\n"
     ]
    },
    {
     "name": "stdout",
     "output_type": "stream",
     "text": [
      "Done! Trainloss: 0.012418, Test accuracy: 100.0000\n"
     ]
    },
    {
     "name": "stderr",
     "output_type": "stream",
     "text": [
      "Epoch 7...: 100%|██████████████████████████| 40/40 [00:01<00:00, 33.21it/s]\n"
     ]
    },
    {
     "name": "stdout",
     "output_type": "stream",
     "text": [
      "Done! Trainloss: 0.014078, Test accuracy: 100.0000\n"
     ]
    },
    {
     "name": "stderr",
     "output_type": "stream",
     "text": [
      "Epoch 8...: 100%|██████████████████████████| 40/40 [00:01<00:00, 31.87it/s]\n"
     ]
    },
    {
     "name": "stdout",
     "output_type": "stream",
     "text": [
      "Done! Trainloss: 0.008011, Test accuracy: 100.0000\n"
     ]
    },
    {
     "name": "stderr",
     "output_type": "stream",
     "text": [
      "Epoch 9...: 100%|██████████████████████████| 40/40 [00:01<00:00, 34.84it/s]\n"
     ]
    },
    {
     "name": "stdout",
     "output_type": "stream",
     "text": [
      "Done! Trainloss: 0.006931, Test accuracy: 100.0000\n"
     ]
    },
    {
     "name": "stderr",
     "output_type": "stream",
     "text": [
      "Epoch 10...: 100%|█████████████████████████| 40/40 [00:01<00:00, 35.40it/s]\n"
     ]
    },
    {
     "name": "stdout",
     "output_type": "stream",
     "text": [
      "Done! Trainloss: 0.004999, Test accuracy: 100.0000\n"
     ]
    },
    {
     "name": "stderr",
     "output_type": "stream",
     "text": [
      "Epoch 11...: 100%|█████████████████████████| 40/40 [00:01<00:00, 34.79it/s]\n"
     ]
    },
    {
     "name": "stdout",
     "output_type": "stream",
     "text": [
      "Done! Trainloss: 0.004697, Test accuracy: 100.0000\n"
     ]
    },
    {
     "name": "stderr",
     "output_type": "stream",
     "text": [
      "Epoch 12...: 100%|█████████████████████████| 40/40 [00:01<00:00, 34.77it/s]\n"
     ]
    },
    {
     "name": "stdout",
     "output_type": "stream",
     "text": [
      "Done! Trainloss: 0.004499, Test accuracy: 100.0000\n"
     ]
    },
    {
     "name": "stderr",
     "output_type": "stream",
     "text": [
      "Epoch 13...: 100%|█████████████████████████| 40/40 [00:01<00:00, 31.03it/s]\n"
     ]
    },
    {
     "name": "stdout",
     "output_type": "stream",
     "text": [
      "Done! Trainloss: 0.003876, Test accuracy: 100.0000\n"
     ]
    },
    {
     "name": "stderr",
     "output_type": "stream",
     "text": [
      "Epoch 14...: 100%|█████████████████████████| 40/40 [00:01<00:00, 35.78it/s]\n"
     ]
    },
    {
     "name": "stdout",
     "output_type": "stream",
     "text": [
      "Done! Trainloss: 0.002447, Test accuracy: 100.0000\n"
     ]
    },
    {
     "name": "stderr",
     "output_type": "stream",
     "text": [
      "Epoch 15...: 100%|█████████████████████████| 40/40 [00:01<00:00, 33.98it/s]\n"
     ]
    },
    {
     "name": "stdout",
     "output_type": "stream",
     "text": [
      "Done! Trainloss: 0.002586, Test accuracy: 100.0000\n"
     ]
    },
    {
     "name": "stderr",
     "output_type": "stream",
     "text": [
      "Epoch 16...: 100%|█████████████████████████| 40/40 [00:01<00:00, 32.16it/s]\n"
     ]
    },
    {
     "name": "stdout",
     "output_type": "stream",
     "text": [
      "Done! Trainloss: 0.002048, Test accuracy: 100.0000\n"
     ]
    },
    {
     "name": "stderr",
     "output_type": "stream",
     "text": [
      "Epoch 17...: 100%|█████████████████████████| 40/40 [00:01<00:00, 33.52it/s]\n"
     ]
    },
    {
     "name": "stdout",
     "output_type": "stream",
     "text": [
      "Done! Trainloss: 0.003151, Test accuracy: 100.0000\n"
     ]
    },
    {
     "name": "stderr",
     "output_type": "stream",
     "text": [
      "Epoch 18...: 100%|█████████████████████████| 40/40 [00:01<00:00, 33.66it/s]\n"
     ]
    },
    {
     "name": "stdout",
     "output_type": "stream",
     "text": [
      "Done! Trainloss: 0.001554, Test accuracy: 100.0000\n"
     ]
    },
    {
     "name": "stderr",
     "output_type": "stream",
     "text": [
      "Epoch 19...: 100%|█████████████████████████| 40/40 [00:01<00:00, 35.42it/s]\n"
     ]
    },
    {
     "name": "stdout",
     "output_type": "stream",
     "text": [
      "Done! Trainloss: 0.001881, Test accuracy: 100.0000\n"
     ]
    },
    {
     "name": "stderr",
     "output_type": "stream",
     "text": [
      "Epoch 20...: 100%|█████████████████████████| 40/40 [00:01<00:00, 30.89it/s]\n"
     ]
    },
    {
     "name": "stdout",
     "output_type": "stream",
     "text": [
      "Done! Trainloss: 0.001496, Test accuracy: 100.0000\n",
      "\n",
      "Non parametrized RNN done!\n",
      "\n"
     ]
    },
    {
     "name": "stderr",
     "output_type": "stream",
     "text": [
      "Epoch 1...: 100%|██████████████████████████| 40/40 [00:01<00:00, 34.60it/s]\n"
     ]
    },
    {
     "name": "stdout",
     "output_type": "stream",
     "text": [
      "Done! Trainloss: 0.689057, Test accuracy: 59.7500\n"
     ]
    },
    {
     "name": "stderr",
     "output_type": "stream",
     "text": [
      "Epoch 2...: 100%|██████████████████████████| 40/40 [00:01<00:00, 33.34it/s]\n"
     ]
    },
    {
     "name": "stdout",
     "output_type": "stream",
     "text": [
      "Done! Trainloss: 0.517337, Test accuracy: 75.7500\n"
     ]
    },
    {
     "name": "stderr",
     "output_type": "stream",
     "text": [
      "Epoch 3...: 100%|██████████████████████████| 40/40 [00:01<00:00, 32.47it/s]\n"
     ]
    },
    {
     "name": "stdout",
     "output_type": "stream",
     "text": [
      "Done! Trainloss: 0.259318, Test accuracy: 94.2500\n"
     ]
    },
    {
     "name": "stderr",
     "output_type": "stream",
     "text": [
      "Epoch 4...: 100%|██████████████████████████| 40/40 [00:01<00:00, 30.98it/s]\n"
     ]
    },
    {
     "name": "stdout",
     "output_type": "stream",
     "text": [
      "Done! Trainloss: 0.158872, Test accuracy: 94.9500\n"
     ]
    },
    {
     "name": "stderr",
     "output_type": "stream",
     "text": [
      "Epoch 5...: 100%|██████████████████████████| 40/40 [00:01<00:00, 32.89it/s]\n"
     ]
    },
    {
     "name": "stdout",
     "output_type": "stream",
     "text": [
      "Done! Trainloss: 0.158492, Test accuracy: 96.4000\n"
     ]
    },
    {
     "name": "stderr",
     "output_type": "stream",
     "text": [
      "Epoch 6...: 100%|██████████████████████████| 40/40 [00:01<00:00, 32.44it/s]\n"
     ]
    },
    {
     "name": "stdout",
     "output_type": "stream",
     "text": [
      "Done! Trainloss: 0.120825, Test accuracy: 95.3000\n"
     ]
    },
    {
     "name": "stderr",
     "output_type": "stream",
     "text": [
      "Epoch 7...: 100%|██████████████████████████| 40/40 [00:01<00:00, 30.12it/s]\n"
     ]
    },
    {
     "name": "stdout",
     "output_type": "stream",
     "text": [
      "Done! Trainloss: 0.111034, Test accuracy: 97.4500\n"
     ]
    },
    {
     "name": "stderr",
     "output_type": "stream",
     "text": [
      "Epoch 8...: 100%|██████████████████████████| 40/40 [00:01<00:00, 32.86it/s]\n"
     ]
    },
    {
     "name": "stdout",
     "output_type": "stream",
     "text": [
      "Done! Trainloss: 0.115457, Test accuracy: 97.2000\n"
     ]
    },
    {
     "name": "stderr",
     "output_type": "stream",
     "text": [
      "Epoch 9...: 100%|██████████████████████████| 40/40 [00:01<00:00, 32.39it/s]\n"
     ]
    },
    {
     "name": "stdout",
     "output_type": "stream",
     "text": [
      "Done! Trainloss: 0.056206, Test accuracy: 97.9500\n"
     ]
    },
    {
     "name": "stderr",
     "output_type": "stream",
     "text": [
      "Epoch 10...: 100%|█████████████████████████| 40/40 [00:01<00:00, 35.12it/s]\n"
     ]
    },
    {
     "name": "stdout",
     "output_type": "stream",
     "text": [
      "Done! Trainloss: 0.064984, Test accuracy: 98.6500\n"
     ]
    },
    {
     "name": "stderr",
     "output_type": "stream",
     "text": [
      "Epoch 11...: 100%|█████████████████████████| 40/40 [00:01<00:00, 28.56it/s]\n"
     ]
    },
    {
     "name": "stdout",
     "output_type": "stream",
     "text": [
      "Done! Trainloss: 0.059156, Test accuracy: 99.1000\n"
     ]
    },
    {
     "name": "stderr",
     "output_type": "stream",
     "text": [
      "Epoch 12...: 100%|█████████████████████████| 40/40 [00:01<00:00, 33.16it/s]\n"
     ]
    },
    {
     "name": "stdout",
     "output_type": "stream",
     "text": [
      "Done! Trainloss: 0.033045, Test accuracy: 99.4500\n"
     ]
    },
    {
     "name": "stderr",
     "output_type": "stream",
     "text": [
      "Epoch 13...: 100%|█████████████████████████| 40/40 [00:01<00:00, 30.52it/s]\n"
     ]
    },
    {
     "name": "stdout",
     "output_type": "stream",
     "text": [
      "Done! Trainloss: 0.017911, Test accuracy: 99.8000\n"
     ]
    },
    {
     "name": "stderr",
     "output_type": "stream",
     "text": [
      "Epoch 14...: 100%|█████████████████████████| 40/40 [00:01<00:00, 25.83it/s]\n"
     ]
    },
    {
     "name": "stdout",
     "output_type": "stream",
     "text": [
      "Done! Trainloss: 0.039887, Test accuracy: 99.7000\n"
     ]
    },
    {
     "name": "stderr",
     "output_type": "stream",
     "text": [
      "Epoch 15...: 100%|█████████████████████████| 40/40 [00:01<00:00, 33.81it/s]\n"
     ]
    },
    {
     "name": "stdout",
     "output_type": "stream",
     "text": [
      "Done! Trainloss: 0.020275, Test accuracy: 99.9000\n"
     ]
    },
    {
     "name": "stderr",
     "output_type": "stream",
     "text": [
      "Epoch 16...: 100%|█████████████████████████| 40/40 [00:01<00:00, 30.40it/s]\n"
     ]
    },
    {
     "name": "stdout",
     "output_type": "stream",
     "text": [
      "Done! Trainloss: 0.011266, Test accuracy: 99.8000\n"
     ]
    },
    {
     "name": "stderr",
     "output_type": "stream",
     "text": [
      "Epoch 17...: 100%|█████████████████████████| 40/40 [00:01<00:00, 33.65it/s]\n"
     ]
    },
    {
     "name": "stdout",
     "output_type": "stream",
     "text": [
      "Done! Trainloss: 0.007725, Test accuracy: 99.9000\n"
     ]
    },
    {
     "name": "stderr",
     "output_type": "stream",
     "text": [
      "Epoch 18...: 100%|█████████████████████████| 40/40 [00:01<00:00, 33.76it/s]\n"
     ]
    },
    {
     "name": "stdout",
     "output_type": "stream",
     "text": [
      "Done! Trainloss: 0.009491, Test accuracy: 99.9000\n"
     ]
    },
    {
     "name": "stderr",
     "output_type": "stream",
     "text": [
      "Epoch 19...: 100%|█████████████████████████| 40/40 [00:01<00:00, 27.65it/s]\n"
     ]
    },
    {
     "name": "stdout",
     "output_type": "stream",
     "text": [
      "Done! Trainloss: 0.006652, Test accuracy: 99.9000\n"
     ]
    },
    {
     "name": "stderr",
     "output_type": "stream",
     "text": [
      "Epoch 20...: 100%|█████████████████████████| 40/40 [00:01<00:00, 26.14it/s]\n"
     ]
    },
    {
     "name": "stdout",
     "output_type": "stream",
     "text": [
      "Done! Trainloss: 0.005516, Test accuracy: 99.9000\n",
      "\n",
      "Parametrized RNN done!\n"
     ]
    }
   ],
   "source": [
    "fixnop, fixp = parametrizevsnot(fix)"
   ]
  },
  {
   "cell_type": "code",
   "execution_count": 27,
   "metadata": {},
   "outputs": [
    {
     "data": {
      "image/png": "[encoded data removed]",
      "text/plain": [
       "<Figure size 640x480 with 1 Axes>"
      ]
     },
     "metadata": {},
     "output_type": "display_data"
    }
   ],
   "source": [
    "with torch.no_grad():\n",
    "    plt.plot(fixnop, label = \"Without constraints\")\n",
    "    plt.plot(fixp, \"r\", label=\"With constraints\")\n",
    "    plt.legend()\n",
    "    plt.show()\n",
    "    "
   ]
  },
  {
   "cell_type": "markdown",
   "metadata": {},
   "source": [
    "## Unique"
   ]
  },
  {
   "cell_type": "code",
   "execution_count": 28,
   "metadata": {},
   "outputs": [
    {
     "name": "stderr",
     "output_type": "stream",
     "text": [
      "Epoch 1...: 100%|██████████████████████████| 40/40 [00:01<00:00, 29.38it/s]\n"
     ]
    },
    {
     "name": "stdout",
     "output_type": "stream",
     "text": [
      "Done! Trainloss: 0.692302, Test accuracy: 55.4000\n"
     ]
    },
    {
     "name": "stderr",
     "output_type": "stream",
     "text": [
      "Epoch 2...: 100%|██████████████████████████| 40/40 [00:01<00:00, 28.06it/s]\n"
     ]
    },
    {
     "name": "stdout",
     "output_type": "stream",
     "text": [
      "Done! Trainloss: 0.694669, Test accuracy: 45.2500\n"
     ]
    },
    {
     "name": "stderr",
     "output_type": "stream",
     "text": [
      "Epoch 3...: 100%|██████████████████████████| 40/40 [00:01<00:00, 30.65it/s]\n"
     ]
    },
    {
     "name": "stdout",
     "output_type": "stream",
     "text": [
      "Done! Trainloss: 0.693985, Test accuracy: 43.7000\n"
     ]
    },
    {
     "name": "stderr",
     "output_type": "stream",
     "text": [
      "Epoch 4...: 100%|██████████████████████████| 40/40 [00:01<00:00, 29.94it/s]\n"
     ]
    },
    {
     "name": "stdout",
     "output_type": "stream",
     "text": [
      "Done! Trainloss: 0.692724, Test accuracy: 47.6000\n"
     ]
    },
    {
     "name": "stderr",
     "output_type": "stream",
     "text": [
      "Epoch 5...: 100%|██████████████████████████| 40/40 [00:01<00:00, 27.59it/s]\n"
     ]
    },
    {
     "name": "stdout",
     "output_type": "stream",
     "text": [
      "Done! Trainloss: 0.696047, Test accuracy: 45.6500\n"
     ]
    },
    {
     "name": "stderr",
     "output_type": "stream",
     "text": [
      "Epoch 6...: 100%|██████████████████████████| 40/40 [00:01<00:00, 28.59it/s]\n"
     ]
    },
    {
     "name": "stdout",
     "output_type": "stream",
     "text": [
      "Done! Trainloss: 0.685879, Test accuracy: 48.8000\n"
     ]
    },
    {
     "name": "stderr",
     "output_type": "stream",
     "text": [
      "Epoch 7...: 100%|██████████████████████████| 40/40 [00:01<00:00, 27.94it/s]\n"
     ]
    },
    {
     "name": "stdout",
     "output_type": "stream",
     "text": [
      "Done! Trainloss: 0.542805, Test accuracy: 73.5500\n"
     ]
    },
    {
     "name": "stderr",
     "output_type": "stream",
     "text": [
      "Epoch 8...: 100%|██████████████████████████| 40/40 [00:01<00:00, 28.00it/s]\n"
     ]
    },
    {
     "name": "stdout",
     "output_type": "stream",
     "text": [
      "Done! Trainloss: 0.483421, Test accuracy: 78.7500\n"
     ]
    },
    {
     "name": "stderr",
     "output_type": "stream",
     "text": [
      "Epoch 9...: 100%|██████████████████████████| 40/40 [00:01<00:00, 25.52it/s]\n"
     ]
    },
    {
     "name": "stdout",
     "output_type": "stream",
     "text": [
      "Done! Trainloss: 0.431667, Test accuracy: 78.4000\n"
     ]
    },
    {
     "name": "stderr",
     "output_type": "stream",
     "text": [
      "Epoch 10...: 100%|█████████████████████████| 40/40 [00:01<00:00, 27.82it/s]\n"
     ]
    },
    {
     "name": "stdout",
     "output_type": "stream",
     "text": [
      "Done! Trainloss: 0.345195, Test accuracy: 90.6500\n"
     ]
    },
    {
     "name": "stderr",
     "output_type": "stream",
     "text": [
      "Epoch 11...: 100%|█████████████████████████| 40/40 [00:01<00:00, 30.60it/s]\n"
     ]
    },
    {
     "name": "stdout",
     "output_type": "stream",
     "text": [
      "Done! Trainloss: 0.308816, Test accuracy: 91.8000\n"
     ]
    },
    {
     "name": "stderr",
     "output_type": "stream",
     "text": [
      "Epoch 12...: 100%|█████████████████████████| 40/40 [00:01<00:00, 29.72it/s]\n"
     ]
    },
    {
     "name": "stdout",
     "output_type": "stream",
     "text": [
      "Done! Trainloss: 0.200303, Test accuracy: 92.1000\n"
     ]
    },
    {
     "name": "stderr",
     "output_type": "stream",
     "text": [
      "Epoch 13...: 100%|█████████████████████████| 40/40 [00:01<00:00, 27.95it/s]\n"
     ]
    },
    {
     "name": "stdout",
     "output_type": "stream",
     "text": [
      "Done! Trainloss: 0.212477, Test accuracy: 93.1000\n"
     ]
    },
    {
     "name": "stderr",
     "output_type": "stream",
     "text": [
      "Epoch 14...: 100%|█████████████████████████| 40/40 [00:01<00:00, 30.77it/s]\n"
     ]
    },
    {
     "name": "stdout",
     "output_type": "stream",
     "text": [
      "Done! Trainloss: 0.202708, Test accuracy: 93.6000\n"
     ]
    },
    {
     "name": "stderr",
     "output_type": "stream",
     "text": [
      "Epoch 15...: 100%|█████████████████████████| 40/40 [00:01<00:00, 24.55it/s]\n"
     ]
    },
    {
     "name": "stdout",
     "output_type": "stream",
     "text": [
      "Done! Trainloss: 0.156117, Test accuracy: 94.0000\n"
     ]
    },
    {
     "name": "stderr",
     "output_type": "stream",
     "text": [
      "Epoch 16...: 100%|█████████████████████████| 40/40 [00:01<00:00, 24.78it/s]\n"
     ]
    },
    {
     "name": "stdout",
     "output_type": "stream",
     "text": [
      "Done! Trainloss: 0.166886, Test accuracy: 93.7500\n"
     ]
    },
    {
     "name": "stderr",
     "output_type": "stream",
     "text": [
      "Epoch 17...: 100%|█████████████████████████| 40/40 [00:01<00:00, 30.10it/s]\n"
     ]
    },
    {
     "name": "stdout",
     "output_type": "stream",
     "text": [
      "Done! Trainloss: 0.148625, Test accuracy: 94.2000\n"
     ]
    },
    {
     "name": "stderr",
     "output_type": "stream",
     "text": [
      "Epoch 18...: 100%|█████████████████████████| 40/40 [00:01<00:00, 26.15it/s]\n"
     ]
    },
    {
     "name": "stdout",
     "output_type": "stream",
     "text": [
      "Done! Trainloss: 0.149871, Test accuracy: 94.6500\n"
     ]
    },
    {
     "name": "stderr",
     "output_type": "stream",
     "text": [
      "Epoch 19...: 100%|█████████████████████████| 40/40 [00:01<00:00, 28.52it/s]\n"
     ]
    },
    {
     "name": "stdout",
     "output_type": "stream",
     "text": [
      "Done! Trainloss: 0.125958, Test accuracy: 94.9500\n"
     ]
    },
    {
     "name": "stderr",
     "output_type": "stream",
     "text": [
      "Epoch 20...: 100%|█████████████████████████| 40/40 [00:01<00:00, 27.61it/s]\n"
     ]
    },
    {
     "name": "stdout",
     "output_type": "stream",
     "text": [
      "Done! Trainloss: 0.122947, Test accuracy: 95.1000\n",
      "\n",
      "Non parametrized RNN done!\n",
      "\n"
     ]
    },
    {
     "name": "stderr",
     "output_type": "stream",
     "text": [
      "Epoch 1...: 100%|██████████████████████████| 40/40 [00:02<00:00, 19.41it/s]\n"
     ]
    },
    {
     "name": "stdout",
     "output_type": "stream",
     "text": [
      "Done! Trainloss: 0.692298, Test accuracy: 50.4000\n"
     ]
    },
    {
     "name": "stderr",
     "output_type": "stream",
     "text": [
      "Epoch 2...: 100%|██████████████████████████| 40/40 [00:01<00:00, 30.19it/s]\n"
     ]
    },
    {
     "name": "stdout",
     "output_type": "stream",
     "text": [
      "Done! Trainloss: 0.667874, Test accuracy: 58.6500\n"
     ]
    },
    {
     "name": "stderr",
     "output_type": "stream",
     "text": [
      "Epoch 3...: 100%|██████████████████████████| 40/40 [00:01<00:00, 29.81it/s]\n"
     ]
    },
    {
     "name": "stdout",
     "output_type": "stream",
     "text": [
      "Done! Trainloss: 0.620869, Test accuracy: 61.7000\n"
     ]
    },
    {
     "name": "stderr",
     "output_type": "stream",
     "text": [
      "Epoch 4...: 100%|██████████████████████████| 40/40 [00:01<00:00, 26.24it/s]\n"
     ]
    },
    {
     "name": "stdout",
     "output_type": "stream",
     "text": [
      "Done! Trainloss: 0.451569, Test accuracy: 71.6000\n"
     ]
    },
    {
     "name": "stderr",
     "output_type": "stream",
     "text": [
      "Epoch 5...: 100%|██████████████████████████| 40/40 [00:01<00:00, 29.72it/s]\n"
     ]
    },
    {
     "name": "stdout",
     "output_type": "stream",
     "text": [
      "Done! Trainloss: 0.334467, Test accuracy: 84.5000\n"
     ]
    },
    {
     "name": "stderr",
     "output_type": "stream",
     "text": [
      "Epoch 6...: 100%|██████████████████████████| 40/40 [00:01<00:00, 29.11it/s]\n"
     ]
    },
    {
     "name": "stdout",
     "output_type": "stream",
     "text": [
      "Done! Trainloss: 0.263616, Test accuracy: 83.9000\n"
     ]
    },
    {
     "name": "stderr",
     "output_type": "stream",
     "text": [
      "Epoch 7...: 100%|██████████████████████████| 40/40 [00:01<00:00, 28.00it/s]\n"
     ]
    },
    {
     "name": "stdout",
     "output_type": "stream",
     "text": [
      "Done! Trainloss: 0.207419, Test accuracy: 84.2000\n"
     ]
    },
    {
     "name": "stderr",
     "output_type": "stream",
     "text": [
      "Epoch 8...: 100%|██████████████████████████| 40/40 [00:01<00:00, 26.96it/s]\n"
     ]
    },
    {
     "name": "stdout",
     "output_type": "stream",
     "text": [
      "Done! Trainloss: 0.232390, Test accuracy: 95.9500\n"
     ]
    },
    {
     "name": "stderr",
     "output_type": "stream",
     "text": [
      "Epoch 9...: 100%|██████████████████████████| 40/40 [00:01<00:00, 29.55it/s]\n"
     ]
    },
    {
     "name": "stdout",
     "output_type": "stream",
     "text": [
      "Done! Trainloss: 0.159696, Test accuracy: 96.4000\n"
     ]
    },
    {
     "name": "stderr",
     "output_type": "stream",
     "text": [
      "Epoch 10...: 100%|█████████████████████████| 40/40 [00:01<00:00, 28.34it/s]\n"
     ]
    },
    {
     "name": "stdout",
     "output_type": "stream",
     "text": [
      "Done! Trainloss: 0.146829, Test accuracy: 96.2000\n"
     ]
    },
    {
     "name": "stderr",
     "output_type": "stream",
     "text": [
      "Epoch 11...: 100%|█████████████████████████| 40/40 [00:01<00:00, 26.79it/s]\n"
     ]
    },
    {
     "name": "stdout",
     "output_type": "stream",
     "text": [
      "Done! Trainloss: 0.172944, Test accuracy: 97.2000\n"
     ]
    },
    {
     "name": "stderr",
     "output_type": "stream",
     "text": [
      "Epoch 12...: 100%|█████████████████████████| 40/40 [00:01<00:00, 29.70it/s]\n"
     ]
    },
    {
     "name": "stdout",
     "output_type": "stream",
     "text": [
      "Done! Trainloss: 0.185170, Test accuracy: 94.2000\n"
     ]
    },
    {
     "name": "stderr",
     "output_type": "stream",
     "text": [
      "Epoch 13...: 100%|█████████████████████████| 40/40 [00:01<00:00, 26.70it/s]\n"
     ]
    },
    {
     "name": "stdout",
     "output_type": "stream",
     "text": [
      "Done! Trainloss: 0.680825, Test accuracy: 82.9500\n"
     ]
    },
    {
     "name": "stderr",
     "output_type": "stream",
     "text": [
      "Epoch 14...: 100%|█████████████████████████| 40/40 [00:01<00:00, 30.12it/s]\n"
     ]
    },
    {
     "name": "stdout",
     "output_type": "stream",
     "text": [
      "Done! Trainloss: 0.404837, Test accuracy: 87.1000\n"
     ]
    },
    {
     "name": "stderr",
     "output_type": "stream",
     "text": [
      "Epoch 15...: 100%|█████████████████████████| 40/40 [00:01<00:00, 30.28it/s]\n"
     ]
    },
    {
     "name": "stdout",
     "output_type": "stream",
     "text": [
      "Done! Trainloss: 0.370903, Test accuracy: 90.2000\n"
     ]
    },
    {
     "name": "stderr",
     "output_type": "stream",
     "text": [
      "Epoch 16...: 100%|█████████████████████████| 40/40 [00:01<00:00, 24.67it/s]\n"
     ]
    },
    {
     "name": "stdout",
     "output_type": "stream",
     "text": [
      "Done! Trainloss: 0.333264, Test accuracy: 91.8500\n"
     ]
    },
    {
     "name": "stderr",
     "output_type": "stream",
     "text": [
      "Epoch 17...: 100%|█████████████████████████| 40/40 [00:01<00:00, 26.24it/s]\n"
     ]
    },
    {
     "name": "stdout",
     "output_type": "stream",
     "text": [
      "Done! Trainloss: 0.262888, Test accuracy: 92.9000\n"
     ]
    },
    {
     "name": "stderr",
     "output_type": "stream",
     "text": [
      "Epoch 18...: 100%|█████████████████████████| 40/40 [00:01<00:00, 29.76it/s]\n"
     ]
    },
    {
     "name": "stdout",
     "output_type": "stream",
     "text": [
      "Done! Trainloss: 0.235336, Test accuracy: 94.0500\n"
     ]
    },
    {
     "name": "stderr",
     "output_type": "stream",
     "text": [
      "Epoch 19...: 100%|█████████████████████████| 40/40 [00:01<00:00, 26.01it/s]\n"
     ]
    },
    {
     "name": "stdout",
     "output_type": "stream",
     "text": [
      "Done! Trainloss: 0.198701, Test accuracy: 94.6500\n"
     ]
    },
    {
     "name": "stderr",
     "output_type": "stream",
     "text": [
      "Epoch 20...: 100%|█████████████████████████| 40/40 [00:01<00:00, 29.17it/s]\n"
     ]
    },
    {
     "name": "stdout",
     "output_type": "stream",
     "text": [
      "Done! Trainloss: 0.210070, Test accuracy: 95.0500\n",
      "\n",
      "Parametrized RNN done!\n"
     ]
    }
   ],
   "source": [
    "uniquenop, uniquep = parametrizevsnot(unique)"
   ]
  },
  {
   "cell_type": "code",
   "execution_count": 29,
   "metadata": {},
   "outputs": [
    {
     "data": {
      "image/png": "[encoded data removed]",
      "text/plain": [
       "<Figure size 640x480 with 1 Axes>"
      ]
     },
     "metadata": {},
     "output_type": "display_data"
    }
   ],
   "source": [
    "with torch.no_grad():\n",
    "    plt.plot(uniquenop, label = \"Without constraints\")\n",
    "    plt.plot(uniquep, \"r\", label=\"With constraints\")\n",
    "    plt.legend()\n",
    "    plt.show()\n",
    "    "
   ]
  }
 ],
 "metadata": {
  "kernelspec": {
   "display_name": "Python 3",
   "language": "python",
   "name": "python3"
  },
  "language_info": {
   "codemirror_mode": {
    "name": "ipython",
    "version": 3
   },
   "file_extension": ".py",
   "mimetype": "text/x-python",
   "name": "python",
   "nbconvert_exporter": "python",
   "pygments_lexer": "ipython3",
   "version": "3.10.12"
  }
 },
 "nbformat": 4,
 "nbformat_minor": 2
}
