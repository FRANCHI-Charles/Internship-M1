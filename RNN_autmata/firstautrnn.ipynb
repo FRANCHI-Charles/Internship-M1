{
 "cells": [
  {
   "cell_type": "code",
   "execution_count": 1,
   "metadata": {
    "metadata": {}
   },
   "outputs": [],
   "source": [
    "import matplotlib.pyplot as plt\n",
    "import torch\n",
    "import torch.nn as nn\n",
    "from torch.utils.data import DataLoader, random_split\n",
    "import torch.nn.utils.parametrize as parametrize\n",
    "from tqdm import tqdm"
   ]
  },
  {
   "cell_type": "markdown",
   "metadata": {},
   "source": [
    "## Hyperparameters"
   ]
  },
  {
   "cell_type": "code",
   "execution_count": 2,
   "metadata": {
    "metadata": {}
   },
   "outputs": [],
   "source": [
    "BATCH_SIZE = 200\n",
    "\n",
    "TEST_SIZE = 0.2\n",
    "\n",
    "N_EPOCH = 20\n",
    "LEARNING_RATES = 0.001\n",
    "\n",
    "torch.manual_seed(689)\n",
    "#device = torch.device(\"cuda\" if torch.cuda.is_available() else \"cpu\")\n",
    "device = torch.device(\"cpu\")"
   ]
  },
  {
   "cell_type": "markdown",
   "metadata": {},
   "source": [
    "## Dataset preparations"
   ]
  },
  {
   "cell_type": "code",
   "execution_count": 3,
   "metadata": {
    "metadata": {}
   },
   "outputs": [
    {
     "name": "stdout",
     "output_type": "stream",
     "text": [
      "Generate dataset 'even'...\n",
      "Done! in 7.6128 sec\n",
      "Generate dataset 'sink'...\n",
      "Done! in 49.6354 sec\n",
      "Generate 'fix'...\n",
      "Done! in 4.2903 sec\n",
      "Generate 'unique'...\n",
      "Done! in 3.9331 sec\n"
     ]
    }
   ],
   "source": [
    "from automata import *\n",
    "from datas import even, sink, fix, unique"
   ]
  },
  {
   "cell_type": "code",
   "execution_count": 4,
   "metadata": {
    "metadata": {}
   },
   "outputs": [],
   "source": [
    "def makeloader(automaton:DFA):\n",
    "    train, test = random_split(TorchData(automaton), [1-TEST_SIZE, TEST_SIZE])\n",
    "\n",
    "    train = DataLoader(train, BATCH_SIZE, shuffle=True)\n",
    "    test = next(iter(DataLoader(test, len(test))))\n",
    "\n",
    "    return train, test\n",
    "    \n",
    "\n",
    "evenloader, testeven = makeloader(even)\n",
    "\n",
    "sinkloader, testsink = makeloader(sink)"
   ]
  },
  {
   "cell_type": "code",
   "execution_count": 5,
   "metadata": {},
   "outputs": [
    {
     "data": {
      "text/plain": [
       "tensor(0.5040)"
      ]
     },
     "execution_count": 5,
     "metadata": {},
     "output_type": "execute_result"
    }
   ],
   "source": [
    "torch.sum(testsink[2])/len(testsink[2])"
   ]
  },
  {
   "cell_type": "markdown",
   "metadata": {},
   "source": [
    "## RNN training"
   ]
  },
  {
   "cell_type": "code",
   "execution_count": 6,
   "metadata": {
    "metadata": {}
   },
   "outputs": [],
   "source": [
    "class AutomataRNN(nn.Module):\n",
    "\n",
    "    def __init__(self, automaton:DFA) -> None:\n",
    "        super().__init__()\n",
    "        self.automaton = automaton\n",
    "        self.transshape = automaton.transition.shape\n",
    "        self.hidden_size = self.transshape[0]*self.transshape[1]\n",
    "\n",
    "        self.rnn = nn.RNN(self.transshape[1], self.hidden_size, num_layers=1, batch_first=True, device=device, bias=False)\n",
    "        self.toclass = nn.Linear(self.hidden_size, 2, device=device, bias=False)\n",
    "\n",
    "    def absinit(self):\n",
    "        \"Force the sign of the initial parameters to be in the desired shape.\"\n",
    "        parameters = {\"rnn.weight_ih_l0\" : abs(self.state_dict()[\"rnn.weight_ih_l0\"]),\n",
    "                      \"rnn.weight_hh_l0\" : -abs(self.state_dict()[\"rnn.weight_hh_l0\"]),\n",
    "                      \"toclass.weight\" :  abs(self.state_dict()[\"toclass.weight\"])}\n",
    "        \n",
    "        self.load_state_dict(parameters)    \n",
    "\n",
    "    def forward(self, x, truelen):\n",
    "        \"`truelen` is a list of the real length of the sequence : that way we can recover the good prediction along the rnn\"\n",
    "        h0 = torch.zeros(1, x.shape[0], self.hidden_size).to(device)\n",
    "        h0[:,:,0] = 1\n",
    "        out, _ = self.rnn(x.to(device), h0)\n",
    "        out = torch.stack([out[i, truelen[i] -1, :] for i in range(out.shape[0])]) #extract only the require prediction y for each batch\n",
    "        return self.toclass(out)\n",
    "        \n",
    "    def predict(self, x, truelen):\n",
    "        return torch.argmax(self(x, truelen), dim = 1)\n",
    "    \n",
    "    def strpredict(self, word:str):\n",
    "        tensor = torch.tensor(self.automaton.word_to_matrix(word))\n",
    "        return "
   ]
  },
  {
   "cell_type": "code",
   "execution_count": 7,
   "metadata": {},
   "outputs": [],
   "source": [
    "class HiddentoHidden(nn.Module):\n",
    "    def __init__(self, RNN) -> None:\n",
    "        super().__init__()\n",
    "        self.transshape = RNN.transshape\n",
    "        self.hidden_size = RNN.hidden_size\n",
    "\n",
    "    def forward(self, X):\n",
    "        cat = [X[:,i].reshape(-1,1).expand(-1, self.transshape[1])  for i in range(0, self.hidden_size, self.transshape[1])]\n",
    "        return torch.cat(cat, dim=1)\n",
    "        \n",
    "\n",
    "class ParametrizeRNN(AutomataRNN):\n",
    "    \"\"\"\n",
    "    RNN with parameters with the constraints find by volodimir for automata.\n",
    "    \"\"\"\n",
    "    def __init__(self, automaton: DFA) -> None:\n",
    "        super().__init__(automaton)\n",
    "        statedict = self.state_dict()\n",
    "        weight_hh = torch.zeros(*statedict[\"rnn.weight_hh_l0\"].shape)\n",
    "        for i in range(0, self.hidden_size, self.transshape[1]):\n",
    "            weight_hh[:,i] = statedict[\"rnn.weight_hh_l0\"][:,i]\n",
    "            statedict[\"rnn.weight_ih_l0\"][i:i+self.transshape[1]] = 2*torch.eye(self.transshape[1])\n",
    "        self.load_state_dict(statedict)\n",
    "        self.rnn.all_weights[0][0].requires_grad_(False) # turn off the optimization along weight_ih\n",
    "\n",
    "        parametrize.register_parametrization(self.rnn, \"weight_hh_l0\", HiddentoHidden(self))"
   ]
  },
  {
   "cell_type": "markdown",
   "metadata": {},
   "source": [
    "### Even"
   ]
  },
  {
   "cell_type": "code",
   "execution_count": 18,
   "metadata": {
    "metadata": {}
   },
   "outputs": [
    {
     "name": "stderr",
     "output_type": "stream",
     "text": [
      "Epoch 1...: 100%|██████████████████████████| 40/40 [00:00<00:00, 40.79it/s]\n"
     ]
    },
    {
     "name": "stdout",
     "output_type": "stream",
     "text": [
      "Done! Trainloss: 0.691986, Test accuracy: 50.4500\n"
     ]
    },
    {
     "name": "stderr",
     "output_type": "stream",
     "text": [
      "Epoch 2...: 100%|██████████████████████████| 40/40 [00:00<00:00, 42.95it/s]\n"
     ]
    },
    {
     "name": "stdout",
     "output_type": "stream",
     "text": [
      "Done! Trainloss: 0.695615, Test accuracy: 50.1500\n"
     ]
    },
    {
     "name": "stderr",
     "output_type": "stream",
     "text": [
      "Epoch 3...: 100%|██████████████████████████| 40/40 [00:00<00:00, 48.47it/s]\n"
     ]
    },
    {
     "name": "stdout",
     "output_type": "stream",
     "text": [
      "Done! Trainloss: 0.695815, Test accuracy: 49.6500\n"
     ]
    },
    {
     "name": "stderr",
     "output_type": "stream",
     "text": [
      "Epoch 4...: 100%|██████████████████████████| 40/40 [00:00<00:00, 48.81it/s]\n"
     ]
    },
    {
     "name": "stdout",
     "output_type": "stream",
     "text": [
      "Done! Trainloss: 0.694211, Test accuracy: 49.0500\n"
     ]
    },
    {
     "name": "stderr",
     "output_type": "stream",
     "text": [
      "Epoch 5...: 100%|██████████████████████████| 40/40 [00:00<00:00, 48.02it/s]\n"
     ]
    },
    {
     "name": "stdout",
     "output_type": "stream",
     "text": [
      "Done! Trainloss: 0.694791, Test accuracy: 48.7000\n"
     ]
    },
    {
     "name": "stderr",
     "output_type": "stream",
     "text": [
      "Epoch 6...: 100%|██████████████████████████| 40/40 [00:00<00:00, 44.59it/s]\n"
     ]
    },
    {
     "name": "stdout",
     "output_type": "stream",
     "text": [
      "Done! Trainloss: 0.694179, Test accuracy: 49.7000\n"
     ]
    },
    {
     "name": "stderr",
     "output_type": "stream",
     "text": [
      "Epoch 7...: 100%|██████████████████████████| 40/40 [00:00<00:00, 48.00it/s]\n"
     ]
    },
    {
     "name": "stdout",
     "output_type": "stream",
     "text": [
      "Done! Trainloss: 0.692402, Test accuracy: 49.4500\n"
     ]
    },
    {
     "name": "stderr",
     "output_type": "stream",
     "text": [
      "Epoch 8...: 100%|██████████████████████████| 40/40 [00:00<00:00, 48.30it/s]\n"
     ]
    },
    {
     "name": "stdout",
     "output_type": "stream",
     "text": [
      "Done! Trainloss: 0.692127, Test accuracy: 49.9000\n"
     ]
    },
    {
     "name": "stderr",
     "output_type": "stream",
     "text": [
      "Epoch 9...: 100%|██████████████████████████| 40/40 [00:00<00:00, 48.26it/s]\n"
     ]
    },
    {
     "name": "stdout",
     "output_type": "stream",
     "text": [
      "Done! Trainloss: 0.692854, Test accuracy: 50.4500\n"
     ]
    },
    {
     "name": "stderr",
     "output_type": "stream",
     "text": [
      "Epoch 10...: 100%|█████████████████████████| 40/40 [00:00<00:00, 48.63it/s]\n"
     ]
    },
    {
     "name": "stdout",
     "output_type": "stream",
     "text": [
      "Done! Trainloss: 0.693587, Test accuracy: 49.0000\n"
     ]
    },
    {
     "name": "stderr",
     "output_type": "stream",
     "text": [
      "Epoch 11...: 100%|█████████████████████████| 40/40 [00:00<00:00, 46.74it/s]\n"
     ]
    },
    {
     "name": "stdout",
     "output_type": "stream",
     "text": [
      "Done! Trainloss: 0.691946, Test accuracy: 49.1500\n"
     ]
    },
    {
     "name": "stderr",
     "output_type": "stream",
     "text": [
      "Epoch 12...: 100%|█████████████████████████| 40/40 [00:00<00:00, 42.64it/s]\n"
     ]
    },
    {
     "name": "stdout",
     "output_type": "stream",
     "text": [
      "Done! Trainloss: 0.693271, Test accuracy: 48.9500\n"
     ]
    },
    {
     "name": "stderr",
     "output_type": "stream",
     "text": [
      "Epoch 13...: 100%|█████████████████████████| 40/40 [00:00<00:00, 48.43it/s]\n"
     ]
    },
    {
     "name": "stdout",
     "output_type": "stream",
     "text": [
      "Done! Trainloss: 0.693273, Test accuracy: 48.6500\n"
     ]
    },
    {
     "name": "stderr",
     "output_type": "stream",
     "text": [
      "Epoch 14...: 100%|█████████████████████████| 40/40 [00:00<00:00, 48.25it/s]\n"
     ]
    },
    {
     "name": "stdout",
     "output_type": "stream",
     "text": [
      "Done! Trainloss: 0.693651, Test accuracy: 50.3000\n"
     ]
    },
    {
     "name": "stderr",
     "output_type": "stream",
     "text": [
      "Epoch 15...: 100%|█████████████████████████| 40/40 [00:00<00:00, 45.43it/s]\n"
     ]
    },
    {
     "name": "stdout",
     "output_type": "stream",
     "text": [
      "Done! Trainloss: 0.693411, Test accuracy: 48.8500\n"
     ]
    },
    {
     "name": "stderr",
     "output_type": "stream",
     "text": [
      "Epoch 16...: 100%|█████████████████████████| 40/40 [00:00<00:00, 48.58it/s]\n"
     ]
    },
    {
     "name": "stdout",
     "output_type": "stream",
     "text": [
      "Done! Trainloss: 0.692679, Test accuracy: 48.7000\n"
     ]
    },
    {
     "name": "stderr",
     "output_type": "stream",
     "text": [
      "Epoch 17...: 100%|█████████████████████████| 40/40 [00:00<00:00, 48.77it/s]\n"
     ]
    },
    {
     "name": "stdout",
     "output_type": "stream",
     "text": [
      "Done! Trainloss: 0.692495, Test accuracy: 48.7000\n"
     ]
    },
    {
     "name": "stderr",
     "output_type": "stream",
     "text": [
      "Epoch 18...: 100%|█████████████████████████| 40/40 [00:00<00:00, 48.46it/s]\n"
     ]
    },
    {
     "name": "stdout",
     "output_type": "stream",
     "text": [
      "Done! Trainloss: 0.693138, Test accuracy: 48.7000\n"
     ]
    },
    {
     "name": "stderr",
     "output_type": "stream",
     "text": [
      "Epoch 19...: 100%|█████████████████████████| 40/40 [00:00<00:00, 48.92it/s]\n"
     ]
    },
    {
     "name": "stdout",
     "output_type": "stream",
     "text": [
      "Done! Trainloss: 0.692804, Test accuracy: 48.9000\n"
     ]
    },
    {
     "name": "stderr",
     "output_type": "stream",
     "text": [
      "Epoch 20...: 100%|█████████████████████████| 40/40 [00:00<00:00, 47.69it/s]\n"
     ]
    },
    {
     "name": "stdout",
     "output_type": "stream",
     "text": [
      "Done! Trainloss: 0.694861, Test accuracy: 49.6000\n"
     ]
    }
   ],
   "source": [
    "evenRNN = AutomataRNN(even).to(device)\n",
    "\n",
    "loss = nn.CrossEntropyLoss()\n",
    "optim = torch.optim.Adam(evenRNN.parameters(), lr=LEARNING_RATES)\n",
    "\n",
    "losslist = list()\n",
    "\n",
    "for epoch in range(N_EPOCH):\n",
    "    trainer = iter(evenloader)\n",
    "    for _ in tqdm(range(len(evenloader)), desc=f\"Epoch {epoch+1}...\", ncols=75):\n",
    "        words, lengths, labels = next(trainer)\n",
    "\n",
    "        out = evenRNN(words, lengths)\n",
    "\n",
    "        losslist.append(loss(out, labels))\n",
    "        losslist[-1].backward()\n",
    "\n",
    "        optim.step()\n",
    "        optim.zero_grad()\n",
    "\n",
    "    with torch.no_grad():\n",
    "        predictions = evenRNN.predict(testeven[0], testeven[1])\n",
    "        acc = torch.sum(predictions == testeven[2].reshape(-1), dim=0) * 100 / len(testeven[2])\n",
    "        print(f\"Done! Trainloss: {losslist[-1]:.6f}, Test accuracy: {acc:.4f}\")\n",
    "        "
   ]
  },
  {
   "cell_type": "code",
   "execution_count": 7,
   "metadata": {
    "metadata": {}
   },
   "outputs": [
    {
     "data": {
      "image/png": "[encoded data removed]",
      "text/plain": [
       "<Figure size 640x480 with 1 Axes>"
      ]
     },
     "metadata": {},
     "output_type": "display_data"
    }
   ],
   "source": [
    "with torch.no_grad():\n",
    "    plt.plot(losslist)\n",
    "    plt.show()"
   ]
  },
  {
   "cell_type": "markdown",
   "metadata": {},
   "source": [
    "### Sink"
   ]
  },
  {
   "cell_type": "code",
   "execution_count": 26,
   "metadata": {
    "metadata": {}
   },
   "outputs": [
    {
     "name": "stderr",
     "output_type": "stream",
     "text": [
      "Epoch 1...: 100%|██████████████████████████| 40/40 [00:01<00:00, 26.56it/s]\n"
     ]
    },
    {
     "name": "stdout",
     "output_type": "stream",
     "text": [
      "Done! Trainloss: 0.594802, Test accuracy: 66.5500\n"
     ]
    },
    {
     "name": "stderr",
     "output_type": "stream",
     "text": [
      "Epoch 2...: 100%|██████████████████████████| 40/40 [00:01<00:00, 29.94it/s]\n"
     ]
    },
    {
     "name": "stdout",
     "output_type": "stream",
     "text": [
      "Done! Trainloss: 0.482791, Test accuracy: 93.1000\n"
     ]
    },
    {
     "name": "stderr",
     "output_type": "stream",
     "text": [
      "Epoch 3...: 100%|██████████████████████████| 40/40 [00:01<00:00, 26.51it/s]\n"
     ]
    },
    {
     "name": "stdout",
     "output_type": "stream",
     "text": [
      "Done! Trainloss: 0.369897, Test accuracy: 96.5000\n"
     ]
    },
    {
     "name": "stderr",
     "output_type": "stream",
     "text": [
      "Epoch 4...: 100%|██████████████████████████| 40/40 [00:01<00:00, 31.41it/s]\n"
     ]
    },
    {
     "name": "stdout",
     "output_type": "stream",
     "text": [
      "Done! Trainloss: 0.266110, Test accuracy: 98.3500\n"
     ]
    },
    {
     "name": "stderr",
     "output_type": "stream",
     "text": [
      "Epoch 5...: 100%|██████████████████████████| 40/40 [00:01<00:00, 30.13it/s]\n"
     ]
    },
    {
     "name": "stdout",
     "output_type": "stream",
     "text": [
      "Done! Trainloss: 0.170753, Test accuracy: 99.0000\n"
     ]
    },
    {
     "name": "stderr",
     "output_type": "stream",
     "text": [
      "Epoch 6...: 100%|██████████████████████████| 40/40 [00:01<00:00, 22.58it/s]\n"
     ]
    },
    {
     "name": "stdout",
     "output_type": "stream",
     "text": [
      "Done! Trainloss: 0.126683, Test accuracy: 100.0000\n"
     ]
    },
    {
     "name": "stderr",
     "output_type": "stream",
     "text": [
      "Epoch 7...: 100%|██████████████████████████| 40/40 [00:01<00:00, 20.97it/s]\n"
     ]
    },
    {
     "name": "stdout",
     "output_type": "stream",
     "text": [
      "Done! Trainloss: 0.100963, Test accuracy: 100.0000\n"
     ]
    },
    {
     "name": "stderr",
     "output_type": "stream",
     "text": [
      "Epoch 8...: 100%|██████████████████████████| 40/40 [00:01<00:00, 24.38it/s]\n"
     ]
    },
    {
     "name": "stdout",
     "output_type": "stream",
     "text": [
      "Done! Trainloss: 0.073099, Test accuracy: 99.9500\n"
     ]
    },
    {
     "name": "stderr",
     "output_type": "stream",
     "text": [
      "Epoch 9...: 100%|██████████████████████████| 40/40 [00:01<00:00, 20.57it/s]\n"
     ]
    },
    {
     "name": "stdout",
     "output_type": "stream",
     "text": [
      "Done! Trainloss: 0.062200, Test accuracy: 100.0000\n"
     ]
    },
    {
     "name": "stderr",
     "output_type": "stream",
     "text": [
      "Epoch 10...: 100%|█████████████████████████| 40/40 [00:02<00:00, 16.78it/s]\n"
     ]
    },
    {
     "name": "stdout",
     "output_type": "stream",
     "text": [
      "Done! Trainloss: 0.043958, Test accuracy: 100.0000\n"
     ]
    },
    {
     "name": "stderr",
     "output_type": "stream",
     "text": [
      "Epoch 11...: 100%|█████████████████████████| 40/40 [00:01<00:00, 30.16it/s]\n"
     ]
    },
    {
     "name": "stdout",
     "output_type": "stream",
     "text": [
      "Done! Trainloss: 0.038664, Test accuracy: 100.0000\n"
     ]
    },
    {
     "name": "stderr",
     "output_type": "stream",
     "text": [
      "Epoch 12...: 100%|█████████████████████████| 40/40 [00:01<00:00, 20.44it/s]\n"
     ]
    },
    {
     "name": "stdout",
     "output_type": "stream",
     "text": [
      "Done! Trainloss: 0.038458, Test accuracy: 100.0000\n"
     ]
    },
    {
     "name": "stderr",
     "output_type": "stream",
     "text": [
      "Epoch 13...: 100%|█████████████████████████| 40/40 [00:01<00:00, 30.04it/s]\n"
     ]
    },
    {
     "name": "stdout",
     "output_type": "stream",
     "text": [
      "Done! Trainloss: 0.021763, Test accuracy: 100.0000\n"
     ]
    },
    {
     "name": "stderr",
     "output_type": "stream",
     "text": [
      "Epoch 14...: 100%|█████████████████████████| 40/40 [00:01<00:00, 31.04it/s]\n"
     ]
    },
    {
     "name": "stdout",
     "output_type": "stream",
     "text": [
      "Done! Trainloss: 0.021996, Test accuracy: 100.0000\n"
     ]
    },
    {
     "name": "stderr",
     "output_type": "stream",
     "text": [
      "Epoch 15...: 100%|█████████████████████████| 40/40 [00:01<00:00, 20.13it/s]\n"
     ]
    },
    {
     "name": "stdout",
     "output_type": "stream",
     "text": [
      "Done! Trainloss: 0.018498, Test accuracy: 100.0000\n"
     ]
    },
    {
     "name": "stderr",
     "output_type": "stream",
     "text": [
      "Epoch 16...: 100%|█████████████████████████| 40/40 [00:01<00:00, 25.59it/s]\n"
     ]
    },
    {
     "name": "stdout",
     "output_type": "stream",
     "text": [
      "Done! Trainloss: 0.018224, Test accuracy: 100.0000\n"
     ]
    },
    {
     "name": "stderr",
     "output_type": "stream",
     "text": [
      "Epoch 17...: 100%|█████████████████████████| 40/40 [00:01<00:00, 32.72it/s]\n"
     ]
    },
    {
     "name": "stdout",
     "output_type": "stream",
     "text": [
      "Done! Trainloss: 0.014182, Test accuracy: 100.0000\n"
     ]
    },
    {
     "name": "stderr",
     "output_type": "stream",
     "text": [
      "Epoch 18...: 100%|█████████████████████████| 40/40 [00:01<00:00, 31.77it/s]\n"
     ]
    },
    {
     "name": "stdout",
     "output_type": "stream",
     "text": [
      "Done! Trainloss: 0.015183, Test accuracy: 100.0000\n"
     ]
    },
    {
     "name": "stderr",
     "output_type": "stream",
     "text": [
      "Epoch 19...: 100%|█████████████████████████| 40/40 [00:01<00:00, 20.64it/s]\n"
     ]
    },
    {
     "name": "stdout",
     "output_type": "stream",
     "text": [
      "Done! Trainloss: 0.010113, Test accuracy: 100.0000\n"
     ]
    },
    {
     "name": "stderr",
     "output_type": "stream",
     "text": [
      "Epoch 20...: 100%|█████████████████████████| 40/40 [00:02<00:00, 18.69it/s]\n"
     ]
    },
    {
     "name": "stdout",
     "output_type": "stream",
     "text": [
      "Done! Trainloss: 0.009026, Test accuracy: 100.0000\n"
     ]
    },
    {
     "name": "stderr",
     "output_type": "stream",
     "text": [
      "Epoch 1...: 100%|██████████████████████████| 40/40 [00:01<00:00, 24.28it/s]\n"
     ]
    },
    {
     "name": "stdout",
     "output_type": "stream",
     "text": [
      "Done! Trainloss: 0.690113, Test accuracy: 50.6500\n"
     ]
    },
    {
     "name": "stderr",
     "output_type": "stream",
     "text": [
      "Epoch 2...: 100%|██████████████████████████| 40/40 [00:01<00:00, 31.35it/s]\n"
     ]
    },
    {
     "name": "stdout",
     "output_type": "stream",
     "text": [
      "Done! Trainloss: 0.652622, Test accuracy: 89.7500\n"
     ]
    },
    {
     "name": "stderr",
     "output_type": "stream",
     "text": [
      "Epoch 3...: 100%|██████████████████████████| 40/40 [00:01<00:00, 32.78it/s]\n"
     ]
    },
    {
     "name": "stdout",
     "output_type": "stream",
     "text": [
      "Done! Trainloss: 0.547891, Test accuracy: 89.7500\n"
     ]
    },
    {
     "name": "stderr",
     "output_type": "stream",
     "text": [
      "Epoch 4...: 100%|██████████████████████████| 40/40 [00:01<00:00, 32.35it/s]\n"
     ]
    },
    {
     "name": "stdout",
     "output_type": "stream",
     "text": [
      "Done! Trainloss: 0.391333, Test accuracy: 89.9000\n"
     ]
    },
    {
     "name": "stderr",
     "output_type": "stream",
     "text": [
      "Epoch 5...: 100%|██████████████████████████| 40/40 [00:01<00:00, 32.60it/s]\n"
     ]
    },
    {
     "name": "stdout",
     "output_type": "stream",
     "text": [
      "Done! Trainloss: 0.279510, Test accuracy: 95.7000\n"
     ]
    },
    {
     "name": "stderr",
     "output_type": "stream",
     "text": [
      "Epoch 6...: 100%|██████████████████████████| 40/40 [00:01<00:00, 35.03it/s]\n"
     ]
    },
    {
     "name": "stdout",
     "output_type": "stream",
     "text": [
      "Done! Trainloss: 0.217883, Test accuracy: 96.5000\n"
     ]
    },
    {
     "name": "stderr",
     "output_type": "stream",
     "text": [
      "Epoch 7...: 100%|██████████████████████████| 40/40 [00:01<00:00, 34.07it/s]\n"
     ]
    },
    {
     "name": "stdout",
     "output_type": "stream",
     "text": [
      "Done! Trainloss: 0.137260, Test accuracy: 96.9500\n"
     ]
    },
    {
     "name": "stderr",
     "output_type": "stream",
     "text": [
      "Epoch 8...: 100%|██████████████████████████| 40/40 [00:01<00:00, 33.34it/s]\n"
     ]
    },
    {
     "name": "stdout",
     "output_type": "stream",
     "text": [
      "Done! Trainloss: 0.098415, Test accuracy: 97.1500\n"
     ]
    },
    {
     "name": "stderr",
     "output_type": "stream",
     "text": [
      "Epoch 9...: 100%|██████████████████████████| 40/40 [00:01<00:00, 32.70it/s]\n"
     ]
    },
    {
     "name": "stdout",
     "output_type": "stream",
     "text": [
      "Done! Trainloss: 0.066848, Test accuracy: 99.3500\n"
     ]
    },
    {
     "name": "stderr",
     "output_type": "stream",
     "text": [
      "Epoch 10...: 100%|█████████████████████████| 40/40 [00:01<00:00, 29.54it/s]\n"
     ]
    },
    {
     "name": "stdout",
     "output_type": "stream",
     "text": [
      "Done! Trainloss: 0.052992, Test accuracy: 99.9500\n"
     ]
    },
    {
     "name": "stderr",
     "output_type": "stream",
     "text": [
      "Epoch 11...: 100%|█████████████████████████| 40/40 [00:01<00:00, 24.17it/s]\n"
     ]
    },
    {
     "name": "stdout",
     "output_type": "stream",
     "text": [
      "Done! Trainloss: 0.045680, Test accuracy: 100.0000\n"
     ]
    },
    {
     "name": "stderr",
     "output_type": "stream",
     "text": [
      "Epoch 12...: 100%|█████████████████████████| 40/40 [00:01<00:00, 33.79it/s]\n"
     ]
    },
    {
     "name": "stdout",
     "output_type": "stream",
     "text": [
      "Done! Trainloss: 0.028358, Test accuracy: 100.0000\n"
     ]
    },
    {
     "name": "stderr",
     "output_type": "stream",
     "text": [
      "Epoch 13...: 100%|█████████████████████████| 40/40 [00:01<00:00, 32.67it/s]\n"
     ]
    },
    {
     "name": "stdout",
     "output_type": "stream",
     "text": [
      "Done! Trainloss: 0.027980, Test accuracy: 99.9500\n"
     ]
    },
    {
     "name": "stderr",
     "output_type": "stream",
     "text": [
      "Epoch 14...: 100%|█████████████████████████| 40/40 [00:01<00:00, 32.78it/s]\n"
     ]
    },
    {
     "name": "stdout",
     "output_type": "stream",
     "text": [
      "Done! Trainloss: 0.025756, Test accuracy: 100.0000\n"
     ]
    },
    {
     "name": "stderr",
     "output_type": "stream",
     "text": [
      "Epoch 15...: 100%|█████████████████████████| 40/40 [00:01<00:00, 33.47it/s]\n"
     ]
    },
    {
     "name": "stdout",
     "output_type": "stream",
     "text": [
      "Done! Trainloss: 0.024122, Test accuracy: 100.0000\n"
     ]
    },
    {
     "name": "stderr",
     "output_type": "stream",
     "text": [
      "Epoch 16...: 100%|█████████████████████████| 40/40 [00:01<00:00, 32.85it/s]\n"
     ]
    },
    {
     "name": "stdout",
     "output_type": "stream",
     "text": [
      "Done! Trainloss: 0.015281, Test accuracy: 100.0000\n"
     ]
    },
    {
     "name": "stderr",
     "output_type": "stream",
     "text": [
      "Epoch 17...: 100%|█████████████████████████| 40/40 [00:01<00:00, 34.06it/s]\n"
     ]
    },
    {
     "name": "stdout",
     "output_type": "stream",
     "text": [
      "Done! Trainloss: 0.017795, Test accuracy: 100.0000\n"
     ]
    },
    {
     "name": "stderr",
     "output_type": "stream",
     "text": [
      "Epoch 18...: 100%|█████████████████████████| 40/40 [00:01<00:00, 30.58it/s]\n"
     ]
    },
    {
     "name": "stdout",
     "output_type": "stream",
     "text": [
      "Done! Trainloss: 0.015764, Test accuracy: 100.0000\n"
     ]
    },
    {
     "name": "stderr",
     "output_type": "stream",
     "text": [
      "Epoch 19...: 100%|█████████████████████████| 40/40 [00:01<00:00, 33.99it/s]\n"
     ]
    },
    {
     "name": "stdout",
     "output_type": "stream",
     "text": [
      "Done! Trainloss: 0.013330, Test accuracy: 100.0000\n"
     ]
    },
    {
     "name": "stderr",
     "output_type": "stream",
     "text": [
      "Epoch 20...: 100%|█████████████████████████| 40/40 [00:01<00:00, 32.54it/s]\n"
     ]
    },
    {
     "name": "stdout",
     "output_type": "stream",
     "text": [
      "Done! Trainloss: 0.013494, Test accuracy: 100.0000\n"
     ]
    }
   ],
   "source": [
    "sinkRNN = AutomataRNN(sink).to(device)\n",
    "\n",
    "loss = nn.CrossEntropyLoss()\n",
    "optim = torch.optim.Adam(sinkRNN.parameters(), lr=LEARNING_RATES)\n",
    "\n",
    "losslistnoinit = list()\n",
    "\n",
    "for epoch in range(N_EPOCH):\n",
    "    trainer = iter(sinkloader)\n",
    "    for _ in tqdm(range(len(sinkloader)), desc=f\"Epoch {epoch+1}...\", ncols=75):\n",
    "        words, lengths, labels = next(trainer)\n",
    "\n",
    "        out = sinkRNN(words, lengths)\n",
    "\n",
    "        losslistnoinit.append(loss(out, labels))\n",
    "        losslistnoinit[-1].backward()\n",
    "\n",
    "        optim.step()\n",
    "        optim.zero_grad()\n",
    "\n",
    "    with torch.no_grad():\n",
    "        predictions = sinkRNN.predict(testsink[0], testsink[1])\n",
    "        acc = torch.sum(predictions == testsink[2].reshape(-1), dim=0) * 100 / len(testsink[2])\n",
    "        print(f\"Done! Trainloss: {losslistnoinit[-1]:.6f}, Test accuracy: {acc:.4f}\")\n",
    "\n",
    "\n",
    "sinkRNN = AutomataRNN(sink).to(device)\n",
    "sinkRNN.absinit()\n",
    "\n",
    "loss = nn.CrossEntropyLoss()\n",
    "optim = torch.optim.Adam(sinkRNN.parameters(), lr=LEARNING_RATES)\n",
    "\n",
    "losslistinit = list()\n",
    "\n",
    "for epoch in range(N_EPOCH):\n",
    "    trainer = iter(sinkloader)\n",
    "    for _ in tqdm(range(len(sinkloader)), desc=f\"Epoch {epoch+1}...\", ncols=75):\n",
    "        words, lengths, labels = next(trainer)\n",
    "\n",
    "        out = sinkRNN(words, lengths)\n",
    "\n",
    "        losslistinit.append(loss(out, labels))\n",
    "        losslistinit[-1].backward()\n",
    "\n",
    "        optim.step()\n",
    "        optim.zero_grad()\n",
    "\n",
    "    with torch.no_grad():\n",
    "        predictions = sinkRNN.predict(testsink[0], testsink[1])\n",
    "        acc = torch.sum(predictions == testsink[2].reshape(-1), dim=0) * 100 / len(testsink[2])\n",
    "        print(f\"Done! Trainloss: {losslistinit[-1]:.6f}, Test accuracy: {acc:.4f}\")\n",
    "        "
   ]
  },
  {
   "cell_type": "code",
   "execution_count": 29,
   "metadata": {
    "metadata": {}
   },
   "outputs": [
    {
     "data": {
      "image/png": "[encoded data removed]",
      "text/plain": [
       "<Figure size 640x480 with 1 Axes>"
      ]
     },
     "metadata": {},
     "output_type": "display_data"
    }
   ],
   "source": [
    "with torch.no_grad():\n",
    "    plt.plot(losslistnoinit, label = \"Without init\")\n",
    "    plt.plot(losslistinit, \"r\", label=\"With init\")\n",
    "    plt.legend()\n",
    "    plt.show()\n",
    "    "
   ]
  },
  {
   "cell_type": "code",
   "execution_count": 23,
   "metadata": {
    "metadata": {}
   },
   "outputs": [
    {
     "name": "stderr",
     "output_type": "stream",
     "text": [
      "/home/mt-ubu2/Documents/Internship/RNN_autmata/automata.py:321: UserWarning: `max_try` limit reach. Final prop = 0.0002\n",
      "  warn(f\"`max_try` limit reach. Final prop = {sum(labels)/len(labels)}\")\n"
     ]
    }
   ],
   "source": [
    "sink.probas = \"equal\"\n",
    "\n",
    "sink.dataset(10000, meanlen = 12, max_try = 10000, random_state=690)\n",
    "\n",
    "sinkmoretest = next(iter(DataLoader(TorchData(sink), 10000)))\n",
    "\n",
    "with torch.no_grad():\n",
    "    predictions = sinkRNN.predict(sinkmoretest[0], sinkmoretest[1])\n",
    "    acc = torch.sum(predictions == sinkmoretest[2].reshape(-1), dim=0) * 100 / len(sinkmoretest[2])\n",
    "    print(f\"Test accuracy: {acc:.4f}\")"
   ]
  },
  {
   "cell_type": "code",
   "execution_count": 8,
   "metadata": {},
   "outputs": [
    {
     "name": "stderr",
     "output_type": "stream",
     "text": [
      "Epoch 1...: 100%|██████████████████████████| 40/40 [00:01<00:00, 25.35it/s]\n"
     ]
    },
    {
     "name": "stdout",
     "output_type": "stream",
     "text": [
      "Done! Trainloss: 0.522348, Test accuracy: 80.2500\n"
     ]
    },
    {
     "name": "stderr",
     "output_type": "stream",
     "text": [
      "Epoch 2...: 100%|██████████████████████████| 40/40 [00:01<00:00, 33.73it/s]\n"
     ]
    },
    {
     "name": "stdout",
     "output_type": "stream",
     "text": [
      "Done! Trainloss: 0.423122, Test accuracy: 89.7500\n"
     ]
    },
    {
     "name": "stderr",
     "output_type": "stream",
     "text": [
      "Epoch 3...: 100%|██████████████████████████| 40/40 [00:01<00:00, 33.40it/s]\n"
     ]
    },
    {
     "name": "stdout",
     "output_type": "stream",
     "text": [
      "Done! Trainloss: 0.307563, Test accuracy: 89.7500\n"
     ]
    },
    {
     "name": "stderr",
     "output_type": "stream",
     "text": [
      "Epoch 4...: 100%|██████████████████████████| 40/40 [00:01<00:00, 33.62it/s]\n"
     ]
    },
    {
     "name": "stdout",
     "output_type": "stream",
     "text": [
      "Done! Trainloss: 0.254592, Test accuracy: 90.2500\n"
     ]
    },
    {
     "name": "stderr",
     "output_type": "stream",
     "text": [
      "Epoch 5...: 100%|██████████████████████████| 40/40 [00:01<00:00, 33.40it/s]\n"
     ]
    },
    {
     "name": "stdout",
     "output_type": "stream",
     "text": [
      "Done! Trainloss: 0.220282, Test accuracy: 94.2500\n"
     ]
    },
    {
     "name": "stderr",
     "output_type": "stream",
     "text": [
      "Epoch 6...:  45%|███████████▋              | 18/40 [00:00<00:00, 27.83it/s]\n"
     ]
    },
    {
     "ename": "KeyboardInterrupt",
     "evalue": "",
     "output_type": "error",
     "traceback": [
      "\u001b[0;31m---------------------------------------------------------------------------\u001b[0m",
      "\u001b[0;31mKeyboardInterrupt\u001b[0m                         Traceback (most recent call last)",
      "Cell \u001b[0;32mIn[8], line 13\u001b[0m\n\u001b[1;32m     10\u001b[0m \u001b[38;5;28;01mfor\u001b[39;00m _ \u001b[38;5;129;01min\u001b[39;00m tqdm(\u001b[38;5;28mrange\u001b[39m(\u001b[38;5;28mlen\u001b[39m(sinkloader)), desc\u001b[38;5;241m=\u001b[39m\u001b[38;5;124mf\u001b[39m\u001b[38;5;124m\"\u001b[39m\u001b[38;5;124mEpoch \u001b[39m\u001b[38;5;132;01m{\u001b[39;00mepoch\u001b[38;5;241m+\u001b[39m\u001b[38;5;241m1\u001b[39m\u001b[38;5;132;01m}\u001b[39;00m\u001b[38;5;124m...\u001b[39m\u001b[38;5;124m\"\u001b[39m, ncols\u001b[38;5;241m=\u001b[39m\u001b[38;5;241m75\u001b[39m):\n\u001b[1;32m     11\u001b[0m     words, lengths, labels \u001b[38;5;241m=\u001b[39m \u001b[38;5;28mnext\u001b[39m(trainer)\n\u001b[0;32m---> 13\u001b[0m     out \u001b[38;5;241m=\u001b[39m \u001b[43msinkpRNN\u001b[49m\u001b[43m(\u001b[49m\u001b[43mwords\u001b[49m\u001b[43m,\u001b[49m\u001b[43m \u001b[49m\u001b[43mlengths\u001b[49m\u001b[43m)\u001b[49m\n\u001b[1;32m     15\u001b[0m     losslistnoinit\u001b[38;5;241m.\u001b[39mappend(loss(out, labels))\n\u001b[1;32m     16\u001b[0m     losslistnoinit[\u001b[38;5;241m-\u001b[39m\u001b[38;5;241m1\u001b[39m]\u001b[38;5;241m.\u001b[39mbackward()\n",
      "File \u001b[0;32m~/.local/lib/python3.10/site-packages/torch/nn/modules/module.py:1511\u001b[0m, in \u001b[0;36mModule._wrapped_call_impl\u001b[0;34m(self, *args, **kwargs)\u001b[0m\n\u001b[1;32m   1509\u001b[0m     \u001b[38;5;28;01mreturn\u001b[39;00m \u001b[38;5;28mself\u001b[39m\u001b[38;5;241m.\u001b[39m_compiled_call_impl(\u001b[38;5;241m*\u001b[39margs, \u001b[38;5;241m*\u001b[39m\u001b[38;5;241m*\u001b[39mkwargs)  \u001b[38;5;66;03m# type: ignore[misc]\u001b[39;00m\n\u001b[1;32m   1510\u001b[0m \u001b[38;5;28;01melse\u001b[39;00m:\n\u001b[0;32m-> 1511\u001b[0m     \u001b[38;5;28;01mreturn\u001b[39;00m \u001b[38;5;28;43mself\u001b[39;49m\u001b[38;5;241;43m.\u001b[39;49m\u001b[43m_call_impl\u001b[49m\u001b[43m(\u001b[49m\u001b[38;5;241;43m*\u001b[39;49m\u001b[43margs\u001b[49m\u001b[43m,\u001b[49m\u001b[43m \u001b[49m\u001b[38;5;241;43m*\u001b[39;49m\u001b[38;5;241;43m*\u001b[39;49m\u001b[43mkwargs\u001b[49m\u001b[43m)\u001b[49m\n",
      "File \u001b[0;32m~/.local/lib/python3.10/site-packages/torch/nn/modules/module.py:1520\u001b[0m, in \u001b[0;36mModule._call_impl\u001b[0;34m(self, *args, **kwargs)\u001b[0m\n\u001b[1;32m   1515\u001b[0m \u001b[38;5;66;03m# If we don't have any hooks, we want to skip the rest of the logic in\u001b[39;00m\n\u001b[1;32m   1516\u001b[0m \u001b[38;5;66;03m# this function, and just call forward.\u001b[39;00m\n\u001b[1;32m   1517\u001b[0m \u001b[38;5;28;01mif\u001b[39;00m \u001b[38;5;129;01mnot\u001b[39;00m (\u001b[38;5;28mself\u001b[39m\u001b[38;5;241m.\u001b[39m_backward_hooks \u001b[38;5;129;01mor\u001b[39;00m \u001b[38;5;28mself\u001b[39m\u001b[38;5;241m.\u001b[39m_backward_pre_hooks \u001b[38;5;129;01mor\u001b[39;00m \u001b[38;5;28mself\u001b[39m\u001b[38;5;241m.\u001b[39m_forward_hooks \u001b[38;5;129;01mor\u001b[39;00m \u001b[38;5;28mself\u001b[39m\u001b[38;5;241m.\u001b[39m_forward_pre_hooks\n\u001b[1;32m   1518\u001b[0m         \u001b[38;5;129;01mor\u001b[39;00m _global_backward_pre_hooks \u001b[38;5;129;01mor\u001b[39;00m _global_backward_hooks\n\u001b[1;32m   1519\u001b[0m         \u001b[38;5;129;01mor\u001b[39;00m _global_forward_hooks \u001b[38;5;129;01mor\u001b[39;00m _global_forward_pre_hooks):\n\u001b[0;32m-> 1520\u001b[0m     \u001b[38;5;28;01mreturn\u001b[39;00m \u001b[43mforward_call\u001b[49m\u001b[43m(\u001b[49m\u001b[38;5;241;43m*\u001b[39;49m\u001b[43margs\u001b[49m\u001b[43m,\u001b[49m\u001b[43m \u001b[49m\u001b[38;5;241;43m*\u001b[39;49m\u001b[38;5;241;43m*\u001b[39;49m\u001b[43mkwargs\u001b[49m\u001b[43m)\u001b[49m\n\u001b[1;32m   1522\u001b[0m \u001b[38;5;28;01mtry\u001b[39;00m:\n\u001b[1;32m   1523\u001b[0m     result \u001b[38;5;241m=\u001b[39m \u001b[38;5;28;01mNone\u001b[39;00m\n",
      "Cell \u001b[0;32mIn[6], line 25\u001b[0m, in \u001b[0;36mAutomataRNN.forward\u001b[0;34m(self, x, truelen)\u001b[0m\n\u001b[1;32m     23\u001b[0m h0[:,:,\u001b[38;5;241m0\u001b[39m] \u001b[38;5;241m=\u001b[39m \u001b[38;5;241m1\u001b[39m\n\u001b[1;32m     24\u001b[0m out, _ \u001b[38;5;241m=\u001b[39m \u001b[38;5;28mself\u001b[39m\u001b[38;5;241m.\u001b[39mrnn(x\u001b[38;5;241m.\u001b[39mto(device), h0)\n\u001b[0;32m---> 25\u001b[0m out \u001b[38;5;241m=\u001b[39m torch\u001b[38;5;241m.\u001b[39mstack([out[i, truelen[i] \u001b[38;5;241m-\u001b[39m\u001b[38;5;241m1\u001b[39m, :] \u001b[38;5;28;01mfor\u001b[39;00m i \u001b[38;5;129;01min\u001b[39;00m \u001b[38;5;28mrange\u001b[39m(out\u001b[38;5;241m.\u001b[39mshape[\u001b[38;5;241m0\u001b[39m])]) \u001b[38;5;66;03m#extract only the require prediction y for each batch\u001b[39;00m\n\u001b[1;32m     26\u001b[0m \u001b[38;5;28;01mreturn\u001b[39;00m \u001b[38;5;28mself\u001b[39m\u001b[38;5;241m.\u001b[39mtoclass(out)\n",
      "Cell \u001b[0;32mIn[6], line 25\u001b[0m, in \u001b[0;36m<listcomp>\u001b[0;34m(.0)\u001b[0m\n\u001b[1;32m     23\u001b[0m h0[:,:,\u001b[38;5;241m0\u001b[39m] \u001b[38;5;241m=\u001b[39m \u001b[38;5;241m1\u001b[39m\n\u001b[1;32m     24\u001b[0m out, _ \u001b[38;5;241m=\u001b[39m \u001b[38;5;28mself\u001b[39m\u001b[38;5;241m.\u001b[39mrnn(x\u001b[38;5;241m.\u001b[39mto(device), h0)\n\u001b[0;32m---> 25\u001b[0m out \u001b[38;5;241m=\u001b[39m torch\u001b[38;5;241m.\u001b[39mstack([out[i, truelen[i] \u001b[38;5;241m-\u001b[39m\u001b[38;5;241m1\u001b[39m, :] \u001b[38;5;28;01mfor\u001b[39;00m i \u001b[38;5;129;01min\u001b[39;00m \u001b[38;5;28mrange\u001b[39m(out\u001b[38;5;241m.\u001b[39mshape[\u001b[38;5;241m0\u001b[39m])]) \u001b[38;5;66;03m#extract only the require prediction y for each batch\u001b[39;00m\n\u001b[1;32m     26\u001b[0m \u001b[38;5;28;01mreturn\u001b[39;00m \u001b[38;5;28mself\u001b[39m\u001b[38;5;241m.\u001b[39mtoclass(out)\n",
      "\u001b[0;31mKeyboardInterrupt\u001b[0m: "
     ]
    }
   ],
   "source": [
    "sinkpRNN = ParametrizeRNN(sink)\n",
    "\n",
    "loss = nn.CrossEntropyLoss()\n",
    "optim = torch.optim.Adam(sinkpRNN.parameters(), lr=LEARNING_RATES)\n",
    "\n",
    "losslistnoinit = list()\n",
    "\n",
    "for epoch in range(N_EPOCH):\n",
    "    trainer = iter(sinkloader)\n",
    "    for _ in tqdm(range(len(sinkloader)), desc=f\"Epoch {epoch+1}...\", ncols=75):\n",
    "        words, lengths, labels = next(trainer)\n",
    "\n",
    "        out = sinkpRNN(words, lengths)\n",
    "\n",
    "        losslistnoinit.append(loss(out, labels))\n",
    "        losslistnoinit[-1].backward()\n",
    "\n",
    "        optim.step()\n",
    "        optim.zero_grad()\n",
    "\n",
    "    with torch.no_grad():\n",
    "        predictions = sinkpRNN.predict(testsink[0], testsink[1])\n",
    "        acc = torch.sum(predictions == testsink[2].reshape(-1), dim=0) * 100 / len(testsink[2])\n",
    "        print(f\"Done! Trainloss: {losslistnoinit[-1]:.6f}, Test accuracy: {acc:.4f}\")"
   ]
  },
  {
   "cell_type": "code",
   "execution_count": 33,
   "metadata": {},
   "outputs": [
    {
     "data": {
      "text/plain": [
       "OrderedDict([('rnn.weight_ih_l0',\n",
       "              tensor([[2., 0., 0.],\n",
       "                      [0., 2., 0.],\n",
       "                      [0., 0., 2.],\n",
       "                      [2., 0., 0.],\n",
       "                      [0., 2., 0.],\n",
       "                      [0., 0., 2.],\n",
       "                      [2., 0., 0.],\n",
       "                      [0., 2., 0.],\n",
       "                      [0., 0., 2.],\n",
       "                      [2., 0., 0.],\n",
       "                      [0., 2., 0.],\n",
       "                      [0., 0., 2.],\n",
       "                      [2., 0., 0.],\n",
       "                      [0., 2., 0.],\n",
       "                      [0., 0., 2.]])),\n",
       "             ('rnn.parametrizations.weight_hh_l0.original',\n",
       "              tensor([[ 3.0350e-02,  8.1429e-02,  1.5326e-01,  3.1146e-01,  2.2061e-01,\n",
       "                       -1.0504e-02,  3.9433e-01,  1.3945e-01, -1.3715e-02, -1.3643e-01,\n",
       "                       -1.4261e-01,  9.4098e-02,  8.0064e-02,  9.9869e-02,  1.3513e-01],\n",
       "                      [ 1.7059e-01, -1.8528e-01,  2.5554e-01, -1.2984e-01,  3.0299e-02,\n",
       "                        1.7115e-01,  1.6845e-01, -2.0724e-01, -1.8992e-01,  6.8438e-01,\n",
       "                        3.8606e-02, -1.8140e-01, -4.8763e-01,  4.8074e-02, -1.7973e-01],\n",
       "                      [-3.3644e-02,  1.2548e-01,  1.4904e-02, -5.3794e-03, -6.6022e-02,\n",
       "                        2.2367e-01,  3.8280e-01, -2.2995e-01, -1.2115e-01, -1.2036e-01,\n",
       "                       -1.1230e-01,  1.3238e-01,  3.3723e-01,  1.2879e-01,  1.1123e-01],\n",
       "                      [-4.6012e-01,  4.6951e-02,  5.9140e-02,  7.1237e-02, -5.1306e-02,\n",
       "                       -1.1597e-01, -5.3583e-01,  1.1760e-01, -5.0447e-02, -5.2749e-01,\n",
       "                        9.9833e-02,  3.9383e-02,  8.0309e-02, -1.0852e-01,  8.6347e-02],\n",
       "                      [ 8.9657e-02,  1.6549e-02, -1.3020e-01,  2.1647e-01, -1.7161e-01,\n",
       "                       -1.7138e-01, -1.2917e-01, -1.5405e-01, -1.8930e-01,  1.9423e-02,\n",
       "                        9.5964e-02, -1.3998e-01, -1.3324e-01, -1.4704e-01, -4.3177e-02],\n",
       "                      [-1.0019e-01, -2.4363e-01, -8.8365e-02,  5.0489e-03,  2.1039e-01,\n",
       "                       -1.0622e-01,  3.0731e-01,  1.0746e-01, -2.0171e-01,  5.3180e-01,\n",
       "                        5.1443e-02,  1.1723e-01, -6.6797e-01,  2.1770e-01,  3.8423e-02],\n",
       "                      [ 1.4202e-02, -1.3668e-01, -6.7946e-02,  1.3264e-01,  2.3063e-01,\n",
       "                       -1.4376e-01,  1.6424e-01, -1.4928e-01, -1.0297e-01,  1.2352e-01,\n",
       "                        1.0875e-01,  8.8105e-02,  1.5783e-02,  8.7663e-02, -1.3164e-01],\n",
       "                      [ 2.1906e-02, -5.0665e-02,  1.5621e-01, -2.3774e-01,  1.1495e-01,\n",
       "                       -1.9741e-01,  2.5586e-01,  2.3180e-01, -1.8520e-01,  5.7001e-01,\n",
       "                        1.7346e-01,  5.7302e-02, -1.5992e-01, -2.0881e-02, -1.5759e-01],\n",
       "                      [ 2.2210e-01,  2.0089e-01,  1.6601e-01,  9.8752e-02,  1.9032e-02,\n",
       "                        2.1780e-01,  3.5144e-01,  2.1070e-01, -2.2724e-01, -3.3761e-01,\n",
       "                        1.0340e-01, -2.4704e-01,  2.7760e-01,  2.3533e-01, -4.4065e-02],\n",
       "                      [-1.2620e-01, -1.5815e-01, -1.7256e-01, -5.9701e-02, -1.7433e-01,\n",
       "                       -2.4135e-01, -5.3540e-01,  2.3630e-01, -3.7617e-03, -4.2215e-01,\n",
       "                        2.2006e-01,  1.6249e-01, -1.6393e-01, -1.2565e-01,  8.8627e-02],\n",
       "                      [ 1.5323e-01, -2.1447e-01,  1.7192e-01,  3.1654e-02,  2.2018e-01,\n",
       "                       -6.1017e-02,  6.3647e-02, -1.8363e-01,  2.0547e-01,  3.1973e-01,\n",
       "                        2.5165e-01,  1.7953e-01, -3.5971e-01,  1.9093e-01, -1.0079e-01],\n",
       "                      [ 4.1268e-01, -5.7002e-02, -2.3705e-01, -3.0556e-01,  1.0698e-01,\n",
       "                       -2.0688e-02,  7.1426e-02, -6.6521e-02,  6.2843e-02, -1.7597e-01,\n",
       "                       -7.7049e-02,  2.5656e-01, -1.7546e-01,  1.3183e-01, -1.7481e-01],\n",
       "                      [-2.2134e-01,  1.5185e-01, -2.0489e-02,  3.1642e-01,  1.1558e-01,\n",
       "                       -2.0905e-01,  1.1330e-01,  1.7740e-01,  2.4587e-01, -1.9978e-03,\n",
       "                       -2.3970e-01, -2.9979e-04,  3.8888e-01,  4.8639e-02,  2.0118e-01],\n",
       "                      [ 1.5048e-01,  2.0891e-01, -7.0954e-02,  2.1876e-01, -2.3410e-01,\n",
       "                        1.5492e-02, -1.4212e-01,  1.2596e-01, -1.1258e-01, -4.4165e-01,\n",
       "                       -6.4613e-02,  8.8901e-03,  2.6433e-01,  4.2026e-03, -9.3388e-02],\n",
       "                      [-1.7077e-01, -2.0861e-01,  1.3568e-01,  3.9091e-01, -1.2938e-01,\n",
       "                        7.1706e-02, -1.5626e-01, -1.4020e-01,  1.9916e-01,  3.3762e-01,\n",
       "                        1.2977e-01, -9.8048e-02, -1.7554e-01,  1.5278e-01,  2.5110e-01]])),\n",
       "             ('toclass.weight',\n",
       "              tensor([[ 0.1134,  0.7943,  0.0878, -0.4488,  0.2023,  0.6214, -0.1797,  0.4645,\n",
       "                       -0.1113, -0.5257,  0.5564,  0.2846, -0.0634,  0.1167,  0.2818],\n",
       "                      [-0.1087, -0.5961, -0.0338,  0.6309, -0.1418, -0.6108, -0.0050, -0.3880,\n",
       "                        0.0320,  0.5160, -0.3242, -0.2140,  0.3713,  0.1230, -0.3124]]))])"
      ]
     },
     "execution_count": 33,
     "metadata": {},
     "output_type": "execute_result"
    }
   ],
   "source": [
    "sinkpRNN.state_dict()"
   ]
  }
 ],
 "metadata": {
  "kernelspec": {
   "display_name": "Python 3",
   "language": "python",
   "name": "python3"
  },
  "language_info": {
   "codemirror_mode": {
    "name": "ipython",
    "version": 3
   },
   "file_extension": ".py",
   "mimetype": "text/x-python",
   "name": "python",
   "nbconvert_exporter": "python",
   "pygments_lexer": "ipython3",
   "version": "3.10.12"
  }
 },
 "nbformat": 4,
 "nbformat_minor": 2
}
